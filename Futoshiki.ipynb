{
  "nbformat": 4,
  "nbformat_minor": 0,
  "metadata": {
    "colab": {
      "provenance": [],
      "authorship_tag": "ABX9TyOSqlew4Wzl6rTc3YnSIuN6",
      "include_colab_link": true
    },
    "kernelspec": {
      "name": "python3",
      "display_name": "Python 3"
    },
    "language_info": {
      "name": "python"
    }
  },
  "cells": [
    {
      "cell_type": "markdown",
      "metadata": {
        "id": "view-in-github",
        "colab_type": "text"
      },
      "source": [
        "<a href=\"https://colab.research.google.com/github/sasha704/conjure-notebook/blob/tutorials/Futoshiki.ipynb\" target=\"_parent\"><img src=\"https://colab.research.google.com/assets/colab-badge.svg\" alt=\"Open In Colab\"/></a>"
      ]
    },
    {
      "cell_type": "markdown",
      "source": [
        "# Futoshiki\n",
        "Adapted from [Futoshiki](https://conjure.readthedocs.io/en/latest/tutorials.html#futoshiki) by Ruth Hoffmann and Gökberk Koçak"
      ],
      "metadata": {
        "id": "Hb26fiIv_enr"
      }
    },
    {
      "cell_type": "markdown",
      "source": [
        "## Problem"
      ],
      "metadata": {
        "id": "U59hSFC__0c1"
      }
    },
    {
      "cell_type": "code",
      "source": [
        " !source <(curl https://raw.githubusercontent.com/conjure-cp/conjure-notebook/main/installcolab.sh)\n",
        " %load_ext conjure"
      ],
      "metadata": {
        "colab": {
          "base_uri": "https://localhost:8080/",
          "height": 173
        },
        "id": "dTKv5TR6_mTg",
        "outputId": "b1910a03-6894-43f6-adbf-5e35802658b1"
      },
      "execution_count": null,
      "outputs": [
        {
          "output_type": "stream",
          "name": "stdout",
          "text": [
            "  % Total    % Received % Xferd  Average Speed   Time    Time     Time  Current\n",
            "                                 Dload  Upload   Total   Spent    Left  Speed\n",
            "100   697  100   697    0     0   1883      0 --:--:-- --:--:-- --:--:--  1883\n",
            "Installing Conjure...\n",
            "Conjure: The Automated Constraint Modelling Tool\n",
            "Release version 2.4.0\n",
            "Repository version a7382e3d9 (2022-11-21 10:41:03 +0000)\n"
          ]
        },
        {
          "output_type": "display_data",
          "data": {
            "text/plain": [
              "<IPython.core.display.Javascript object>"
            ],
            "application/javascript": [
              "\"use strict\";\n",
              "\n",
              "CodeMirror.defineMode(\"text/conjure\", function (config) {\n",
              "\n",
              "    var isOperatorChar = /[+\\-*=<>%^\\/]/;\n",
              "\n",
              "    var keywords = {\n",
              "        \"forall\": true,\n",
              "        \"allDifferent\": true,\n",
              "        \"allDiff\": true,\n",
              "        \"alldifferent_except\": true,\n",
              "        \"dim\": true,\n",
              "        \"toSet\": true,\n",
              "        \"toMSet\": true,\n",
              "        \"toRelation\": true,\n",
              "        \"maximising\": true,\n",
              "        \"minimising\": true,\n",
              "        \"forAll\": true,\n",
              "        \"exists\": true,\n",
              "        \"toInt\": true,\n",
              "        \"sum\": true,\n",
              "        \"be\": true,\n",
              "        \"bijective\": true,\n",
              "        \"bool\": true,\n",
              "        \"by\": true,\n",
              "        \"complete\": true,\n",
              "        \"defined\": true,\n",
              "        \"domain\": true,\n",
              "        \"in\": true,\n",
              "        \"or\": true,\n",
              "        \"and\": true,\n",
              "        \"false\": true,\n",
              "        \"find\": true,\n",
              "        \"from\": true,\n",
              "        \"function\": true,\n",
              "        \"given\": true,\n",
              "        \"image\": true,\n",
              "        \"indexed\": true,\n",
              "        \"injective\": true,\n",
              "        \"int\": true,\n",
              "        \"intersect\": true,\n",
              "        \"freq\": true,\n",
              "        \"lambda\": true,\n",
              "        \"language\": true,\n",
              "        \"letting\": true,\n",
              "        \"matrix\": true,\n",
              "        \"maxNumParts\": true,\n",
              "        \"maxOccur\": true,\n",
              "        \"maxPartSize\": true,\n",
              "        \"maxSize\": true,\n",
              "        \"minNumParts\": true,\n",
              "        \"minOccur\": true,\n",
              "        \"minPartSize\": true,\n",
              "        \"minSize\": true,\n",
              "        \"mset\": true,\n",
              "        \"numParts\": true,\n",
              "        \"of\": true,\n",
              "        \"partial\": true,\n",
              "        \"partition\": true,\n",
              "        \"partSize\": true,\n",
              "        \"preImage\": true,\n",
              "        \"quantifier\": true,\n",
              "        \"range\": true,\n",
              "        \"regular\": true,\n",
              "        \"relation\": true,\n",
              "        \"representation\": true,\n",
              "        \"set\": true,\n",
              "        \"size\": true,\n",
              "        \"subset\": true,\n",
              "        \"subsetEq\": true,\n",
              "        \"such\": true,\n",
              "        \"supset\": true,\n",
              "        \"supsetEq\": true,\n",
              "        \"surjective\": true,\n",
              "        \"that\": true,\n",
              "        \"together\": true,\n",
              "        \"enum\": true,\n",
              "        \"total\": true,\n",
              "        \"true\": true,\n",
              "        \"new\": true,\n",
              "        \"type\": true,\n",
              "        \"tuple\": true,\n",
              "        \"union\": true,\n",
              "        \"where\": true,\n",
              "        \"branching\": true,\n",
              "        \"on\": true\n",
              "    };  \n",
              "    var punc = \":;,.(){}[]\";\n",
              "\n",
              "    function tokenBase(stream, state) {\n",
              "        var ch = stream.next();\n",
              "        if (ch == '\"') {\n",
              "            state.tokenize.push(tokenString);\n",
              "            return tokenString(stream, state);\n",
              "        }\n",
              "        if (/[\\d\\.]/.test(ch)) {\n",
              "            if (ch == \".\") {\n",
              "                stream.match(/^[0-9]+([eE][\\-+]?[0-9]+)?/);\n",
              "            } else if (ch == \"0\") {\n",
              "                stream.match(/^[xX][0-9a-fA-F]+/) || stream.match(/^0[0-7]+/);\n",
              "            } else {\n",
              "                stream.match(/^[0-9]*\\.?[0-9]*([eE][\\-+]?[0-9]+)?/);\n",
              "            }\n",
              "            return \"number\";\n",
              "        }\n",
              "        if (ch == \"/\") {\n",
              "            if (stream.eat(\"*\")) {\n",
              "                state.tokenize.push(tokenComment);\n",
              "                return tokenComment(stream, state);\n",
              "            }\n",
              "        }\n",
              "        if (ch == \"$\") {\n",
              "            stream.skipToEnd();\n",
              "            return \"comment\";\n",
              "        }\n",
              "        if (isOperatorChar.test(ch)) {\n",
              "            stream.eatWhile(isOperatorChar);\n",
              "            return \"operator\";\n",
              "        }\n",
              "        if (punc.indexOf(ch) > -1) {\n",
              "            return \"punctuation\";\n",
              "        }\n",
              "        stream.eatWhile(/[\\w\\$_\\xa1-\\uffff]/);\n",
              "        var cur = stream.current();\n",
              "        \n",
              "        if (keywords.propertyIsEnumerable(cur)) {\n",
              "            return \"keyword\";\n",
              "        }\n",
              "        return \"variable\";\n",
              "    }\n",
              "\n",
              "    function tokenComment(stream, state) {\n",
              "        var maybeEnd = false, ch;\n",
              "        while (ch = stream.next()) {\n",
              "            if (ch == \"/\" && maybeEnd) {\n",
              "                state.tokenize.pop();\n",
              "                break;\n",
              "            }\n",
              "            maybeEnd = (ch == \"*\");\n",
              "        }\n",
              "        return \"comment\";\n",
              "    }\n",
              "\n",
              "    function tokenUntilClosingParen() {\n",
              "        var depth = 0;\n",
              "        return function (stream, state, prev) {\n",
              "            var inner = tokenBase(stream, state, prev);\n",
              "            console.log(\"untilClosing\", inner, stream.current());\n",
              "            if (inner == \"punctuation\") {\n",
              "                if (stream.current() == \"(\") {\n",
              "                    ++depth;\n",
              "                } else if (stream.current() == \")\") {\n",
              "                    if (depth == 0) {\n",
              "                        stream.backUp(1)\n",
              "                        state.tokenize.pop()\n",
              "                        return state.tokenize[state.tokenize.length - 1](stream, state)\n",
              "                    } else {\n",
              "                        --depth;\n",
              "                    }\n",
              "                }\n",
              "            }\n",
              "            return inner;\n",
              "        }\n",
              "    }\n",
              "\n",
              "    function tokenString(stream, state) {\n",
              "        var escaped = false, next, end = false;\n",
              "        while ((next = stream.next()) != null) {\n",
              "            if (next == '(' && escaped) {\n",
              "                state.tokenize.push(tokenUntilClosingParen());\n",
              "                return \"string\";\n",
              "            }\n",
              "            if (next == '\"' && !escaped) { end = true; break; }\n",
              "            escaped = !escaped && next == \"\\\\\";\n",
              "        }\n",
              "        if (end || !escaped)\n",
              "            state.tokenize.pop();\n",
              "        return \"string\";\n",
              "    }\n",
              "\n",
              "    return {\n",
              "        startState: function (basecolumn) {\n",
              "            return {\n",
              "                tokenize: []\n",
              "            };\n",
              "        },\n",
              "\n",
              "        token: function (stream, state) {\n",
              "            if (stream.eatSpace()) return null;\n",
              "            var style = (state.tokenize[state.tokenize.length - 1] || tokenBase)(stream, state);\n",
              "            console.log(\"token\", style);\n",
              "            return style;\n",
              "        },\n",
              "\n",
              "        blockCommentStart: \"/*\",\n",
              "        blockCommentEnd: \"*/\",\n",
              "        lineComment: \"$\"\n",
              "    };\n",
              "});\n",
              "\n",
              "\n",
              "CodeMirror.defineMIME(\"text/conjure\", \"text/conjure\");\n",
              "\n",
              "require(['notebook/js/codecell'], function (codecell) {\n",
              "    codecell.CodeCell.options_default.highlight_modes['magic_text/conjure'] = { 'reg': [/%?%conjure/] };\n",
              "    Jupyter.notebook.events.one('kernel_ready.Kernel', function () {\n",
              "        Jupyter.notebook.get_cells().map(function (cell) {\n",
              "            if (cell.cell_type == 'code') { cell.auto_highlight(); }\n",
              "        });\n",
              "    });\n",
              "});\n",
              "\n"
            ]
          },
          "metadata": {}
        },
        {
          "output_type": "stream",
          "name": "stdout",
          "text": [
            "Conjure extension is loaded.\n",
            "For usage help run: %conjure_help\n"
          ]
        }
      ]
    },
    {
      "cell_type": "markdown",
      "source": [
        "`n x n` board where each column and row is filled with the unique numbers from 1 to `n`, similar to a sudoku. In contrast to sudoku, there are less than and greater than symbols between cells indicating that one cell has to be filled with a number greater than (or less than) than the cell on the other side of the operator.\n",
        "\n",
        "\n",
        "![example.webp](data:image/webp;base64,UklGRhwOAABXRUJQVlA4TA8OAAAv7oF6APWK4rZtHGn/tZNcL8+ImACOroMm1DEO5re6OIMtdiKiaN9hnQkbuHA5//+fdpPn5IxJbW+2bWNLOtl2u9m2bdu2cc6Jzv9XfK9+dTu7e/Cfw7njnc7rzr/MmfoAPDAMAKBM///mZts2goMAAMhW0Wz7tm3bts3+Q2IjSZHkml7ePWaMrz9q21Y57f8PSKARJMHrbsHdXes4vFzr7u7u7u6G13Hqijv1Nl4SLAES4A9P+Gev56UxEsiaVIIlUzLpnWw6oW0oWRWykydsMi9kqCWlgU2fzMAiA+vFIGsYNL4i+g8LkiRFVQ7SuMMKPP17CAAfbBMEAKqDxcMOPpKvqmzxHP2ws//Yfz5nXJH4+t00pE41DkblzH0w/GsdRR6V7FVsXlm62q9KDF0PAHjiY8e2sYr2Ssc7kfgTk1WOfyy0rku0Y9zSCU/6jMl3H4DAuiiIKs4yEXQ4+g6qM/c0iK70mLyyarNcEGSyOJcF/uuN37JNG33Y+rhisyXH8x7E5lMvYx7MrYK1O/pywCptHJavtgTeRdh3i8X5ydxGtglc9S1z539SEhhnaJ0y1fcnVySOHLtn1yUXoDfDnwOPCCVb3mnM8BR3XpDfLMC+SFF+2X+LOJs8BLShmrO4IEiYXVdoq7Bnis0ryTBbutr9Wmv/8s0mKMtt4I+1oa43yUVZ8oAqo839ubNbULZ6t6SbuiaNmwpBWY7ly64fcgRkZ3+qljfTWuv0PAHZZ8st+CePAQdkgc5JS5t+Jgt47F79qtxtDQvGAj3ysmX9Dwh8bF/4sXX1LAq3FCwYC3RPG3EXxi4JvF3ciftDKxg79dHWj/Mn9ZFkwdihh6/srCyfw5s9eRzB2NZT+6ANBdlt1WZ5vDCW98Pyw2jbT1UEYs6ixZGuDdXdxfGXFSANizezNw8H5wUpQEv0fMz21kXlScz+Y//5rOD2/pcmGfWx7Kn/5hu6XXqjsn5GTx5dYfeDr+2AyAQbnjgxw0YJt9nzts7mSMz4lf230sQJkqQud+U7CKzH69WPzC5NBACqfvZrX/yqL9rq78yv/ecUIqySWMrDoF3oHL4bi7TMWt2w1/YiLmnmPQ4oqK6Upi86qZ45yka3DjdUSQZYprPf2von5UyjxMm3O9EjuB+ybsm2nF46rRJ4Wb0avtvlpZuKayhVXXPs21ROIyrH8AuYjQFSZzm8lgEhXdufW3pTKdbKMGmUTU80VX/vTCIOIMcRT1nQhLB9Ot0+LxXGvJRl6zqygNJ7+HBvB4DN9pwVHjjooF63tnf8PUaGhTFVp7/9Hc3bDDNVrHgfQCVFyejWZPBy7im2txNyPFmF+I6IeYp93rlzys5aAJ6Vrp7YdUh3Psu36jltoYl5MWUuaWaCknMxYW3u/v1OUk607dLpIwRDm5N7YPLoNEKheNfznzFWoGPudnmRdVIs0g6K5/caSmuQpQ1fPCXQHXPJVp76lBsqZqbFdeXSDsgLgmqEWmHuzcJ1fWyxTTCICx3fVA8Nj60X7/r3UwNWS3Ngqy7EatXh9CJSDiDDGeECBDwyS6MmxxZPFamSPHfIIxsEVtR1yi9ltwTQzrF39BrkY/Fe47l2Ukjime+o54TE6jXisvKbawBsvYfNcnPEI3zWS0eTg7TDP2hlylhnyiZ09SF2AOppKk5dgngahWSTcpEOu4/z7m3NAdoldf+WwRVg20rVQy2QTnCaSAyemdcaCazdbTBxd0kLwK3zce+OdOr4BDk5fbK2GWP9yVXmzcdWuTg5Lb5rpT3S+SZ2QC2MYIbNey46N4+N/f+rErQ7BTPJgIqzoIdNV9HNVCJxdWNY8h+mi+GOuGf/sf98IlEcko8Y5SH5eCEQko8WCiH5YKEQkg8WEiH5WCERko8VGiH5UKERkg8VGqnpnuLOC/IbXmiE5EOFRkg+VGiE5EOFRkg+VEiE5GOFREg+ViiE5IOFQkg+WAiE5KNFfUg+XNSH5MNFeUg+XlSH5ANGcUg+YtSG5ENGaUg+ZlSG5INGYUg+atSF5MNGWUg+blSF5ANHTUg+dJSE5GOHSnu4ty4qDzv7j/3nlc7t/S9Noj3sP/Yf+49lxP4T368R9+w/ZhRLKxQsSmPidPUYdEYrOtar1cgUnVnEfba00qo3UBnNtPm42lY5fTqjMsu4j/Ok2ygDOnv7nsnpNdBZX9MGf9qZw5r5T7FBY76RLjrJcJLNZjcwQWK6DX0WiLnEK6vVAAaJ1dnHW51Lktyr0TthLAKTzD9hjRbADr9z1DcnBHmxdOvokgBYpVz9UEIQmInHRUU/BNhk6TWhbgiMNms5cjcA1VQlrm1BEwT209SrC6cD0Ko4dX4Ei8Dkr91YVRsgdb7LmvckBH311320vDMvAfCPe7E3jcDMdO+yHS/CAZlCGhkSgr7Yd5v+Nl4V87LsqyAEYH3Nq1feMTGXMuexT+kiMJY2njNKJuSkGV0eIQSB0fL1B+XgYdGmVR9zRGHOwY1Xva8NGltXu345g8D6m8/x8vbl8Ca71ja0YBGYZesbimgppZ4zbuvMsASBCUY5bQmQYvzC7gpC/gmNaXLKfCkWbz7XQ+KMxGj9xyqEqyrVcx/2vJxGYWyf136t+rkvdsh1xjQTZwRGSJjkgeIbAxbrHNpejsT6MxOXVFJTqmoX838JiRESFnfFNl9hCI+4zlSAxOiwHy4prq7iuq78lSuRGCEmE1flCVDiRWUXvtkTiVmavXxVPnVOqlX5s1eRGGFNfjg2rxhgfNXqyxkURvp3Wx+SHgBPOKJeVyRGGN2HD8ieADQWBMXbsCiMEL3HggLUAbaf/ehXCiTWa16dw7IBJJtyuIcREiPkLc/J6SIB8l/wtJsCiTERa8tMAJDv9EWnOCRGyMtX7rmFVFW97PnPmSqQGDH0L6MFoL69f5Q5GpOv/LX0Zlg1VZXoQDRGyMTTi2moSDP4jEZlps3OnPMTSusrb/A/fkBWdMb2M4k6cT4fnRGisK83K/y2eeiMEHvJ6C/lKM3ZXhyhQGmEEEL+6z9vZW7vf2kS7WGjKb6a96aNbpfeqIwWrl9cYXeXtR0ohbOEPzoqKtRYMEyYzeNHRX0XKqZKgg1PDPeWYr89l4yWUwizZ36+yt//3qeCh4m3HG739//gvpZUKdjDK0YzYQJRQLmRyylERE13+1KSSgvq8vtY/z+d2tHmT/YSyW/PaEyN3F6vPin7RhwA8Pzs1/7wlTNV8L2tWloOQOHyiCttPazzG/dUBcDKHb3cqVB/Z37tySlEWJlYysOgXegLvhtLEZionytsC6CewVb8ujU/qdv25qV+AK4ZnRxCKfH//drqhqV2Ik6WeY8DCroqpemLTvI0p4y45OrKEzQA7Hzut4mzhg3e03+XEiB+zt73UeI+3TrcUCUeEsp0nNbWPylnGiVOvt2JHsb9WGogf8fxg/EAvpvvHv6yNTyxuNAEIeDRPgEGllS4XcvppdOqAG+iV8N3u7wUXdxXqeqaY0VTOU0oojrd45VDG2BdkYubia1If+ZxowfkTQqGPDyPCvO7Tccx0wBSv394LQNCxO1nlV4nxVoZJo2y6UkVff4+68/wBkgkCvy0gxWtD8rKwwDFrl9pQVOh+nvPF3EAOY74MIwmhGU63V40FcY8h7J1HVlCEaUXHjJcE/Am886caxI21GdUhh95+JrUABN2/bF1FypMgfFR3g4Am+05q2ngoIN63dp+/PcYGRbGVL0htAdlNIqeOs3bncOy0bOfN6T7D2X5Tt2xOhgL5cpfm1PhcYaZKla8D6CSomT01CE96/YUl9teyKnKKsQvpIpTtDQed6W9ppCnnW3y6q8UQ/nWEldXsnNPIFpna9POlwIxy++csrMWgKdiavshNZ9Yy2/qOW2hiXkxZS5pZkIoouI6XFUmhofFM508v1EMHmnFxPsqTBNxwhEf3L9EQIFzMWFt7p6xkzSR6Ie9bmgpGNqc3OrJo9MIheJdz38mWEER17Ggczwj43FCu3J1hzBUaRF3XbF1vIQi94MaO/ZhKTB3+6XIOikWyYPi+b2Gci2ztOGLpwS6Yy7ZylUfUscBQqdXs9PAskVjo1tH0APThpmXLE2npipbsE8Ng14UmJkWH5RLOyAvCKoRaoW5tzCT9bHFNsGgOTykqR5lNJAcH660WRKMfXOO6cSwhI1odUZ6KWCZn8sUYyo8tl6Gn2UJAByZ5kBvq3Z8OnxaRMoBZDgjXEAVA7lf8R851vsnUE0rmTWxK228flI+XxVlQOCFTd6jwGxpNM29eKpIZfLcIY9sEFiReMovZRcBaOfYO3oNZTyRmofvG6WuqtQoHv3smw3PyhiJEzsErppOgYlYSBrPtZOCyDPf7OeMiNVrhH/5z30Btt7DZrmcIp5J6WCPE7dLjpVpRnuN/G2QOwcB3121xo2mQMJFXjqaHKQtdF0rU8ZaraoHfOwAXMMqXr2EMt5EJa83u8TnkUrXTLv5RXLJ/Mqt9+hNEwrUKCSblIt02P0CbwFrzWnLurYZXAG2rVQ91IJQxJY93vTfNQ1gZWIOg1+1uw0HdIWo0BlhkRhSZV5rZO1BDdrkEZe0ANw6H/fulBHNmkdX8FMFANmIKbUXDsiUqI7PAU5On6xt1sf61zLDf2yVi5PT4rtWUklDavnIcgrNSJnd5PsEhCrrm9gBtbAbM2yGRTrPiY196UuJM4WQj/72N4WzfnrQT6E0ZTKTDKi4YTStbOlmKpG4ulHM4OaXNucvu6SOMUHmYlyFBsERiv/6/0vce+VE3LP/2H/sP/Yf+4/9x/5j/zGF2H/C/kfcCwA=)"
      ],
      "metadata": {
        "id": "2DOlv_Cl_7K3"
      }
    },
    {
      "cell_type": "markdown",
      "source": [
        "## Instance"
      ],
      "metadata": {
        "id": "7mIcMmujEkSQ"
      }
    },
    {
      "cell_type": "markdown",
      "source": [
        "The definition of the instance below contains the information about our starting board of a specific instance that we want to solve. See the picture at the beginning to see what it looks like."
      ],
      "metadata": {
        "id": "Dz0uFOj3FI7r"
      }
    },
    {
      "cell_type": "code",
      "source": [
        "%conjure_clear"
      ],
      "metadata": {
        "colab": {
          "base_uri": "https://localhost:8080/"
        },
        "id": "KBAIpSOKSfGo",
        "outputId": "56a923e4-b871-4456-ba1b-8b0029f27127"
      },
      "execution_count": null,
      "outputs": [
        {
          "output_type": "stream",
          "name": "stdout",
          "text": [
            "Conjure model cleared\n"
          ]
        }
      ]
    },
    {
      "cell_type": "code",
      "source": [
        "%%conjure\n",
        "\n",
        "letting n be 4"
      ],
      "metadata": {
        "colab": {
          "base_uri": "https://localhost:8080/"
        },
        "id": "vUmoBT79QyAp",
        "outputId": "593726b3-cae7-423b-845c-01cd1ffbf81d"
      },
      "execution_count": null,
      "outputs": [
        {
          "output_type": "execute_result",
          "data": {
            "text/plain": [
              "{}"
            ]
          },
          "metadata": {},
          "execution_count": 24
        }
      ]
    },
    {
      "cell_type": "markdown",
      "source": [
        "We are dealing with a 4 by 4 board."
      ],
      "metadata": {
        "id": "yhJqZq7YFUyQ"
      }
    },
    {
      "cell_type": "code",
      "source": [
        "%%conjure\n",
        "\n",
        "letting hints be function(\n",
        "        (1,1) --> 2,\n",
        "        (2,2) --> 2\n",
        ")"
      ],
      "metadata": {
        "colab": {
          "base_uri": "https://localhost:8080/"
        },
        "id": "hA8zsbcwQ2_6",
        "outputId": "1fa12615-1a9f-4905-9dbe-c2a9bf9eeb63"
      },
      "execution_count": null,
      "outputs": [
        {
          "output_type": "execute_result",
          "data": {
            "text/plain": [
              "{}"
            ]
          },
          "metadata": {},
          "execution_count": 25
        }
      ]
    },
    {
      "cell_type": "markdown",
      "source": [
        "There will be two `2` s on the board given as a hint. One in the top left corner `(1,1)` and the second number 2 in cell `(2,2)`."
      ],
      "metadata": {
        "id": "FK76ksfWFdde"
      }
    },
    {
      "cell_type": "code",
      "source": [
        "%%conjure\n",
        "\n",
        "letting less_than be relation(\n",
        "        ((1,1) , (2,1)),\n",
        "        ((4,2) , (3,2)),\n",
        "        ((3,3) , (3,4)),\n",
        "        ((3,4) , (4,4))\n",
        ")"
      ],
      "metadata": {
        "colab": {
          "base_uri": "https://localhost:8080/"
        },
        "id": "tkpqtndrQ8bk",
        "outputId": "3aa91d68-ffd0-4d31-c60c-d40dfd63998f"
      },
      "execution_count": null,
      "outputs": [
        {
          "output_type": "execute_result",
          "data": {
            "text/plain": [
              "{}"
            ]
          },
          "metadata": {},
          "execution_count": 26
        }
      ]
    },
    {
      "cell_type": "markdown",
      "source": [
        "There are 4 relation symbols on the board, between cells."
      ],
      "metadata": {
        "id": "292rBj6cF4dy"
      }
    },
    {
      "cell_type": "markdown",
      "source": [
        "## Solving the problem step by step"
      ],
      "metadata": {
        "id": "ePFid8u6AS2U"
      }
    },
    {
      "cell_type": "markdown",
      "source": [
        "The line by line explanation of the model starts here."
      ],
      "metadata": {
        "id": "UjSa9brNBPo0"
      }
    },
    {
      "cell_type": "code",
      "source": [
        "%%conjure\n",
        "\n",
        "letting DOMAIN be domain int(1..n)"
      ],
      "metadata": {
        "colab": {
          "base_uri": "https://localhost:8080/"
        },
        "id": "fCMtDamfSOSI",
        "outputId": "931055e3-2515-4556-b0af-679aae41f7b9"
      },
      "execution_count": null,
      "outputs": [
        {
          "output_type": "execute_result",
          "data": {
            "text/plain": [
              "{}"
            ]
          },
          "metadata": {},
          "execution_count": 27
        }
      ]
    },
    {
      "cell_type": "markdown",
      "source": [
        "We start at 1 and go up to `n` (for both the elements of the cells and the cell locations)."
      ],
      "metadata": {
        "id": "Vk22ri4YCBHQ"
      }
    },
    {
      "cell_type": "code",
      "source": [
        "%%conjure\n",
        "\n",
        "find board : matrix indexed by [DOMAIN, DOMAIN] of DOMAIN"
      ],
      "metadata": {
        "colab": {
          "base_uri": "https://localhost:8080/"
        },
        "id": "poiZlqPmSzYC",
        "outputId": "723b0a1d-d504-4ffb-e8aa-1347c22564c1"
      },
      "execution_count": null,
      "outputs": [
        {
          "output_type": "execute_result",
          "data": {
            "text/plain": [
              "{'board': {'1': {'1': 1, '2': 1, '3': 1, '4': 1},\n",
              "  '2': {'1': 1, '2': 1, '3': 1, '4': 1},\n",
              "  '3': {'1': 1, '2': 1, '3': 1, '4': 1},\n",
              "  '4': {'1': 1, '2': 1, '3': 1, '4': 1}}}"
            ]
          },
          "metadata": {},
          "execution_count": 28
        }
      ]
    },
    {
      "cell_type": "markdown",
      "source": [
        "We are now telling the solver that we are trying to find a `n x n` board with elements from 1 to `n` in each cell."
      ],
      "metadata": {
        "id": "Awdg2ZmICVzt"
      }
    },
    {
      "cell_type": "markdown",
      "source": [
        "`such that` indicates the beginning of the constraints block."
      ],
      "metadata": {
        "id": "TO4WlU3ICc5e"
      }
    },
    {
      "cell_type": "code",
      "source": [
        "%%conjure\n",
        "\n",
        "such that forAll (hint,num) in hints .\n",
        "        board[hint[1], hint[2]] = num,"
      ],
      "metadata": {
        "colab": {
          "base_uri": "https://localhost:8080/"
        },
        "id": "h0CC7hO9V0ER",
        "outputId": "15ab6b67-5136-4a3e-d49b-5ce5bfef7cfe"
      },
      "execution_count": null,
      "outputs": [
        {
          "output_type": "execute_result",
          "data": {
            "text/plain": [
              "{'board': {'1': {'1': 2, '2': 1, '3': 1, '4': 1},\n",
              "  '2': {'1': 1, '2': 2, '3': 1, '4': 1},\n",
              "  '3': {'1': 1, '2': 1, '3': 1, '4': 1},\n",
              "  '4': {'1': 1, '2': 1, '3': 1, '4': 1}}}"
            ]
          },
          "metadata": {},
          "execution_count": 29
        }
      ]
    },
    {
      "cell_type": "markdown",
      "source": [
        "This constraint defines the hints, so the cells that are filled in when we get the puzzle."
      ],
      "metadata": {
        "id": "fjaEYcrwCkcp"
      }
    },
    {
      "cell_type": "code",
      "source": [
        "%%conjure\n",
        "\n",
        "such that forAll i: DOMAIN .\n",
        "        allDiff(board[i,..]),"
      ],
      "metadata": {
        "colab": {
          "base_uri": "https://localhost:8080/"
        },
        "id": "3teSEg_oV_P3",
        "outputId": "a69df2c0-a7f9-4c65-b381-c0b779d37caa"
      },
      "execution_count": null,
      "outputs": [
        {
          "output_type": "execute_result",
          "data": {
            "text/plain": [
              "{'board': {'1': {'1': 2, '2': 1, '3': 3, '4': 4},\n",
              "  '2': {'1': 1, '2': 2, '3': 3, '4': 4},\n",
              "  '3': {'1': 1, '2': 2, '3': 3, '4': 4},\n",
              "  '4': {'1': 1, '2': 2, '3': 3, '4': 4}}}"
            ]
          },
          "metadata": {},
          "execution_count": 30
        }
      ]
    },
    {
      "cell_type": "markdown",
      "source": [
        "This constraint defines that every cell in a row has to be a unique number between 1 and n."
      ],
      "metadata": {
        "id": "235I1jCgEWrl"
      }
    },
    {
      "cell_type": "code",
      "source": [
        "%%conjure\n",
        "\n",
        "such that forAll j: DOMAIN .\n",
        "        allDiff(board[..,j]),"
      ],
      "metadata": {
        "colab": {
          "base_uri": "https://localhost:8080/"
        },
        "id": "yW83rA4tWI1D",
        "outputId": "2da6a2dc-49ba-4bc6-d489-8d7f7c191772"
      },
      "execution_count": null,
      "outputs": [
        {
          "output_type": "execute_result",
          "data": {
            "text/plain": [
              "{'board': {'1': {'1': 2, '2': 1, '3': 3, '4': 4},\n",
              "  '2': {'1': 1, '2': 2, '3': 4, '4': 3},\n",
              "  '3': {'1': 3, '2': 4, '3': 1, '4': 2},\n",
              "  '4': {'1': 4, '2': 3, '3': 2, '4': 1}}}"
            ]
          },
          "metadata": {},
          "execution_count": 31
        }
      ]
    },
    {
      "cell_type": "markdown",
      "source": [
        "This constraint defines that every cell in a column has to be a unique number between 1 and n."
      ],
      "metadata": {
        "id": "vC0XcQshEboo"
      }
    },
    {
      "cell_type": "code",
      "source": [
        "%%conjure\n",
        "\n",
        "such that forAll (l,g) in less_than .\n",
        "        board[l[1],l[2]] < board[g[1],g[2]]"
      ],
      "metadata": {
        "colab": {
          "base_uri": "https://localhost:8080/"
        },
        "id": "uuOgwJkoWRmi",
        "outputId": "79e9073c-91b0-4749-afd6-2803870b31a5"
      },
      "execution_count": null,
      "outputs": [
        {
          "output_type": "execute_result",
          "data": {
            "text/plain": [
              "{'board': {'1': {'1': 2, '2': 1, '3': 4, '4': 3},\n",
              "  '2': {'1': 4, '2': 2, '3': 3, '4': 1},\n",
              "  '3': {'1': 3, '2': 4, '3': 1, '4': 2},\n",
              "  '4': {'1': 1, '2': 3, '3': 2, '4': 4}}}"
            ]
          },
          "metadata": {},
          "execution_count": 32
        }
      ]
    },
    {
      "cell_type": "markdown",
      "source": [
        "Finally this constraint enforces the less than relation. `l` is the number that is the cell that contains the number that is less than then the cell `g`."
      ],
      "metadata": {
        "id": "hVtaESWqEhHp"
      }
    },
    {
      "cell_type": "markdown",
      "source": [
        "## Visualising the results"
      ],
      "metadata": {
        "id": "fr_wb1LrF7cl"
      }
    },
    {
      "cell_type": "markdown",
      "source": [
        "Printing the result gives us:"
      ],
      "metadata": {
        "id": "aYpytpZZGU39"
      }
    },
    {
      "cell_type": "code",
      "source": [
        "for row in board:\n",
        "  for square in board[row]:\n",
        "    print(board[row][square], end=\" \")\n",
        "  print(\"\")"
      ],
      "metadata": {
        "colab": {
          "base_uri": "https://localhost:8080/"
        },
        "id": "B4eEEhuMGcCt",
        "outputId": "0db4194d-4764-44e2-b50c-06157dc38599"
      },
      "execution_count": null,
      "outputs": [
        {
          "output_type": "stream",
          "name": "stdout",
          "text": [
            "2 1 4 3 \n",
            "4 2 3 1 \n",
            "3 4 1 2 \n",
            "1 3 2 4 \n"
          ]
        }
      ]
    }
  ]
}