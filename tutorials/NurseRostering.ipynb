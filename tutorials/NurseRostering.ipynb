{
  "cells": [
    {
      "cell_type": "markdown",
      "metadata": {
        "id": "view-in-github",
        "colab_type": "text"
      },
      "source": [
        "<a href=\"https://colab.research.google.com/github/sasha704/conjure-notebook/blob/tutorials/NurseRostering.ipynb\" target=\"_parent\"><img src=\"https://colab.research.google.com/assets/colab-badge.svg\" alt=\"Open In Colab\"/></a>"
      ]
    },
    {
      "cell_type": "markdown",
      "metadata": {
        "id": "G0mPqC-63XVl"
      },
      "source": [
        "#Nurse Rostering"
      ]
    },
    {
      "cell_type": "markdown",
      "metadata": {
        "id": "sT5HA7OR3a_f"
      },
      "source": [
        "Adapted from [Nurse Rostering](https://conjure.readthedocs.io/en/latest/tutorials.html#nurse-rostering) by András Salamon, Nguyen Dang and Saad Attieh"
      ]
    },
    {
      "cell_type": "markdown",
      "metadata": {
        "id": "eyp734R43ttT"
      },
      "source": [
        "We now discuss a version of [Nurse Rostering](https://en.wikipedia.org/wiki/Nurse_scheduling_problem), a constrained scheduling problem. Variants of this problem are also known by other names, such as workforce planning and staff scheduling. Unlike versions of this problem studied by operations research practitioners and researchers (such as competition instances [CDDC+19](https://conjure.readthedocs.io/en/latest/zreferences.html#id4), we here focus on just a few of the simplest constraints.\n",
        "\n",
        "Some nurses are available to work in a hospital. Each day is divided into a sequence of shifts, for instance an early-morning shift, a day shift, and a night shift. Each nurse should be assigned to work some shifts during the course of a period of consecutive days. A nurse can be assigned to at most one shift per day. Moreover, for each nurse we need to avoid some forbidden shift patterns within two consecutive days. For example, a nurse cannot work a night shift on one day, and an early-morning shift the next day. We also must make sure to meet the minimum number of nurses required for each shift. These demand values may vary between different days."
      ]
    },
    {
      "cell_type": "code",
      "execution_count": null,
      "metadata": {
        "colab": {
          "base_uri": "https://localhost:8080/",
          "height": 173
        },
        "id": "tc3lNb_Q-7TL",
        "outputId": "ccc952cb-6bae-4b70-eecb-def2f02cfec6"
      },
      "outputs": [
        {
          "output_type": "stream",
          "name": "stdout",
          "text": [
            "  % Total    % Received % Xferd  Average Speed   Time    Time     Time  Current\n",
            "                                 Dload  Upload   Total   Spent    Left  Speed\n",
            "\r  0     0    0     0    0     0      0      0 --:--:-- --:--:-- --:--:--     0\r100   697  100   697    0     0   3727      0 --:--:-- --:--:-- --:--:--  3747\n",
            "Installing Conjure...\n",
            "Conjure: The Automated Constraint Modelling Tool\n",
            "Release version 2.4.0\n",
            "Repository version a7382e3d9 (2022-11-21 10:41:03 +0000)\n"
          ]
        },
        {
          "output_type": "display_data",
          "data": {
            "text/plain": [
              "<IPython.core.display.Javascript object>"
            ],
            "application/javascript": [
              "\"use strict\";\n",
              "\n",
              "CodeMirror.defineMode(\"text/conjure\", function (config) {\n",
              "\n",
              "    var isOperatorChar = /[+\\-*=<>%^\\/]/;\n",
              "\n",
              "    var keywords = {\n",
              "        \"forall\": true,\n",
              "        \"allDifferent\": true,\n",
              "        \"allDiff\": true,\n",
              "        \"alldifferent_except\": true,\n",
              "        \"dim\": true,\n",
              "        \"toSet\": true,\n",
              "        \"toMSet\": true,\n",
              "        \"toRelation\": true,\n",
              "        \"maximising\": true,\n",
              "        \"minimising\": true,\n",
              "        \"forAll\": true,\n",
              "        \"exists\": true,\n",
              "        \"toInt\": true,\n",
              "        \"sum\": true,\n",
              "        \"be\": true,\n",
              "        \"bijective\": true,\n",
              "        \"bool\": true,\n",
              "        \"by\": true,\n",
              "        \"complete\": true,\n",
              "        \"defined\": true,\n",
              "        \"domain\": true,\n",
              "        \"in\": true,\n",
              "        \"or\": true,\n",
              "        \"and\": true,\n",
              "        \"false\": true,\n",
              "        \"find\": true,\n",
              "        \"from\": true,\n",
              "        \"function\": true,\n",
              "        \"given\": true,\n",
              "        \"image\": true,\n",
              "        \"indexed\": true,\n",
              "        \"injective\": true,\n",
              "        \"int\": true,\n",
              "        \"intersect\": true,\n",
              "        \"freq\": true,\n",
              "        \"lambda\": true,\n",
              "        \"language\": true,\n",
              "        \"letting\": true,\n",
              "        \"matrix\": true,\n",
              "        \"maxNumParts\": true,\n",
              "        \"maxOccur\": true,\n",
              "        \"maxPartSize\": true,\n",
              "        \"maxSize\": true,\n",
              "        \"minNumParts\": true,\n",
              "        \"minOccur\": true,\n",
              "        \"minPartSize\": true,\n",
              "        \"minSize\": true,\n",
              "        \"mset\": true,\n",
              "        \"numParts\": true,\n",
              "        \"of\": true,\n",
              "        \"partial\": true,\n",
              "        \"partition\": true,\n",
              "        \"partSize\": true,\n",
              "        \"preImage\": true,\n",
              "        \"quantifier\": true,\n",
              "        \"range\": true,\n",
              "        \"regular\": true,\n",
              "        \"relation\": true,\n",
              "        \"representation\": true,\n",
              "        \"set\": true,\n",
              "        \"size\": true,\n",
              "        \"subset\": true,\n",
              "        \"subsetEq\": true,\n",
              "        \"such\": true,\n",
              "        \"supset\": true,\n",
              "        \"supsetEq\": true,\n",
              "        \"surjective\": true,\n",
              "        \"that\": true,\n",
              "        \"together\": true,\n",
              "        \"enum\": true,\n",
              "        \"total\": true,\n",
              "        \"true\": true,\n",
              "        \"new\": true,\n",
              "        \"type\": true,\n",
              "        \"tuple\": true,\n",
              "        \"union\": true,\n",
              "        \"where\": true,\n",
              "        \"branching\": true,\n",
              "        \"on\": true\n",
              "    };  \n",
              "    var punc = \":;,.(){}[]\";\n",
              "\n",
              "    function tokenBase(stream, state) {\n",
              "        var ch = stream.next();\n",
              "        if (ch == '\"') {\n",
              "            state.tokenize.push(tokenString);\n",
              "            return tokenString(stream, state);\n",
              "        }\n",
              "        if (/[\\d\\.]/.test(ch)) {\n",
              "            if (ch == \".\") {\n",
              "                stream.match(/^[0-9]+([eE][\\-+]?[0-9]+)?/);\n",
              "            } else if (ch == \"0\") {\n",
              "                stream.match(/^[xX][0-9a-fA-F]+/) || stream.match(/^0[0-7]+/);\n",
              "            } else {\n",
              "                stream.match(/^[0-9]*\\.?[0-9]*([eE][\\-+]?[0-9]+)?/);\n",
              "            }\n",
              "            return \"number\";\n",
              "        }\n",
              "        if (ch == \"/\") {\n",
              "            if (stream.eat(\"*\")) {\n",
              "                state.tokenize.push(tokenComment);\n",
              "                return tokenComment(stream, state);\n",
              "            }\n",
              "        }\n",
              "        if (ch == \"$\") {\n",
              "            stream.skipToEnd();\n",
              "            return \"comment\";\n",
              "        }\n",
              "        if (isOperatorChar.test(ch)) {\n",
              "            stream.eatWhile(isOperatorChar);\n",
              "            return \"operator\";\n",
              "        }\n",
              "        if (punc.indexOf(ch) > -1) {\n",
              "            return \"punctuation\";\n",
              "        }\n",
              "        stream.eatWhile(/[\\w\\$_\\xa1-\\uffff]/);\n",
              "        var cur = stream.current();\n",
              "        \n",
              "        if (keywords.propertyIsEnumerable(cur)) {\n",
              "            return \"keyword\";\n",
              "        }\n",
              "        return \"variable\";\n",
              "    }\n",
              "\n",
              "    function tokenComment(stream, state) {\n",
              "        var maybeEnd = false, ch;\n",
              "        while (ch = stream.next()) {\n",
              "            if (ch == \"/\" && maybeEnd) {\n",
              "                state.tokenize.pop();\n",
              "                break;\n",
              "            }\n",
              "            maybeEnd = (ch == \"*\");\n",
              "        }\n",
              "        return \"comment\";\n",
              "    }\n",
              "\n",
              "    function tokenUntilClosingParen() {\n",
              "        var depth = 0;\n",
              "        return function (stream, state, prev) {\n",
              "            var inner = tokenBase(stream, state, prev);\n",
              "            console.log(\"untilClosing\", inner, stream.current());\n",
              "            if (inner == \"punctuation\") {\n",
              "                if (stream.current() == \"(\") {\n",
              "                    ++depth;\n",
              "                } else if (stream.current() == \")\") {\n",
              "                    if (depth == 0) {\n",
              "                        stream.backUp(1)\n",
              "                        state.tokenize.pop()\n",
              "                        return state.tokenize[state.tokenize.length - 1](stream, state)\n",
              "                    } else {\n",
              "                        --depth;\n",
              "                    }\n",
              "                }\n",
              "            }\n",
              "            return inner;\n",
              "        }\n",
              "    }\n",
              "\n",
              "    function tokenString(stream, state) {\n",
              "        var escaped = false, next, end = false;\n",
              "        while ((next = stream.next()) != null) {\n",
              "            if (next == '(' && escaped) {\n",
              "                state.tokenize.push(tokenUntilClosingParen());\n",
              "                return \"string\";\n",
              "            }\n",
              "            if (next == '\"' && !escaped) { end = true; break; }\n",
              "            escaped = !escaped && next == \"\\\\\";\n",
              "        }\n",
              "        if (end || !escaped)\n",
              "            state.tokenize.pop();\n",
              "        return \"string\";\n",
              "    }\n",
              "\n",
              "    return {\n",
              "        startState: function (basecolumn) {\n",
              "            return {\n",
              "                tokenize: []\n",
              "            };\n",
              "        },\n",
              "\n",
              "        token: function (stream, state) {\n",
              "            if (stream.eatSpace()) return null;\n",
              "            var style = (state.tokenize[state.tokenize.length - 1] || tokenBase)(stream, state);\n",
              "            console.log(\"token\", style);\n",
              "            return style;\n",
              "        },\n",
              "\n",
              "        blockCommentStart: \"/*\",\n",
              "        blockCommentEnd: \"*/\",\n",
              "        lineComment: \"$\"\n",
              "    };\n",
              "});\n",
              "\n",
              "\n",
              "CodeMirror.defineMIME(\"text/conjure\", \"text/conjure\");\n",
              "\n",
              "require(['notebook/js/codecell'], function (codecell) {\n",
              "    codecell.CodeCell.options_default.highlight_modes['magic_text/conjure'] = { 'reg': [/%?%conjure/] };\n",
              "    Jupyter.notebook.events.one('kernel_ready.Kernel', function () {\n",
              "        Jupyter.notebook.get_cells().map(function (cell) {\n",
              "            if (cell.cell_type == 'code') { cell.auto_highlight(); }\n",
              "        });\n",
              "    });\n",
              "});\n",
              "\n"
            ]
          },
          "metadata": {}
        },
        {
          "output_type": "stream",
          "name": "stdout",
          "text": [
            "Conjure extension is loaded.\n",
            "For usage help run: %conjure_help\n"
          ]
        }
      ],
      "source": [
        " !source <(curl https://raw.githubusercontent.com/conjure-cp/conjure-notebook/main/installcolab.sh)\n",
        " %load_ext conjure"
      ]
    },
    {
      "cell_type": "markdown",
      "metadata": {
        "id": "cFk1jIuP38LE"
      },
      "source": [
        "##Initial specification"
      ]
    },
    {
      "cell_type": "markdown",
      "metadata": {
        "id": "JwAsti574JRJ"
      },
      "source": [
        "To begin with, let’s ignore the forbidden patterns, and focus instead on the elements needed to model the problem. We need nurses, shifts for each day, the minimum demand, and a roster."
      ]
    },
    {
      "cell_type": "markdown",
      "metadata": {
        "id": "T1zikM3e9xl-"
      },
      "source": [
        "`given nNurses, nDays : int(1..)`\n",
        "\n",
        "`given shifts new type enum`\n",
        "\n",
        "`letting days be domain int(1..nDays)`\n",
        "\n",
        "`letting nurses be domain int(1..nNurses)`\n",
        "\n",
        "`letting nShifts be |'shifts'|`\n",
        "\n",
        "`given forbiddenPatterns : set of tuple (shifts, shifts)`\n",
        "\n",
        "`given minimumDemand : function (total) (days, shifts) --> int(0..nNurses)`\n",
        "\n",
        "`where`\n",
        "\n",
        "   `forAll d : days .`\n",
        "\n",
        "  `(sum s : shifts . minimumDemand((d,s))) <= nNurses`\n",
        "\n",
        "`find roster: function (days, shifts) --> nurses`\n",
        "\n",
        "`$ constraint 1 (Single assignment per day)`\n",
        "\n",
        "`$ a nurse can be assigned to at most one shift per day`\n",
        "\n",
        "`such that`\n",
        "\n",
        "`forAll nurse : nurses .`\n",
        "\n",
        "`forAll day : days .`\n",
        "\n",
        "`(sum ((d,_),n) in roster . toInt(n=nurse /\\ d=day)) <= 1`"
      ]
    },
    {
      "cell_type": "markdown",
      "metadata": {
        "id": "jOAzUfPt-lYH"
      },
      "source": [
        "This specification contains the basic elements. We made the choice to use an enumerated type for shifts, positive integers to number the nurses and the days, a set of forbidden patterns (each being a pair of shifts), and a total function mapping each shift slot to a number of nurses to represent the minimum demands. Because we only allow a nurse to work one shift each day, the forbidden patterns can only apply to one day and the next day, with the first shift in a forbidden pattern referring to the first day and the second shift referring to the subsequent day. We also added a `where` condition to ensure that instances are not trivially impossible, by requiring the minimum demand to never exceed the number of nurses."
      ]
    },
    {
      "cell_type": "markdown",
      "metadata": {
        "id": "_7i2Q2GG-utJ"
      },
      "source": [
        "We also need a test instance. Generating test instances is an interesting subject (for instance, see [AkgunDM+19](https://conjure.readthedocs.io/en/latest/zreferences.html#id5)) but here we have just made one up."
      ]
    },
    {
      "cell_type": "code",
      "execution_count": null,
      "metadata": {
        "colab": {
          "base_uri": "https://localhost:8080/"
        },
        "id": "VPvjN0O4_EOo",
        "outputId": "a1f8fb07-ff9f-40cf-d259-cb664d087973"
      },
      "outputs": [
        {
          "output_type": "execute_result",
          "data": {
            "text/plain": [
              "{}"
            ]
          },
          "metadata": {},
          "execution_count": 2
        }
      ],
      "source": [
        "%%conjure\n",
        "letting nNurses be 5\n",
        "letting nDays be 7\n",
        "letting shifts be new type enum {Early, Late, Night}\n",
        "letting forbiddenPatterns be {\n",
        "   (Late,Early), (Night,Early), (Night,Late)\n",
        "}\n",
        "letting minimumDemand be function (\n",
        "   (1,Early) --> 2, (1,Late) --> 2, (1,Night) --> 0,\n",
        "   (2,Early) --> 1, (2,Late) --> 1, (2,Night) --> 2,\n",
        "   (3,Early) --> 1, (3,Late) --> 1, (3,Night) --> 1,\n",
        "   (4,Early) --> 0, (4,Late) --> 0, (4,Night) --> 1,\n",
        "   (5,Early) --> 1, (5,Late) --> 1, (5,Night) --> 2,\n",
        "   (6,Early) --> 2, (6,Late) --> 1, (6,Night) --> 1,\n",
        "   (7,Early) --> 0, (7,Late) --> 1, (7,Night) --> 1\n",
        ")\n",
        "letting days be domain int(1..nDays)\n",
        "letting nurses be domain int(1..nNurses)\n",
        "letting nShifts be |`shifts`|"
      ]
    },
    {
      "cell_type": "markdown",
      "metadata": {
        "id": "GZWxlTxR_Mc0"
      },
      "source": [
        "We have 5 nurses, 7 days in the period, three shifts each day, three forbidden pairs of shifts, and some minimum demands for the various shifts."
      ]
    },
    {
      "cell_type": "markdown",
      "metadata": {
        "id": "qsGFV5Dv_OOQ"
      },
      "source": [
        "##Changing an overly restrictive assumption"
      ]
    },
    {
      "cell_type": "markdown",
      "metadata": {
        "id": "fv7fysoh_QtW"
      },
      "source": [
        "However, on further reflection this first specification is not correct. Since roster is a function `(days, shifts) --> nurses` only one nurse can be assigned to the same shift of the same day. This means that if the minimum demand asks for 2 or more nurses for a particular day and shift, then we can’t satisfy this demand. We need to remove the overly restrictive assumption enforced by our choice of representation for roster.\n",
        "\n",
        "\n",
        "Let’s change the representation of `roster`, leaving the specification exactly the same up to and including the `where` condition. Instead of mapping each day/shift pair to a single nurse, we could map each day/shift pair to a set of nurses, map each nurse to a set of day/shift pairs, or map each combination of day and nurse to a shift (but with not all combinations needing to be assigned). Each of these choices leads to a slightly different way to model the problem; here we have picked the last. It is left as an exercise to try the others!"
      ]
    },
    {
      "cell_type": "code",
      "execution_count": null,
      "metadata": {
        "colab": {
          "base_uri": "https://localhost:8080/"
        },
        "id": "cYZ6AFfc_jhm",
        "outputId": "a6948340-96f4-489b-b9a0-471379f532de"
      },
      "outputs": [
        {
          "output_type": "stream",
          "name": "stderr",
          "text": [
            "Exception: Error:\n",
            "    In a 'such that' statement:\n",
            "        and([and([!((roster(d, n), roster(d + 1, n)) in forbiddenPatterns) | n : nurses]) | d : int(1..nDays - 1)])\n",
            "    Error: Type error in (relation projection) roster(d, n)\n",
            "\n"
          ]
        }
      ],
      "source": [
        "%%conjure --solver=minion\n",
        "find roster: function (days, nurses) --> shifts\n",
        "$ constraint 1 (Single assignment per day)\n",
        "$ a nurse can be assigned to at most one shift per day\n",
        "$ NOTE: automatically satisfied because of how \"roster\" is defined\n",
        "\n",
        "$ constraint 2 (Under staffing)\n",
        "$ the number of nurses for each shift suffice for the minimum demand\n",
        "such that\n",
        "   forAll day : days .\n",
        "      forAll shift : shifts .\n",
        "         (sum ((d,_),s) in roster . toInt(d=day /\\ s=shift))\n",
        "            >= minimumDemand((day,shift))\n",
        "\n",
        "$ constraint 3 (Shift type successions)\n",
        "$ the shift type assignments of one nurse on two consecutive days\n",
        "$ must not violate any forbidden succession\n",
        "such that\n",
        "   forAll d : int(1..(nDays-1)) .\n",
        "      forAll n : nurses .\n",
        "         !((roster(d,n), roster(d+1,n)) in forbiddenPatterns)"
      ]
    },
    {
      "cell_type": "markdown",
      "metadata": {
        "id": "kE06me_J_09p"
      },
      "source": [
        "Note that in this specification, the first constraint is automatically satisfied because of the way we have defined `roster` as a function from a day/nurse pair to a shift. So changing the representation of `roster` has not only removed the overly restrictive assumption that only one nurse can be assigned to a day/shift pair, but also dealt with the first real constraint.\n",
        "\n",
        "We have added a second constraint to enforce the minimum demand for each shift, by requiring that the number of nurses mapped to each day/shift pair is at least as large as the minimum demand for that day/shift pair.\n",
        "\n",
        "Finally, we have added a third constraint to ensure that forbidden shift patterns do not occur."
      ]
    },
    {
      "cell_type": "markdown",
      "metadata": {
        "id": "0uBBIwlX_9am"
      },
      "source": [
        "##Final model"
      ]
    },
    {
      "cell_type": "markdown",
      "metadata": {
        "id": "6QotfeQu__8C"
      },
      "source": [
        "Unfortunately, the second specification is not accepted by Conjure. The `roster` function is expecting a single pair as its argument, but we have given two arguments (a day and a nurse). We replace the last constraint by a version that corrects this syntax error:"
      ]
    },
    {
      "cell_type": "markdown",
      "metadata": {
        "id": "ISY-4C0-AGHi"
      },
      "source": [
        "`$ constraint 3 (Shift type successions)`\n",
        "\n",
        "`$ the shift type assignments of one nurse on two consecutive days`\n",
        "\n",
        "`$ must not violate any forbidden succession`\n",
        "\n",
        "`such that`\n",
        "   \n",
        "`forAll d : int(1..(nDays-1)) .`\n",
        "\n",
        "`forAll n : nurses .`\n",
        "\n",
        "`!((roster((d,n)), roster((d+1,n))) in forbiddenPatterns)`"
      ]
    },
    {
      "cell_type": "markdown",
      "metadata": {
        "id": "8LptUFIwAV4v"
      },
      "source": [
        "This is a specification that is acceptable to Conjure and which captures the key constraints we wanted to include."
      ]
    },
    {
      "cell_type": "markdown",
      "metadata": {
        "id": "Lg0TdcXwAbx_"
      },
      "source": [
        "Putting these constraints together gives us:\n",
        "\n",
        "(*warning - running this cell may take quite a while!*)\n",
        "\n"
      ]
    },
    {
      "cell_type": "code",
      "execution_count": null,
      "metadata": {
        "id": "OLxLDWYPAflD"
      },
      "outputs": [],
      "source": [
        "%%conjure --solver=minion\n",
        "find roster: function (days, nurses) --> shifts\n",
        "$ constraint 1 (Single assignment per day)\n",
        "$ a nurse can be assigned to at most one shift per day\n",
        "$ NOTE: automatically satisfied because of how \"roster\" is defined\n",
        "\n",
        "$ constraint 2 (Under staffing)\n",
        "$ the number of nurses for each shift suffice for the minimum demand\n",
        "such that\n",
        "   forAll day : days .\n",
        "      forAll shift : shifts .\n",
        "         (sum ((d,_),s) in roster . toInt(d=day /\\ s=shift))\n",
        "            >= minimumDemand((day,shift))\n",
        "\n",
        "$ constraint 3 (Shift type successions)\n",
        "$ the shift type assignments of one nurse on two consecutive days\n",
        "$ must not violate any forbidden succession\n",
        "such that\n",
        "   forAll d : int(1..(nDays-1)) .\n",
        "      forAll n : nurses .\n",
        "         !((roster((d,n)), roster((d+1,n))) in forbiddenPatterns)"
      ]
    },
    {
      "cell_type": "markdown",
      "metadata": {
        "id": "KvbAlL_O_hrQ"
      },
      "source": [
        "The solver used here is Minion [CDDC+19](https://conjure.readthedocs.io/en/latest/zreferences.html#id4), a constraint programming solver. After quite some time, this creates the following solution:"
      ]
    },
    {
      "cell_type": "code",
      "execution_count": null,
      "metadata": {
        "id": "vm7aSCAp_2LF"
      },
      "outputs": [],
      "source": [
        "print(roster)"
      ]
    },
    {
      "cell_type": "markdown",
      "metadata": {
        "id": "vZZnYwBxANRW"
      },
      "source": [
        "A much faster way to obtain a solution is to ask Minion to use the domoverwdeg variable ordering, which is often effective on constrained scheduling problems:"
      ]
    },
    {
      "cell_type": "code",
      "execution_count": null,
      "metadata": {
        "colab": {
          "base_uri": "https://localhost:8080/"
        },
        "id": "-T92tQCBAOKW",
        "outputId": "1e291b9e-42b8-475d-e04f-d76ff2241096"
      },
      "outputs": [
        {
          "output_type": "execute_result",
          "data": {
            "text/plain": [
              "{'roster': [[[1, 2], 'Early'],\n",
              "  [[1, 3], 'Early'],\n",
              "  [[1, 4], 'Late'],\n",
              "  [[1, 5], 'Late'],\n",
              "  [[2, 2], 'Early'],\n",
              "  [[2, 3], 'Late'],\n",
              "  [[2, 4], 'Night'],\n",
              "  [[2, 5], 'Night'],\n",
              "  [[3, 2], 'Early'],\n",
              "  [[3, 3], 'Late'],\n",
              "  [[3, 4], 'Night'],\n",
              "  [[4, 5], 'Night'],\n",
              "  [[5, 2], 'Early'],\n",
              "  [[5, 3], 'Late'],\n",
              "  [[5, 4], 'Night'],\n",
              "  [[5, 5], 'Night'],\n",
              "  [[6, 1], 'Early'],\n",
              "  [[6, 2], 'Early'],\n",
              "  [[6, 3], 'Late'],\n",
              "  [[6, 4], 'Night'],\n",
              "  [[7, 4], 'Night'],\n",
              "  [[7, 5], 'Late']]}"
            ]
          },
          "metadata": {},
          "execution_count": 5
        }
      ],
      "source": [
        "%%conjure --solver=minion --solver-options='-varorder domoverwdeg'\n",
        "find roster: function (days, nurses) --> shifts\n",
        "$ constraint 1 (Single assignment per day)\n",
        "$ a nurse can be assigned to at most one shift per day\n",
        "$ NOTE: automatically satisfied because of how \"roster\" is defined\n",
        "\n",
        "$ constraint 2 (Under staffing)\n",
        "$ the number of nurses for each shift suffice for the minimum demand\n",
        "such that\n",
        "   forAll day : days .\n",
        "      forAll shift : shifts .\n",
        "         (sum ((d,_),s) in roster . toInt(d=day /\\ s=shift))\n",
        "            >= minimumDemand((day,shift))\n",
        "\n",
        "$ constraint 3 (Shift type successions)\n",
        "$ the shift type assignments of one nurse on two consecutive days\n",
        "$ must not violate any forbidden succession\n",
        "such that\n",
        "   forAll d : int(1..(nDays-1)) .\n",
        "      forAll n : nurses .\n",
        "         !((roster((d,n)), roster((d+1,n))) in forbiddenPatterns)"
      ]
    },
    {
      "cell_type": "markdown",
      "metadata": {
        "id": "jav2lI9SA1mf"
      },
      "source": [
        "Choosing the right parameters to control solver behaviour is important but not generally well understood, and we leave discussion of this problem for another time."
      ]
    },
    {
      "cell_type": "markdown",
      "metadata": {
        "id": "OZwGGTmKPqOQ"
      },
      "source": [
        "## Python datatypes"
      ]
    },
    {
      "cell_type": "markdown",
      "metadata": {
        "id": "6XoriFZKPu0L"
      },
      "source": [
        "We can also use python variables as input, either on their own or in combination with Essence inputs."
      ]
    },
    {
      "cell_type": "code",
      "execution_count": null,
      "metadata": {
        "id": "WUWEX1edQdxu"
      },
      "outputs": [],
      "source": [
        "nNurses = 5\n",
        "nDays = 7\n",
        "shifts = ['Early', 'Late', 'Night']\n",
        "forbiddenPatterns = [('Late','Early'), ('Night','Early'), ('Night','Late')]"
      ]
    },
    {
      "cell_type": "markdown",
      "metadata": {
        "id": "-1_QNf5HTYz-"
      },
      "source": [
        "Running the code below produces the same output as it does above, since the python variables define the same values for `nNurses`, `nDays`, `shifts`, and `forbiddenPatterns` as the Essence model did.\n"
      ]
    },
    {
      "cell_type": "code",
      "execution_count": null,
      "metadata": {
        "colab": {
          "base_uri": "https://localhost:8080/"
        },
        "id": "-k_xVdG8Q_VT",
        "outputId": "3499c511-8e6e-42aa-beb0-89bcc564e8d2"
      },
      "outputs": [
        {
          "output_type": "execute_result",
          "data": {
            "text/plain": [
              "{'roster': [[[1, 2], 'Early'],\n",
              "  [[1, 3], 'Early'],\n",
              "  [[1, 4], 'Late'],\n",
              "  [[1, 5], 'Late'],\n",
              "  [[2, 2], 'Early'],\n",
              "  [[2, 3], 'Late'],\n",
              "  [[2, 4], 'Night'],\n",
              "  [[2, 5], 'Night'],\n",
              "  [[3, 2], 'Early'],\n",
              "  [[3, 3], 'Late'],\n",
              "  [[3, 4], 'Night'],\n",
              "  [[4, 5], 'Night'],\n",
              "  [[5, 2], 'Early'],\n",
              "  [[5, 3], 'Late'],\n",
              "  [[5, 4], 'Night'],\n",
              "  [[5, 5], 'Night'],\n",
              "  [[6, 1], 'Early'],\n",
              "  [[6, 2], 'Early'],\n",
              "  [[6, 3], 'Late'],\n",
              "  [[6, 4], 'Night'],\n",
              "  [[7, 4], 'Night'],\n",
              "  [[7, 5], 'Late']]}"
            ]
          },
          "metadata": {},
          "execution_count": 7
        }
      ],
      "source": [
        "%%conjure --solver=minion --solver-options='-varorder domoverwdeg'\n",
        "find roster: function (days, nurses) --> shifts\n",
        "$ constraint 1 (Single assignment per day)\n",
        "$ a nurse can be assigned to at most one shift per day\n",
        "$ NOTE: automatically satisfied because of how \"roster\" is defined\n",
        "\n",
        "$ constraint 2 (Under staffing)\n",
        "$ the number of nurses for each shift suffice for the minimum demand\n",
        "such that\n",
        "   forAll day : days .\n",
        "      forAll shift : shifts .\n",
        "         (sum ((d,_),s) in roster . toInt(d=day /\\ s=shift))\n",
        "            >= minimumDemand((day,shift))\n",
        "\n",
        "$ constraint 3 (Shift type successions)\n",
        "$ the shift type assignments of one nurse on two consecutive days\n",
        "$ must not violate any forbidden succession\n",
        "such that\n",
        "   forAll d : int(1..(nDays-1)) .\n",
        "      forAll n : nurses .\n",
        "         !((roster((d,n)), roster((d+1,n))) in forbiddenPatterns)"
      ]
    },
    {
      "cell_type": "markdown",
      "metadata": {
        "id": "oEO7p5otBLGj"
      },
      "source": [
        "##Representations"
      ]
    },
    {
      "cell_type": "markdown",
      "metadata": {
        "id": "vpX_tZdQBOGH"
      },
      "source": [
        "We can display the nurse roster using graphs:"
      ]
    },
    {
      "cell_type": "code",
      "execution_count": null,
      "metadata": {
        "colab": {
          "base_uri": "https://localhost:8080/",
          "height": 279
        },
        "id": "pgMq_87lBhjI",
        "outputId": "113a413f-a7b1-4b89-cd5e-294f289e036f"
      },
      "outputs": [
        {
          "output_type": "execute_result",
          "data": {
            "text/plain": [
              "<graphviz.dot.Digraph at 0x7f9a51cdaeb0>"
            ],
            "image/svg+xml": "<?xml version=\"1.0\" encoding=\"UTF-8\" standalone=\"no\"?>\n<!DOCTYPE svg PUBLIC \"-//W3C//DTD SVG 1.1//EN\"\n \"http://www.w3.org/Graphics/SVG/1.1/DTD/svg11.dtd\">\n<!-- Generated by graphviz version 2.40.1 (20161225.0304)\n -->\n<!-- Title: parent Pages: 1 -->\n<svg width=\"2302pt\" height=\"178pt\"\n viewBox=\"0.00 0.00 2302.00 178.00\" xmlns=\"http://www.w3.org/2000/svg\" xmlns:xlink=\"http://www.w3.org/1999/xlink\">\n<g id=\"graph0\" class=\"graph\" transform=\"scale(1 1) rotate(0) translate(4 174)\">\n<title>parent</title>\n<polygon fill=\"#ffffff\" stroke=\"transparent\" points=\"-4,4 -4,-174 2298,-174 2298,4 -4,4\"/>\n<g id=\"clust1\" class=\"cluster\">\n<title>cluster1</title>\n<path fill=\"none\" stroke=\"#000000\" d=\"M20,-8C20,-8 402,-8 402,-8 408,-8 414,-14 414,-20 414,-20 414,-150 414,-150 414,-156 408,-162 402,-162 402,-162 20,-162 20,-162 14,-162 8,-156 8,-150 8,-150 8,-20 8,-20 8,-14 14,-8 20,-8\"/>\n<text text-anchor=\"middle\" x=\"211\" y=\"-142\" font-family=\"Times,serif\" font-size=\"20.00\" fill=\"#000000\">Day 1</text>\n</g>\n<g id=\"clust2\" class=\"cluster\">\n<title>cluster2</title>\n<path fill=\"none\" stroke=\"#000000\" d=\"M434,-8C434,-8 816,-8 816,-8 822,-8 828,-14 828,-20 828,-20 828,-150 828,-150 828,-156 822,-162 816,-162 816,-162 434,-162 434,-162 428,-162 422,-156 422,-150 422,-150 422,-20 422,-20 422,-14 428,-8 434,-8\"/>\n<text text-anchor=\"middle\" x=\"625\" y=\"-142\" font-family=\"Times,serif\" font-size=\"20.00\" fill=\"#000000\">Day 2</text>\n</g>\n<g id=\"clust3\" class=\"cluster\">\n<title>cluster3</title>\n<path fill=\"none\" stroke=\"#000000\" d=\"M848,-8C848,-8 1128,-8 1128,-8 1134,-8 1140,-14 1140,-20 1140,-20 1140,-150 1140,-150 1140,-156 1134,-162 1128,-162 1128,-162 848,-162 848,-162 842,-162 836,-156 836,-150 836,-150 836,-20 836,-20 836,-14 842,-8 848,-8\"/>\n<text text-anchor=\"middle\" x=\"988\" y=\"-142\" font-family=\"Times,serif\" font-size=\"20.00\" fill=\"#000000\">Day 3</text>\n</g>\n<g id=\"clust4\" class=\"cluster\">\n<title>cluster4</title>\n<path fill=\"none\" stroke=\"#000000\" d=\"M1160,-8C1160,-8 1236,-8 1236,-8 1242,-8 1248,-14 1248,-20 1248,-20 1248,-150 1248,-150 1248,-156 1242,-162 1236,-162 1236,-162 1160,-162 1160,-162 1154,-162 1148,-156 1148,-150 1148,-150 1148,-20 1148,-20 1148,-14 1154,-8 1160,-8\"/>\n<text text-anchor=\"middle\" x=\"1198\" y=\"-142\" font-family=\"Times,serif\" font-size=\"20.00\" fill=\"#000000\">Day 4</text>\n</g>\n<g id=\"clust5\" class=\"cluster\">\n<title>cluster5</title>\n<path fill=\"none\" stroke=\"#000000\" d=\"M1268,-8C1268,-8 1650,-8 1650,-8 1656,-8 1662,-14 1662,-20 1662,-20 1662,-150 1662,-150 1662,-156 1656,-162 1650,-162 1650,-162 1268,-162 1268,-162 1262,-162 1256,-156 1256,-150 1256,-150 1256,-20 1256,-20 1256,-14 1262,-8 1268,-8\"/>\n<text text-anchor=\"middle\" x=\"1459\" y=\"-142\" font-family=\"Times,serif\" font-size=\"20.00\" fill=\"#000000\">Day 5</text>\n</g>\n<g id=\"clust6\" class=\"cluster\">\n<title>cluster6</title>\n<path fill=\"none\" stroke=\"#000000\" d=\"M1682,-8C1682,-8 2064,-8 2064,-8 2070,-8 2076,-14 2076,-20 2076,-20 2076,-150 2076,-150 2076,-156 2070,-162 2064,-162 2064,-162 1682,-162 1682,-162 1676,-162 1670,-156 1670,-150 1670,-150 1670,-20 1670,-20 1670,-14 1676,-8 1682,-8\"/>\n<text text-anchor=\"middle\" x=\"1873\" y=\"-142\" font-family=\"Times,serif\" font-size=\"20.00\" fill=\"#000000\">Day 6</text>\n</g>\n<g id=\"clust7\" class=\"cluster\">\n<title>cluster7</title>\n<path fill=\"none\" stroke=\"#000000\" d=\"M2096,-8C2096,-8 2274,-8 2274,-8 2280,-8 2286,-14 2286,-20 2286,-20 2286,-150 2286,-150 2286,-156 2280,-162 2274,-162 2274,-162 2096,-162 2096,-162 2090,-162 2084,-156 2084,-150 2084,-150 2084,-20 2084,-20 2084,-14 2090,-8 2096,-8\"/>\n<text text-anchor=\"middle\" x=\"2185\" y=\"-142\" font-family=\"Times,serif\" font-size=\"20.00\" fill=\"#000000\">Day 7</text>\n</g>\n<!-- Late1 -->\n<g id=\"node1\" class=\"node\">\n<title>Late1</title>\n<polygon fill=\"none\" stroke=\"#a020f0\" points=\"340,-124 290,-124 286,-120 286,-88 336,-88 340,-92 340,-124\"/>\n<polyline fill=\"none\" stroke=\"#a020f0\" points=\"336,-120 286,-120 \"/>\n<polyline fill=\"none\" stroke=\"#a020f0\" points=\"336,-120 336,-88 \"/>\n<polyline fill=\"none\" stroke=\"#a020f0\" points=\"336,-120 340,-124 \"/>\n<text text-anchor=\"middle\" x=\"313\" y=\"-102.3\" font-family=\"Times,serif\" font-size=\"14.00\" fill=\"#000000\">Late</text>\n</g>\n<!-- 0 -->\n<g id=\"node2\" class=\"node\">\n<title>0</title>\n<polygon fill=\"none\" stroke=\"#ffa500\" points=\"304,-52 224,-52 220,-48 220,-16 300,-16 304,-20 304,-52\"/>\n<polyline fill=\"none\" stroke=\"#ffa500\" points=\"300,-48 220,-48 \"/>\n<polyline fill=\"none\" stroke=\"#ffa500\" points=\"300,-48 300,-16 \"/>\n<polyline fill=\"none\" stroke=\"#ffa500\" points=\"300,-48 304,-52 \"/>\n<text text-anchor=\"middle\" x=\"262\" y=\"-30.3\" font-family=\"Times,serif\" font-size=\"14.00\" fill=\"#000000\">Nurse ID: 5</text>\n</g>\n<!-- Late1&#45;&gt;0 -->\n<g id=\"edge1\" class=\"edge\">\n<title>Late1&#45;&gt;0</title>\n<path fill=\"none\" stroke=\"#000000\" d=\"M300.1305,-87.8314C294.3165,-79.6232 287.3304,-69.7606 280.9354,-60.7323\"/>\n<polygon fill=\"#000000\" stroke=\"#000000\" points=\"283.679,-58.5505 275.0427,-52.4133 277.9669,-62.5966 283.679,-58.5505\"/>\n</g>\n<!-- 1 -->\n<g id=\"node3\" class=\"node\">\n<title>1</title>\n<polygon fill=\"none\" stroke=\"#ffa500\" points=\"406,-52 326,-52 322,-48 322,-16 402,-16 406,-20 406,-52\"/>\n<polyline fill=\"none\" stroke=\"#ffa500\" points=\"402,-48 322,-48 \"/>\n<polyline fill=\"none\" stroke=\"#ffa500\" points=\"402,-48 402,-16 \"/>\n<polyline fill=\"none\" stroke=\"#ffa500\" points=\"402,-48 406,-52 \"/>\n<text text-anchor=\"middle\" x=\"364\" y=\"-30.3\" font-family=\"Times,serif\" font-size=\"14.00\" fill=\"#000000\">Nurse ID: 4</text>\n</g>\n<!-- Late1&#45;&gt;1 -->\n<g id=\"edge2\" class=\"edge\">\n<title>Late1&#45;&gt;1</title>\n<path fill=\"none\" stroke=\"#000000\" d=\"M325.8695,-87.8314C331.6835,-79.6232 338.6696,-69.7606 345.0646,-60.7323\"/>\n<polygon fill=\"#000000\" stroke=\"#000000\" points=\"348.0331,-62.5966 350.9573,-52.4133 342.321,-58.5505 348.0331,-62.5966\"/>\n</g>\n<!-- Early1 -->\n<g id=\"node4\" class=\"node\">\n<title>Early1</title>\n<polygon fill=\"none\" stroke=\"#a020f0\" points=\"136,-124 86,-124 82,-120 82,-88 132,-88 136,-92 136,-124\"/>\n<polyline fill=\"none\" stroke=\"#a020f0\" points=\"132,-120 82,-120 \"/>\n<polyline fill=\"none\" stroke=\"#a020f0\" points=\"132,-120 132,-88 \"/>\n<polyline fill=\"none\" stroke=\"#a020f0\" points=\"132,-120 136,-124 \"/>\n<text text-anchor=\"middle\" x=\"109\" y=\"-102.3\" font-family=\"Times,serif\" font-size=\"14.00\" fill=\"#000000\">Early</text>\n</g>\n<!-- 2 -->\n<g id=\"node5\" class=\"node\">\n<title>2</title>\n<polygon fill=\"none\" stroke=\"#ffa500\" points=\"100,-52 20,-52 16,-48 16,-16 96,-16 100,-20 100,-52\"/>\n<polyline fill=\"none\" stroke=\"#ffa500\" points=\"96,-48 16,-48 \"/>\n<polyline fill=\"none\" stroke=\"#ffa500\" points=\"96,-48 96,-16 \"/>\n<polyline fill=\"none\" stroke=\"#ffa500\" points=\"96,-48 100,-52 \"/>\n<text text-anchor=\"middle\" x=\"58\" y=\"-30.3\" font-family=\"Times,serif\" font-size=\"14.00\" fill=\"#000000\">Nurse ID: 3</text>\n</g>\n<!-- Early1&#45;&gt;2 -->\n<g id=\"edge3\" class=\"edge\">\n<title>Early1&#45;&gt;2</title>\n<path fill=\"none\" stroke=\"#000000\" d=\"M96.1305,-87.8314C90.3165,-79.6232 83.3304,-69.7606 76.9354,-60.7323\"/>\n<polygon fill=\"#000000\" stroke=\"#000000\" points=\"79.679,-58.5505 71.0427,-52.4133 73.9669,-62.5966 79.679,-58.5505\"/>\n</g>\n<!-- 3 -->\n<g id=\"node6\" class=\"node\">\n<title>3</title>\n<polygon fill=\"none\" stroke=\"#ffa500\" points=\"202,-52 122,-52 118,-48 118,-16 198,-16 202,-20 202,-52\"/>\n<polyline fill=\"none\" stroke=\"#ffa500\" points=\"198,-48 118,-48 \"/>\n<polyline fill=\"none\" stroke=\"#ffa500\" points=\"198,-48 198,-16 \"/>\n<polyline fill=\"none\" stroke=\"#ffa500\" points=\"198,-48 202,-52 \"/>\n<text text-anchor=\"middle\" x=\"160\" y=\"-30.3\" font-family=\"Times,serif\" font-size=\"14.00\" fill=\"#000000\">Nurse ID: 2</text>\n</g>\n<!-- Early1&#45;&gt;3 -->\n<g id=\"edge4\" class=\"edge\">\n<title>Early1&#45;&gt;3</title>\n<path fill=\"none\" stroke=\"#000000\" d=\"M121.8695,-87.8314C127.6835,-79.6232 134.6696,-69.7606 141.0646,-60.7323\"/>\n<polygon fill=\"#000000\" stroke=\"#000000\" points=\"144.0331,-62.5966 146.9573,-52.4133 138.321,-58.5505 144.0331,-62.5966\"/>\n</g>\n<!-- Night2 -->\n<g id=\"node7\" class=\"node\">\n<title>Night2</title>\n<polygon fill=\"none\" stroke=\"#a020f0\" points=\"754,-124 704,-124 700,-120 700,-88 750,-88 754,-92 754,-124\"/>\n<polyline fill=\"none\" stroke=\"#a020f0\" points=\"750,-120 700,-120 \"/>\n<polyline fill=\"none\" stroke=\"#a020f0\" points=\"750,-120 750,-88 \"/>\n<polyline fill=\"none\" stroke=\"#a020f0\" points=\"750,-120 754,-124 \"/>\n<text text-anchor=\"middle\" x=\"727\" y=\"-102.3\" font-family=\"Times,serif\" font-size=\"14.00\" fill=\"#000000\">Night</text>\n</g>\n<!-- 4 -->\n<g id=\"node8\" class=\"node\">\n<title>4</title>\n<polygon fill=\"none\" stroke=\"#ffa500\" points=\"718,-52 638,-52 634,-48 634,-16 714,-16 718,-20 718,-52\"/>\n<polyline fill=\"none\" stroke=\"#ffa500\" points=\"714,-48 634,-48 \"/>\n<polyline fill=\"none\" stroke=\"#ffa500\" points=\"714,-48 714,-16 \"/>\n<polyline fill=\"none\" stroke=\"#ffa500\" points=\"714,-48 718,-52 \"/>\n<text text-anchor=\"middle\" x=\"676\" y=\"-30.3\" font-family=\"Times,serif\" font-size=\"14.00\" fill=\"#000000\">Nurse ID: 5</text>\n</g>\n<!-- Night2&#45;&gt;4 -->\n<g id=\"edge5\" class=\"edge\">\n<title>Night2&#45;&gt;4</title>\n<path fill=\"none\" stroke=\"#000000\" d=\"M714.1305,-87.8314C708.3165,-79.6232 701.3304,-69.7606 694.9354,-60.7323\"/>\n<polygon fill=\"#000000\" stroke=\"#000000\" points=\"697.679,-58.5505 689.0427,-52.4133 691.9669,-62.5966 697.679,-58.5505\"/>\n</g>\n<!-- 5 -->\n<g id=\"node9\" class=\"node\">\n<title>5</title>\n<polygon fill=\"none\" stroke=\"#ffa500\" points=\"820,-52 740,-52 736,-48 736,-16 816,-16 820,-20 820,-52\"/>\n<polyline fill=\"none\" stroke=\"#ffa500\" points=\"816,-48 736,-48 \"/>\n<polyline fill=\"none\" stroke=\"#ffa500\" points=\"816,-48 816,-16 \"/>\n<polyline fill=\"none\" stroke=\"#ffa500\" points=\"816,-48 820,-52 \"/>\n<text text-anchor=\"middle\" x=\"778\" y=\"-30.3\" font-family=\"Times,serif\" font-size=\"14.00\" fill=\"#000000\">Nurse ID: 4</text>\n</g>\n<!-- Night2&#45;&gt;5 -->\n<g id=\"edge6\" class=\"edge\">\n<title>Night2&#45;&gt;5</title>\n<path fill=\"none\" stroke=\"#000000\" d=\"M739.8695,-87.8314C745.6835,-79.6232 752.6696,-69.7606 759.0646,-60.7323\"/>\n<polygon fill=\"#000000\" stroke=\"#000000\" points=\"762.0331,-62.5966 764.9573,-52.4133 756.321,-58.5505 762.0331,-62.5966\"/>\n</g>\n<!-- Late2 -->\n<g id=\"node10\" class=\"node\">\n<title>Late2</title>\n<polygon fill=\"none\" stroke=\"#a020f0\" points=\"601,-124 551,-124 547,-120 547,-88 597,-88 601,-92 601,-124\"/>\n<polyline fill=\"none\" stroke=\"#a020f0\" points=\"597,-120 547,-120 \"/>\n<polyline fill=\"none\" stroke=\"#a020f0\" points=\"597,-120 597,-88 \"/>\n<polyline fill=\"none\" stroke=\"#a020f0\" points=\"597,-120 601,-124 \"/>\n<text text-anchor=\"middle\" x=\"574\" y=\"-102.3\" font-family=\"Times,serif\" font-size=\"14.00\" fill=\"#000000\">Late</text>\n</g>\n<!-- 6 -->\n<g id=\"node11\" class=\"node\">\n<title>6</title>\n<polygon fill=\"none\" stroke=\"#ffa500\" points=\"616,-52 536,-52 532,-48 532,-16 612,-16 616,-20 616,-52\"/>\n<polyline fill=\"none\" stroke=\"#ffa500\" points=\"612,-48 532,-48 \"/>\n<polyline fill=\"none\" stroke=\"#ffa500\" points=\"612,-48 612,-16 \"/>\n<polyline fill=\"none\" stroke=\"#ffa500\" points=\"612,-48 616,-52 \"/>\n<text text-anchor=\"middle\" x=\"574\" y=\"-30.3\" font-family=\"Times,serif\" font-size=\"14.00\" fill=\"#000000\">Nurse ID: 3</text>\n</g>\n<!-- Late2&#45;&gt;6 -->\n<g id=\"edge7\" class=\"edge\">\n<title>Late2&#45;&gt;6</title>\n<path fill=\"none\" stroke=\"#000000\" d=\"M574,-87.8314C574,-80.131 574,-70.9743 574,-62.4166\"/>\n<polygon fill=\"#000000\" stroke=\"#000000\" points=\"577.5001,-62.4132 574,-52.4133 570.5001,-62.4133 577.5001,-62.4132\"/>\n</g>\n<!-- Early2 -->\n<g id=\"node12\" class=\"node\">\n<title>Early2</title>\n<polygon fill=\"none\" stroke=\"#a020f0\" points=\"499,-124 449,-124 445,-120 445,-88 495,-88 499,-92 499,-124\"/>\n<polyline fill=\"none\" stroke=\"#a020f0\" points=\"495,-120 445,-120 \"/>\n<polyline fill=\"none\" stroke=\"#a020f0\" points=\"495,-120 495,-88 \"/>\n<polyline fill=\"none\" stroke=\"#a020f0\" points=\"495,-120 499,-124 \"/>\n<text text-anchor=\"middle\" x=\"472\" y=\"-102.3\" font-family=\"Times,serif\" font-size=\"14.00\" fill=\"#000000\">Early</text>\n</g>\n<!-- 7 -->\n<g id=\"node13\" class=\"node\">\n<title>7</title>\n<polygon fill=\"none\" stroke=\"#ffa500\" points=\"514,-52 434,-52 430,-48 430,-16 510,-16 514,-20 514,-52\"/>\n<polyline fill=\"none\" stroke=\"#ffa500\" points=\"510,-48 430,-48 \"/>\n<polyline fill=\"none\" stroke=\"#ffa500\" points=\"510,-48 510,-16 \"/>\n<polyline fill=\"none\" stroke=\"#ffa500\" points=\"510,-48 514,-52 \"/>\n<text text-anchor=\"middle\" x=\"472\" y=\"-30.3\" font-family=\"Times,serif\" font-size=\"14.00\" fill=\"#000000\">Nurse ID: 2</text>\n</g>\n<!-- Early2&#45;&gt;7 -->\n<g id=\"edge8\" class=\"edge\">\n<title>Early2&#45;&gt;7</title>\n<path fill=\"none\" stroke=\"#000000\" d=\"M472,-87.8314C472,-80.131 472,-70.9743 472,-62.4166\"/>\n<polygon fill=\"#000000\" stroke=\"#000000\" points=\"475.5001,-62.4132 472,-52.4133 468.5001,-62.4133 475.5001,-62.4132\"/>\n</g>\n<!-- Night3 -->\n<g id=\"node14\" class=\"node\">\n<title>Night3</title>\n<polygon fill=\"none\" stroke=\"#a020f0\" points=\"1117,-124 1067,-124 1063,-120 1063,-88 1113,-88 1117,-92 1117,-124\"/>\n<polyline fill=\"none\" stroke=\"#a020f0\" points=\"1113,-120 1063,-120 \"/>\n<polyline fill=\"none\" stroke=\"#a020f0\" points=\"1113,-120 1113,-88 \"/>\n<polyline fill=\"none\" stroke=\"#a020f0\" points=\"1113,-120 1117,-124 \"/>\n<text text-anchor=\"middle\" x=\"1090\" y=\"-102.3\" font-family=\"Times,serif\" font-size=\"14.00\" fill=\"#000000\">Night</text>\n</g>\n<!-- 8 -->\n<g id=\"node15\" class=\"node\">\n<title>8</title>\n<polygon fill=\"none\" stroke=\"#ffa500\" points=\"1132,-52 1052,-52 1048,-48 1048,-16 1128,-16 1132,-20 1132,-52\"/>\n<polyline fill=\"none\" stroke=\"#ffa500\" points=\"1128,-48 1048,-48 \"/>\n<polyline fill=\"none\" stroke=\"#ffa500\" points=\"1128,-48 1128,-16 \"/>\n<polyline fill=\"none\" stroke=\"#ffa500\" points=\"1128,-48 1132,-52 \"/>\n<text text-anchor=\"middle\" x=\"1090\" y=\"-30.3\" font-family=\"Times,serif\" font-size=\"14.00\" fill=\"#000000\">Nurse ID: 4</text>\n</g>\n<!-- Night3&#45;&gt;8 -->\n<g id=\"edge9\" class=\"edge\">\n<title>Night3&#45;&gt;8</title>\n<path fill=\"none\" stroke=\"#000000\" d=\"M1090,-87.8314C1090,-80.131 1090,-70.9743 1090,-62.4166\"/>\n<polygon fill=\"#000000\" stroke=\"#000000\" points=\"1093.5001,-62.4132 1090,-52.4133 1086.5001,-62.4133 1093.5001,-62.4132\"/>\n</g>\n<!-- Late3 -->\n<g id=\"node16\" class=\"node\">\n<title>Late3</title>\n<polygon fill=\"none\" stroke=\"#a020f0\" points=\"1015,-124 965,-124 961,-120 961,-88 1011,-88 1015,-92 1015,-124\"/>\n<polyline fill=\"none\" stroke=\"#a020f0\" points=\"1011,-120 961,-120 \"/>\n<polyline fill=\"none\" stroke=\"#a020f0\" points=\"1011,-120 1011,-88 \"/>\n<polyline fill=\"none\" stroke=\"#a020f0\" points=\"1011,-120 1015,-124 \"/>\n<text text-anchor=\"middle\" x=\"988\" y=\"-102.3\" font-family=\"Times,serif\" font-size=\"14.00\" fill=\"#000000\">Late</text>\n</g>\n<!-- 9 -->\n<g id=\"node17\" class=\"node\">\n<title>9</title>\n<polygon fill=\"none\" stroke=\"#ffa500\" points=\"1030,-52 950,-52 946,-48 946,-16 1026,-16 1030,-20 1030,-52\"/>\n<polyline fill=\"none\" stroke=\"#ffa500\" points=\"1026,-48 946,-48 \"/>\n<polyline fill=\"none\" stroke=\"#ffa500\" points=\"1026,-48 1026,-16 \"/>\n<polyline fill=\"none\" stroke=\"#ffa500\" points=\"1026,-48 1030,-52 \"/>\n<text text-anchor=\"middle\" x=\"988\" y=\"-30.3\" font-family=\"Times,serif\" font-size=\"14.00\" fill=\"#000000\">Nurse ID: 3</text>\n</g>\n<!-- Late3&#45;&gt;9 -->\n<g id=\"edge10\" class=\"edge\">\n<title>Late3&#45;&gt;9</title>\n<path fill=\"none\" stroke=\"#000000\" d=\"M988,-87.8314C988,-80.131 988,-70.9743 988,-62.4166\"/>\n<polygon fill=\"#000000\" stroke=\"#000000\" points=\"991.5001,-62.4132 988,-52.4133 984.5001,-62.4133 991.5001,-62.4132\"/>\n</g>\n<!-- Early3 -->\n<g id=\"node18\" class=\"node\">\n<title>Early3</title>\n<polygon fill=\"none\" stroke=\"#a020f0\" points=\"913,-124 863,-124 859,-120 859,-88 909,-88 913,-92 913,-124\"/>\n<polyline fill=\"none\" stroke=\"#a020f0\" points=\"909,-120 859,-120 \"/>\n<polyline fill=\"none\" stroke=\"#a020f0\" points=\"909,-120 909,-88 \"/>\n<polyline fill=\"none\" stroke=\"#a020f0\" points=\"909,-120 913,-124 \"/>\n<text text-anchor=\"middle\" x=\"886\" y=\"-102.3\" font-family=\"Times,serif\" font-size=\"14.00\" fill=\"#000000\">Early</text>\n</g>\n<!-- 10 -->\n<g id=\"node19\" class=\"node\">\n<title>10</title>\n<polygon fill=\"none\" stroke=\"#ffa500\" points=\"928,-52 848,-52 844,-48 844,-16 924,-16 928,-20 928,-52\"/>\n<polyline fill=\"none\" stroke=\"#ffa500\" points=\"924,-48 844,-48 \"/>\n<polyline fill=\"none\" stroke=\"#ffa500\" points=\"924,-48 924,-16 \"/>\n<polyline fill=\"none\" stroke=\"#ffa500\" points=\"924,-48 928,-52 \"/>\n<text text-anchor=\"middle\" x=\"886\" y=\"-30.3\" font-family=\"Times,serif\" font-size=\"14.00\" fill=\"#000000\">Nurse ID: 2</text>\n</g>\n<!-- Early3&#45;&gt;10 -->\n<g id=\"edge11\" class=\"edge\">\n<title>Early3&#45;&gt;10</title>\n<path fill=\"none\" stroke=\"#000000\" d=\"M886,-87.8314C886,-80.131 886,-70.9743 886,-62.4166\"/>\n<polygon fill=\"#000000\" stroke=\"#000000\" points=\"889.5001,-62.4132 886,-52.4133 882.5001,-62.4133 889.5001,-62.4132\"/>\n</g>\n<!-- Night4 -->\n<g id=\"node20\" class=\"node\">\n<title>Night4</title>\n<polygon fill=\"none\" stroke=\"#a020f0\" points=\"1225,-124 1175,-124 1171,-120 1171,-88 1221,-88 1225,-92 1225,-124\"/>\n<polyline fill=\"none\" stroke=\"#a020f0\" points=\"1221,-120 1171,-120 \"/>\n<polyline fill=\"none\" stroke=\"#a020f0\" points=\"1221,-120 1221,-88 \"/>\n<polyline fill=\"none\" stroke=\"#a020f0\" points=\"1221,-120 1225,-124 \"/>\n<text text-anchor=\"middle\" x=\"1198\" y=\"-102.3\" font-family=\"Times,serif\" font-size=\"14.00\" fill=\"#000000\">Night</text>\n</g>\n<!-- 11 -->\n<g id=\"node21\" class=\"node\">\n<title>11</title>\n<polygon fill=\"none\" stroke=\"#ffa500\" points=\"1240,-52 1160,-52 1156,-48 1156,-16 1236,-16 1240,-20 1240,-52\"/>\n<polyline fill=\"none\" stroke=\"#ffa500\" points=\"1236,-48 1156,-48 \"/>\n<polyline fill=\"none\" stroke=\"#ffa500\" points=\"1236,-48 1236,-16 \"/>\n<polyline fill=\"none\" stroke=\"#ffa500\" points=\"1236,-48 1240,-52 \"/>\n<text text-anchor=\"middle\" x=\"1198\" y=\"-30.3\" font-family=\"Times,serif\" font-size=\"14.00\" fill=\"#000000\">Nurse ID: 5</text>\n</g>\n<!-- Night4&#45;&gt;11 -->\n<g id=\"edge12\" class=\"edge\">\n<title>Night4&#45;&gt;11</title>\n<path fill=\"none\" stroke=\"#000000\" d=\"M1198,-87.8314C1198,-80.131 1198,-70.9743 1198,-62.4166\"/>\n<polygon fill=\"#000000\" stroke=\"#000000\" points=\"1201.5001,-62.4132 1198,-52.4133 1194.5001,-62.4133 1201.5001,-62.4132\"/>\n</g>\n<!-- Night5 -->\n<g id=\"node22\" class=\"node\">\n<title>Night5</title>\n<polygon fill=\"none\" stroke=\"#a020f0\" points=\"1588,-124 1538,-124 1534,-120 1534,-88 1584,-88 1588,-92 1588,-124\"/>\n<polyline fill=\"none\" stroke=\"#a020f0\" points=\"1584,-120 1534,-120 \"/>\n<polyline fill=\"none\" stroke=\"#a020f0\" points=\"1584,-120 1584,-88 \"/>\n<polyline fill=\"none\" stroke=\"#a020f0\" points=\"1584,-120 1588,-124 \"/>\n<text text-anchor=\"middle\" x=\"1561\" y=\"-102.3\" font-family=\"Times,serif\" font-size=\"14.00\" fill=\"#000000\">Night</text>\n</g>\n<!-- 12 -->\n<g id=\"node23\" class=\"node\">\n<title>12</title>\n<polygon fill=\"none\" stroke=\"#ffa500\" points=\"1552,-52 1472,-52 1468,-48 1468,-16 1548,-16 1552,-20 1552,-52\"/>\n<polyline fill=\"none\" stroke=\"#ffa500\" points=\"1548,-48 1468,-48 \"/>\n<polyline fill=\"none\" stroke=\"#ffa500\" points=\"1548,-48 1548,-16 \"/>\n<polyline fill=\"none\" stroke=\"#ffa500\" points=\"1548,-48 1552,-52 \"/>\n<text text-anchor=\"middle\" x=\"1510\" y=\"-30.3\" font-family=\"Times,serif\" font-size=\"14.00\" fill=\"#000000\">Nurse ID: 5</text>\n</g>\n<!-- Night5&#45;&gt;12 -->\n<g id=\"edge13\" class=\"edge\">\n<title>Night5&#45;&gt;12</title>\n<path fill=\"none\" stroke=\"#000000\" d=\"M1548.1305,-87.8314C1542.3165,-79.6232 1535.3304,-69.7606 1528.9354,-60.7323\"/>\n<polygon fill=\"#000000\" stroke=\"#000000\" points=\"1531.679,-58.5505 1523.0427,-52.4133 1525.9669,-62.5966 1531.679,-58.5505\"/>\n</g>\n<!-- 13 -->\n<g id=\"node24\" class=\"node\">\n<title>13</title>\n<polygon fill=\"none\" stroke=\"#ffa500\" points=\"1654,-52 1574,-52 1570,-48 1570,-16 1650,-16 1654,-20 1654,-52\"/>\n<polyline fill=\"none\" stroke=\"#ffa500\" points=\"1650,-48 1570,-48 \"/>\n<polyline fill=\"none\" stroke=\"#ffa500\" points=\"1650,-48 1650,-16 \"/>\n<polyline fill=\"none\" stroke=\"#ffa500\" points=\"1650,-48 1654,-52 \"/>\n<text text-anchor=\"middle\" x=\"1612\" y=\"-30.3\" font-family=\"Times,serif\" font-size=\"14.00\" fill=\"#000000\">Nurse ID: 4</text>\n</g>\n<!-- Night5&#45;&gt;13 -->\n<g id=\"edge14\" class=\"edge\">\n<title>Night5&#45;&gt;13</title>\n<path fill=\"none\" stroke=\"#000000\" d=\"M1573.8695,-87.8314C1579.6835,-79.6232 1586.6696,-69.7606 1593.0646,-60.7323\"/>\n<polygon fill=\"#000000\" stroke=\"#000000\" points=\"1596.0331,-62.5966 1598.9573,-52.4133 1590.321,-58.5505 1596.0331,-62.5966\"/>\n</g>\n<!-- Late5 -->\n<g id=\"node25\" class=\"node\">\n<title>Late5</title>\n<polygon fill=\"none\" stroke=\"#a020f0\" points=\"1435,-124 1385,-124 1381,-120 1381,-88 1431,-88 1435,-92 1435,-124\"/>\n<polyline fill=\"none\" stroke=\"#a020f0\" points=\"1431,-120 1381,-120 \"/>\n<polyline fill=\"none\" stroke=\"#a020f0\" points=\"1431,-120 1431,-88 \"/>\n<polyline fill=\"none\" stroke=\"#a020f0\" points=\"1431,-120 1435,-124 \"/>\n<text text-anchor=\"middle\" x=\"1408\" y=\"-102.3\" font-family=\"Times,serif\" font-size=\"14.00\" fill=\"#000000\">Late</text>\n</g>\n<!-- 14 -->\n<g id=\"node26\" class=\"node\">\n<title>14</title>\n<polygon fill=\"none\" stroke=\"#ffa500\" points=\"1450,-52 1370,-52 1366,-48 1366,-16 1446,-16 1450,-20 1450,-52\"/>\n<polyline fill=\"none\" stroke=\"#ffa500\" points=\"1446,-48 1366,-48 \"/>\n<polyline fill=\"none\" stroke=\"#ffa500\" points=\"1446,-48 1446,-16 \"/>\n<polyline fill=\"none\" stroke=\"#ffa500\" points=\"1446,-48 1450,-52 \"/>\n<text text-anchor=\"middle\" x=\"1408\" y=\"-30.3\" font-family=\"Times,serif\" font-size=\"14.00\" fill=\"#000000\">Nurse ID: 3</text>\n</g>\n<!-- Late5&#45;&gt;14 -->\n<g id=\"edge15\" class=\"edge\">\n<title>Late5&#45;&gt;14</title>\n<path fill=\"none\" stroke=\"#000000\" d=\"M1408,-87.8314C1408,-80.131 1408,-70.9743 1408,-62.4166\"/>\n<polygon fill=\"#000000\" stroke=\"#000000\" points=\"1411.5001,-62.4132 1408,-52.4133 1404.5001,-62.4133 1411.5001,-62.4132\"/>\n</g>\n<!-- Early5 -->\n<g id=\"node27\" class=\"node\">\n<title>Early5</title>\n<polygon fill=\"none\" stroke=\"#a020f0\" points=\"1333,-124 1283,-124 1279,-120 1279,-88 1329,-88 1333,-92 1333,-124\"/>\n<polyline fill=\"none\" stroke=\"#a020f0\" points=\"1329,-120 1279,-120 \"/>\n<polyline fill=\"none\" stroke=\"#a020f0\" points=\"1329,-120 1329,-88 \"/>\n<polyline fill=\"none\" stroke=\"#a020f0\" points=\"1329,-120 1333,-124 \"/>\n<text text-anchor=\"middle\" x=\"1306\" y=\"-102.3\" font-family=\"Times,serif\" font-size=\"14.00\" fill=\"#000000\">Early</text>\n</g>\n<!-- 15 -->\n<g id=\"node28\" class=\"node\">\n<title>15</title>\n<polygon fill=\"none\" stroke=\"#ffa500\" points=\"1348,-52 1268,-52 1264,-48 1264,-16 1344,-16 1348,-20 1348,-52\"/>\n<polyline fill=\"none\" stroke=\"#ffa500\" points=\"1344,-48 1264,-48 \"/>\n<polyline fill=\"none\" stroke=\"#ffa500\" points=\"1344,-48 1344,-16 \"/>\n<polyline fill=\"none\" stroke=\"#ffa500\" points=\"1344,-48 1348,-52 \"/>\n<text text-anchor=\"middle\" x=\"1306\" y=\"-30.3\" font-family=\"Times,serif\" font-size=\"14.00\" fill=\"#000000\">Nurse ID: 2</text>\n</g>\n<!-- Early5&#45;&gt;15 -->\n<g id=\"edge16\" class=\"edge\">\n<title>Early5&#45;&gt;15</title>\n<path fill=\"none\" stroke=\"#000000\" d=\"M1306,-87.8314C1306,-80.131 1306,-70.9743 1306,-62.4166\"/>\n<polygon fill=\"#000000\" stroke=\"#000000\" points=\"1309.5001,-62.4132 1306,-52.4133 1302.5001,-62.4133 1309.5001,-62.4132\"/>\n</g>\n<!-- Night6 -->\n<g id=\"node29\" class=\"node\">\n<title>Night6</title>\n<polygon fill=\"none\" stroke=\"#a020f0\" points=\"2053,-124 2003,-124 1999,-120 1999,-88 2049,-88 2053,-92 2053,-124\"/>\n<polyline fill=\"none\" stroke=\"#a020f0\" points=\"2049,-120 1999,-120 \"/>\n<polyline fill=\"none\" stroke=\"#a020f0\" points=\"2049,-120 2049,-88 \"/>\n<polyline fill=\"none\" stroke=\"#a020f0\" points=\"2049,-120 2053,-124 \"/>\n<text text-anchor=\"middle\" x=\"2026\" y=\"-102.3\" font-family=\"Times,serif\" font-size=\"14.00\" fill=\"#000000\">Night</text>\n</g>\n<!-- 16 -->\n<g id=\"node30\" class=\"node\">\n<title>16</title>\n<polygon fill=\"none\" stroke=\"#ffa500\" points=\"2068,-52 1988,-52 1984,-48 1984,-16 2064,-16 2068,-20 2068,-52\"/>\n<polyline fill=\"none\" stroke=\"#ffa500\" points=\"2064,-48 1984,-48 \"/>\n<polyline fill=\"none\" stroke=\"#ffa500\" points=\"2064,-48 2064,-16 \"/>\n<polyline fill=\"none\" stroke=\"#ffa500\" points=\"2064,-48 2068,-52 \"/>\n<text text-anchor=\"middle\" x=\"2026\" y=\"-30.3\" font-family=\"Times,serif\" font-size=\"14.00\" fill=\"#000000\">Nurse ID: 4</text>\n</g>\n<!-- Night6&#45;&gt;16 -->\n<g id=\"edge17\" class=\"edge\">\n<title>Night6&#45;&gt;16</title>\n<path fill=\"none\" stroke=\"#000000\" d=\"M2026,-87.8314C2026,-80.131 2026,-70.9743 2026,-62.4166\"/>\n<polygon fill=\"#000000\" stroke=\"#000000\" points=\"2029.5001,-62.4132 2026,-52.4133 2022.5001,-62.4133 2029.5001,-62.4132\"/>\n</g>\n<!-- Late6 -->\n<g id=\"node31\" class=\"node\">\n<title>Late6</title>\n<polygon fill=\"none\" stroke=\"#a020f0\" points=\"1951,-124 1901,-124 1897,-120 1897,-88 1947,-88 1951,-92 1951,-124\"/>\n<polyline fill=\"none\" stroke=\"#a020f0\" points=\"1947,-120 1897,-120 \"/>\n<polyline fill=\"none\" stroke=\"#a020f0\" points=\"1947,-120 1947,-88 \"/>\n<polyline fill=\"none\" stroke=\"#a020f0\" points=\"1947,-120 1951,-124 \"/>\n<text text-anchor=\"middle\" x=\"1924\" y=\"-102.3\" font-family=\"Times,serif\" font-size=\"14.00\" fill=\"#000000\">Late</text>\n</g>\n<!-- 17 -->\n<g id=\"node32\" class=\"node\">\n<title>17</title>\n<polygon fill=\"none\" stroke=\"#ffa500\" points=\"1966,-52 1886,-52 1882,-48 1882,-16 1962,-16 1966,-20 1966,-52\"/>\n<polyline fill=\"none\" stroke=\"#ffa500\" points=\"1962,-48 1882,-48 \"/>\n<polyline fill=\"none\" stroke=\"#ffa500\" points=\"1962,-48 1962,-16 \"/>\n<polyline fill=\"none\" stroke=\"#ffa500\" points=\"1962,-48 1966,-52 \"/>\n<text text-anchor=\"middle\" x=\"1924\" y=\"-30.3\" font-family=\"Times,serif\" font-size=\"14.00\" fill=\"#000000\">Nurse ID: 3</text>\n</g>\n<!-- Late6&#45;&gt;17 -->\n<g id=\"edge18\" class=\"edge\">\n<title>Late6&#45;&gt;17</title>\n<path fill=\"none\" stroke=\"#000000\" d=\"M1924,-87.8314C1924,-80.131 1924,-70.9743 1924,-62.4166\"/>\n<polygon fill=\"#000000\" stroke=\"#000000\" points=\"1927.5001,-62.4132 1924,-52.4133 1920.5001,-62.4133 1927.5001,-62.4132\"/>\n</g>\n<!-- Early6 -->\n<g id=\"node33\" class=\"node\">\n<title>Early6</title>\n<polygon fill=\"none\" stroke=\"#a020f0\" points=\"1798,-124 1748,-124 1744,-120 1744,-88 1794,-88 1798,-92 1798,-124\"/>\n<polyline fill=\"none\" stroke=\"#a020f0\" points=\"1794,-120 1744,-120 \"/>\n<polyline fill=\"none\" stroke=\"#a020f0\" points=\"1794,-120 1794,-88 \"/>\n<polyline fill=\"none\" stroke=\"#a020f0\" points=\"1794,-120 1798,-124 \"/>\n<text text-anchor=\"middle\" x=\"1771\" y=\"-102.3\" font-family=\"Times,serif\" font-size=\"14.00\" fill=\"#000000\">Early</text>\n</g>\n<!-- 18 -->\n<g id=\"node34\" class=\"node\">\n<title>18</title>\n<polygon fill=\"none\" stroke=\"#ffa500\" points=\"1762,-52 1682,-52 1678,-48 1678,-16 1758,-16 1762,-20 1762,-52\"/>\n<polyline fill=\"none\" stroke=\"#ffa500\" points=\"1758,-48 1678,-48 \"/>\n<polyline fill=\"none\" stroke=\"#ffa500\" points=\"1758,-48 1758,-16 \"/>\n<polyline fill=\"none\" stroke=\"#ffa500\" points=\"1758,-48 1762,-52 \"/>\n<text text-anchor=\"middle\" x=\"1720\" y=\"-30.3\" font-family=\"Times,serif\" font-size=\"14.00\" fill=\"#000000\">Nurse ID: 2</text>\n</g>\n<!-- Early6&#45;&gt;18 -->\n<g id=\"edge19\" class=\"edge\">\n<title>Early6&#45;&gt;18</title>\n<path fill=\"none\" stroke=\"#000000\" d=\"M1758.1305,-87.8314C1752.3165,-79.6232 1745.3304,-69.7606 1738.9354,-60.7323\"/>\n<polygon fill=\"#000000\" stroke=\"#000000\" points=\"1741.679,-58.5505 1733.0427,-52.4133 1735.9669,-62.5966 1741.679,-58.5505\"/>\n</g>\n<!-- 19 -->\n<g id=\"node35\" class=\"node\">\n<title>19</title>\n<polygon fill=\"none\" stroke=\"#ffa500\" points=\"1864,-52 1784,-52 1780,-48 1780,-16 1860,-16 1864,-20 1864,-52\"/>\n<polyline fill=\"none\" stroke=\"#ffa500\" points=\"1860,-48 1780,-48 \"/>\n<polyline fill=\"none\" stroke=\"#ffa500\" points=\"1860,-48 1860,-16 \"/>\n<polyline fill=\"none\" stroke=\"#ffa500\" points=\"1860,-48 1864,-52 \"/>\n<text text-anchor=\"middle\" x=\"1822\" y=\"-30.3\" font-family=\"Times,serif\" font-size=\"14.00\" fill=\"#000000\">Nurse ID: 1</text>\n</g>\n<!-- Early6&#45;&gt;19 -->\n<g id=\"edge20\" class=\"edge\">\n<title>Early6&#45;&gt;19</title>\n<path fill=\"none\" stroke=\"#000000\" d=\"M1783.8695,-87.8314C1789.6835,-79.6232 1796.6696,-69.7606 1803.0646,-60.7323\"/>\n<polygon fill=\"#000000\" stroke=\"#000000\" points=\"1806.0331,-62.5966 1808.9573,-52.4133 1800.321,-58.5505 1806.0331,-62.5966\"/>\n</g>\n<!-- Night7 -->\n<g id=\"node36\" class=\"node\">\n<title>Night7</title>\n<polygon fill=\"none\" stroke=\"#a020f0\" points=\"2263,-124 2213,-124 2209,-120 2209,-88 2259,-88 2263,-92 2263,-124\"/>\n<polyline fill=\"none\" stroke=\"#a020f0\" points=\"2259,-120 2209,-120 \"/>\n<polyline fill=\"none\" stroke=\"#a020f0\" points=\"2259,-120 2259,-88 \"/>\n<polyline fill=\"none\" stroke=\"#a020f0\" points=\"2259,-120 2263,-124 \"/>\n<text text-anchor=\"middle\" x=\"2236\" y=\"-102.3\" font-family=\"Times,serif\" font-size=\"14.00\" fill=\"#000000\">Night</text>\n</g>\n<!-- 20 -->\n<g id=\"node37\" class=\"node\">\n<title>20</title>\n<polygon fill=\"none\" stroke=\"#ffa500\" points=\"2278,-52 2198,-52 2194,-48 2194,-16 2274,-16 2278,-20 2278,-52\"/>\n<polyline fill=\"none\" stroke=\"#ffa500\" points=\"2274,-48 2194,-48 \"/>\n<polyline fill=\"none\" stroke=\"#ffa500\" points=\"2274,-48 2274,-16 \"/>\n<polyline fill=\"none\" stroke=\"#ffa500\" points=\"2274,-48 2278,-52 \"/>\n<text text-anchor=\"middle\" x=\"2236\" y=\"-30.3\" font-family=\"Times,serif\" font-size=\"14.00\" fill=\"#000000\">Nurse ID: 4</text>\n</g>\n<!-- Night7&#45;&gt;20 -->\n<g id=\"edge21\" class=\"edge\">\n<title>Night7&#45;&gt;20</title>\n<path fill=\"none\" stroke=\"#000000\" d=\"M2236,-87.8314C2236,-80.131 2236,-70.9743 2236,-62.4166\"/>\n<polygon fill=\"#000000\" stroke=\"#000000\" points=\"2239.5001,-62.4132 2236,-52.4133 2232.5001,-62.4133 2239.5001,-62.4132\"/>\n</g>\n<!-- Late7 -->\n<g id=\"node38\" class=\"node\">\n<title>Late7</title>\n<polygon fill=\"none\" stroke=\"#a020f0\" points=\"2161,-124 2111,-124 2107,-120 2107,-88 2157,-88 2161,-92 2161,-124\"/>\n<polyline fill=\"none\" stroke=\"#a020f0\" points=\"2157,-120 2107,-120 \"/>\n<polyline fill=\"none\" stroke=\"#a020f0\" points=\"2157,-120 2157,-88 \"/>\n<polyline fill=\"none\" stroke=\"#a020f0\" points=\"2157,-120 2161,-124 \"/>\n<text text-anchor=\"middle\" x=\"2134\" y=\"-102.3\" font-family=\"Times,serif\" font-size=\"14.00\" fill=\"#000000\">Late</text>\n</g>\n<!-- 21 -->\n<g id=\"node39\" class=\"node\">\n<title>21</title>\n<polygon fill=\"none\" stroke=\"#ffa500\" points=\"2176,-52 2096,-52 2092,-48 2092,-16 2172,-16 2176,-20 2176,-52\"/>\n<polyline fill=\"none\" stroke=\"#ffa500\" points=\"2172,-48 2092,-48 \"/>\n<polyline fill=\"none\" stroke=\"#ffa500\" points=\"2172,-48 2172,-16 \"/>\n<polyline fill=\"none\" stroke=\"#ffa500\" points=\"2172,-48 2176,-52 \"/>\n<text text-anchor=\"middle\" x=\"2134\" y=\"-30.3\" font-family=\"Times,serif\" font-size=\"14.00\" fill=\"#000000\">Nurse ID: 5</text>\n</g>\n<!-- Late7&#45;&gt;21 -->\n<g id=\"edge22\" class=\"edge\">\n<title>Late7&#45;&gt;21</title>\n<path fill=\"none\" stroke=\"#000000\" d=\"M2134,-87.8314C2134,-80.131 2134,-70.9743 2134,-62.4166\"/>\n<polygon fill=\"#000000\" stroke=\"#000000\" points=\"2137.5001,-62.4132 2134,-52.4133 2130.5001,-62.4133 2137.5001,-62.4132\"/>\n</g>\n</g>\n</svg>\n"
          },
          "metadata": {},
          "execution_count": 8
        }
      ],
      "source": [
        "import graphviz\n",
        "\n",
        "p = graphviz.Digraph('parent')\n",
        "p.attr(compound='true')\n",
        "\n",
        "nDays = 7;\n",
        "edges = []\n",
        "id = 0\n",
        "\n",
        "roster = sorted(roster, key=lambda item: item[1])\n",
        "roster.reverse()\n",
        "       \n",
        "for day in range (1, nDays+1):\n",
        "    with p.subgraph(name='cluster'+str(day), node_attr={'shape': 'box3d', 'color': 'purple', 'style':'rounded'}) as c:\n",
        "      for item in roster:\n",
        "        #if it is the selected day\n",
        "        if item[0][0] == day:\n",
        "          #add the time of day if it doesn't exist already\n",
        "          c.node(str(item[1])+str(day), item[1])\n",
        "          #add the nurse\n",
        "          c.node(str(id), \"Nurse ID: \" + str(item[0][1]), color='orange')\n",
        "          #add the edge\n",
        "          edges.append([str(item[1])+str(day), str(id)])\n",
        "          id=id+1\n",
        "      c.attr(label=\"Day \"+str(day))\n",
        "      c.attr(style='rounded')\n",
        "      c.attr(fontsize='20')\n",
        "      \n",
        "\n",
        "p.edges(edges)\n",
        "\n",
        "\n",
        "p"
      ]
    },
    {
      "cell_type": "markdown",
      "source": [
        "We can also display the roster as the timetable for each nurse:"
      ],
      "metadata": {
        "id": "LMSsgljnrY8m"
      }
    },
    {
      "cell_type": "code",
      "execution_count": null,
      "metadata": {
        "id": "d-bgk-0-PITw",
        "colab": {
          "base_uri": "https://localhost:8080/",
          "height": 279
        },
        "outputId": "677290ca-f7af-46f9-e47f-fb9b8ee44747"
      },
      "outputs": [
        {
          "output_type": "execute_result",
          "data": {
            "text/plain": [
              "<graphviz.dot.Digraph at 0x7f9a484e63d0>"
            ],
            "image/svg+xml": "<?xml version=\"1.0\" encoding=\"UTF-8\" standalone=\"no\"?>\n<!DOCTYPE svg PUBLIC \"-//W3C//DTD SVG 1.1//EN\"\n \"http://www.w3.org/Graphics/SVG/1.1/DTD/svg11.dtd\">\n<!-- Generated by graphviz version 2.40.1 (20161225.0304)\n -->\n<!-- Title: parent Pages: 1 -->\n<svg width=\"1642pt\" height=\"178pt\"\n viewBox=\"0.00 0.00 1642.00 178.00\" xmlns=\"http://www.w3.org/2000/svg\" xmlns:xlink=\"http://www.w3.org/1999/xlink\">\n<g id=\"graph0\" class=\"graph\" transform=\"scale(1 1) rotate(0) translate(4 174)\">\n<title>parent</title>\n<polygon fill=\"#ffffff\" stroke=\"transparent\" points=\"-4,4 -4,-174 1638,-174 1638,4 -4,4\"/>\n<g id=\"clust1\" class=\"cluster\">\n<title>cluster1</title>\n<path fill=\"none\" stroke=\"#000000\" d=\"M20,-8C20,-8 78,-8 78,-8 84,-8 90,-14 90,-20 90,-20 90,-150 90,-150 90,-156 84,-162 78,-162 78,-162 20,-162 20,-162 14,-162 8,-156 8,-150 8,-150 8,-20 8,-20 8,-14 14,-8 20,-8\"/>\n<text text-anchor=\"middle\" x=\"49\" y=\"-142\" font-family=\"Times,serif\" font-size=\"20.00\" fill=\"#000000\">Nurse 1</text>\n</g>\n<g id=\"clust2\" class=\"cluster\">\n<title>cluster2</title>\n<path fill=\"none\" stroke=\"#000000\" d=\"M110,-8C110,-8 444,-8 444,-8 450,-8 456,-14 456,-20 456,-20 456,-150 456,-150 456,-156 450,-162 444,-162 444,-162 110,-162 110,-162 104,-162 98,-156 98,-150 98,-150 98,-20 98,-20 98,-14 104,-8 110,-8\"/>\n<text text-anchor=\"middle\" x=\"277\" y=\"-142\" font-family=\"Times,serif\" font-size=\"20.00\" fill=\"#000000\">Nurse 2</text>\n</g>\n<g id=\"clust3\" class=\"cluster\">\n<title>cluster3</title>\n<path fill=\"none\" stroke=\"#000000\" d=\"M476,-8C476,-8 810,-8 810,-8 816,-8 822,-14 822,-20 822,-20 822,-150 822,-150 822,-156 816,-162 810,-162 810,-162 476,-162 476,-162 470,-162 464,-156 464,-150 464,-150 464,-20 464,-20 464,-14 470,-8 476,-8\"/>\n<text text-anchor=\"middle\" x=\"643\" y=\"-142\" font-family=\"Times,serif\" font-size=\"20.00\" fill=\"#000000\">Nurse 3</text>\n</g>\n<g id=\"clust4\" class=\"cluster\">\n<title>cluster4</title>\n<path fill=\"none\" stroke=\"#000000\" d=\"M842,-8C842,-8 1248,-8 1248,-8 1254,-8 1260,-14 1260,-20 1260,-20 1260,-150 1260,-150 1260,-156 1254,-162 1248,-162 1248,-162 842,-162 842,-162 836,-162 830,-156 830,-150 830,-150 830,-20 830,-20 830,-14 836,-8 842,-8\"/>\n<text text-anchor=\"middle\" x=\"1045\" y=\"-142\" font-family=\"Times,serif\" font-size=\"20.00\" fill=\"#000000\">Nurse 4</text>\n</g>\n<g id=\"clust5\" class=\"cluster\">\n<title>cluster5</title>\n<path fill=\"none\" stroke=\"#000000\" d=\"M1280,-8C1280,-8 1614,-8 1614,-8 1620,-8 1626,-14 1626,-20 1626,-20 1626,-150 1626,-150 1626,-156 1620,-162 1614,-162 1614,-162 1280,-162 1280,-162 1274,-162 1268,-156 1268,-150 1268,-150 1268,-20 1268,-20 1268,-14 1274,-8 1280,-8\"/>\n<text text-anchor=\"middle\" x=\"1447\" y=\"-142\" font-family=\"Times,serif\" font-size=\"20.00\" fill=\"#000000\">Nurse 5</text>\n</g>\n<!-- 0 -->\n<g id=\"node1\" class=\"node\">\n<title>0</title>\n<polygon fill=\"none\" stroke=\"#ffa500\" points=\"76,-124 26,-124 22,-120 22,-88 72,-88 76,-92 76,-124\"/>\n<polyline fill=\"none\" stroke=\"#ffa500\" points=\"72,-120 22,-120 \"/>\n<polyline fill=\"none\" stroke=\"#ffa500\" points=\"72,-120 72,-88 \"/>\n<polyline fill=\"none\" stroke=\"#ffa500\" points=\"72,-120 76,-124 \"/>\n<text text-anchor=\"middle\" x=\"49\" y=\"-102.3\" font-family=\"Times,serif\" font-size=\"14.00\" fill=\"#000000\">Day 6</text>\n</g>\n<!-- 0Early1 -->\n<g id=\"node2\" class=\"node\">\n<title>0Early1</title>\n<polygon fill=\"none\" stroke=\"#a020f0\" points=\"76,-52 26,-52 22,-48 22,-16 72,-16 76,-20 76,-52\"/>\n<polyline fill=\"none\" stroke=\"#a020f0\" points=\"72,-48 22,-48 \"/>\n<polyline fill=\"none\" stroke=\"#a020f0\" points=\"72,-48 72,-16 \"/>\n<polyline fill=\"none\" stroke=\"#a020f0\" points=\"72,-48 76,-52 \"/>\n<text text-anchor=\"middle\" x=\"49\" y=\"-30.3\" font-family=\"Times,serif\" font-size=\"14.00\" fill=\"#000000\">Early</text>\n</g>\n<!-- 0&#45;&gt;0Early1 -->\n<g id=\"edge1\" class=\"edge\">\n<title>0&#45;&gt;0Early1</title>\n<path fill=\"none\" stroke=\"#000000\" d=\"M49,-87.8314C49,-80.131 49,-70.9743 49,-62.4166\"/>\n<polygon fill=\"#000000\" stroke=\"#000000\" points=\"52.5001,-62.4132 49,-52.4133 45.5001,-62.4133 52.5001,-62.4132\"/>\n</g>\n<!-- 1 -->\n<g id=\"node3\" class=\"node\">\n<title>1</title>\n<polygon fill=\"none\" stroke=\"#ffa500\" points=\"448,-124 398,-124 394,-120 394,-88 444,-88 448,-92 448,-124\"/>\n<polyline fill=\"none\" stroke=\"#ffa500\" points=\"444,-120 394,-120 \"/>\n<polyline fill=\"none\" stroke=\"#ffa500\" points=\"444,-120 444,-88 \"/>\n<polyline fill=\"none\" stroke=\"#ffa500\" points=\"444,-120 448,-124 \"/>\n<text text-anchor=\"middle\" x=\"421\" y=\"-102.3\" font-family=\"Times,serif\" font-size=\"14.00\" fill=\"#000000\">Day 6</text>\n</g>\n<!-- 1Early2 -->\n<g id=\"node4\" class=\"node\">\n<title>1Early2</title>\n<polygon fill=\"none\" stroke=\"#a020f0\" points=\"448,-52 398,-52 394,-48 394,-16 444,-16 448,-20 448,-52\"/>\n<polyline fill=\"none\" stroke=\"#a020f0\" points=\"444,-48 394,-48 \"/>\n<polyline fill=\"none\" stroke=\"#a020f0\" points=\"444,-48 444,-16 \"/>\n<polyline fill=\"none\" stroke=\"#a020f0\" points=\"444,-48 448,-52 \"/>\n<text text-anchor=\"middle\" x=\"421\" y=\"-30.3\" font-family=\"Times,serif\" font-size=\"14.00\" fill=\"#000000\">Early</text>\n</g>\n<!-- 1&#45;&gt;1Early2 -->\n<g id=\"edge2\" class=\"edge\">\n<title>1&#45;&gt;1Early2</title>\n<path fill=\"none\" stroke=\"#000000\" d=\"M421,-87.8314C421,-80.131 421,-70.9743 421,-62.4166\"/>\n<polygon fill=\"#000000\" stroke=\"#000000\" points=\"424.5001,-62.4132 421,-52.4133 417.5001,-62.4133 424.5001,-62.4132\"/>\n</g>\n<!-- 2 -->\n<g id=\"node5\" class=\"node\">\n<title>2</title>\n<polygon fill=\"none\" stroke=\"#ffa500\" points=\"376,-124 326,-124 322,-120 322,-88 372,-88 376,-92 376,-124\"/>\n<polyline fill=\"none\" stroke=\"#ffa500\" points=\"372,-120 322,-120 \"/>\n<polyline fill=\"none\" stroke=\"#ffa500\" points=\"372,-120 372,-88 \"/>\n<polyline fill=\"none\" stroke=\"#ffa500\" points=\"372,-120 376,-124 \"/>\n<text text-anchor=\"middle\" x=\"349\" y=\"-102.3\" font-family=\"Times,serif\" font-size=\"14.00\" fill=\"#000000\">Day 5</text>\n</g>\n<!-- 2Early2 -->\n<g id=\"node6\" class=\"node\">\n<title>2Early2</title>\n<polygon fill=\"none\" stroke=\"#a020f0\" points=\"376,-52 326,-52 322,-48 322,-16 372,-16 376,-20 376,-52\"/>\n<polyline fill=\"none\" stroke=\"#a020f0\" points=\"372,-48 322,-48 \"/>\n<polyline fill=\"none\" stroke=\"#a020f0\" points=\"372,-48 372,-16 \"/>\n<polyline fill=\"none\" stroke=\"#a020f0\" points=\"372,-48 376,-52 \"/>\n<text text-anchor=\"middle\" x=\"349\" y=\"-30.3\" font-family=\"Times,serif\" font-size=\"14.00\" fill=\"#000000\">Early</text>\n</g>\n<!-- 2&#45;&gt;2Early2 -->\n<g id=\"edge3\" class=\"edge\">\n<title>2&#45;&gt;2Early2</title>\n<path fill=\"none\" stroke=\"#000000\" d=\"M349,-87.8314C349,-80.131 349,-70.9743 349,-62.4166\"/>\n<polygon fill=\"#000000\" stroke=\"#000000\" points=\"352.5001,-62.4132 349,-52.4133 345.5001,-62.4133 352.5001,-62.4132\"/>\n</g>\n<!-- 3 -->\n<g id=\"node7\" class=\"node\">\n<title>3</title>\n<polygon fill=\"none\" stroke=\"#ffa500\" points=\"304,-124 254,-124 250,-120 250,-88 300,-88 304,-92 304,-124\"/>\n<polyline fill=\"none\" stroke=\"#ffa500\" points=\"300,-120 250,-120 \"/>\n<polyline fill=\"none\" stroke=\"#ffa500\" points=\"300,-120 300,-88 \"/>\n<polyline fill=\"none\" stroke=\"#ffa500\" points=\"300,-120 304,-124 \"/>\n<text text-anchor=\"middle\" x=\"277\" y=\"-102.3\" font-family=\"Times,serif\" font-size=\"14.00\" fill=\"#000000\">Day 3</text>\n</g>\n<!-- 3Early2 -->\n<g id=\"node8\" class=\"node\">\n<title>3Early2</title>\n<polygon fill=\"none\" stroke=\"#a020f0\" points=\"304,-52 254,-52 250,-48 250,-16 300,-16 304,-20 304,-52\"/>\n<polyline fill=\"none\" stroke=\"#a020f0\" points=\"300,-48 250,-48 \"/>\n<polyline fill=\"none\" stroke=\"#a020f0\" points=\"300,-48 300,-16 \"/>\n<polyline fill=\"none\" stroke=\"#a020f0\" points=\"300,-48 304,-52 \"/>\n<text text-anchor=\"middle\" x=\"277\" y=\"-30.3\" font-family=\"Times,serif\" font-size=\"14.00\" fill=\"#000000\">Early</text>\n</g>\n<!-- 3&#45;&gt;3Early2 -->\n<g id=\"edge4\" class=\"edge\">\n<title>3&#45;&gt;3Early2</title>\n<path fill=\"none\" stroke=\"#000000\" d=\"M277,-87.8314C277,-80.131 277,-70.9743 277,-62.4166\"/>\n<polygon fill=\"#000000\" stroke=\"#000000\" points=\"280.5001,-62.4132 277,-52.4133 273.5001,-62.4133 280.5001,-62.4132\"/>\n</g>\n<!-- 4 -->\n<g id=\"node9\" class=\"node\">\n<title>4</title>\n<polygon fill=\"none\" stroke=\"#ffa500\" points=\"232,-124 182,-124 178,-120 178,-88 228,-88 232,-92 232,-124\"/>\n<polyline fill=\"none\" stroke=\"#ffa500\" points=\"228,-120 178,-120 \"/>\n<polyline fill=\"none\" stroke=\"#ffa500\" points=\"228,-120 228,-88 \"/>\n<polyline fill=\"none\" stroke=\"#ffa500\" points=\"228,-120 232,-124 \"/>\n<text text-anchor=\"middle\" x=\"205\" y=\"-102.3\" font-family=\"Times,serif\" font-size=\"14.00\" fill=\"#000000\">Day 2</text>\n</g>\n<!-- 4Early2 -->\n<g id=\"node10\" class=\"node\">\n<title>4Early2</title>\n<polygon fill=\"none\" stroke=\"#a020f0\" points=\"232,-52 182,-52 178,-48 178,-16 228,-16 232,-20 232,-52\"/>\n<polyline fill=\"none\" stroke=\"#a020f0\" points=\"228,-48 178,-48 \"/>\n<polyline fill=\"none\" stroke=\"#a020f0\" points=\"228,-48 228,-16 \"/>\n<polyline fill=\"none\" stroke=\"#a020f0\" points=\"228,-48 232,-52 \"/>\n<text text-anchor=\"middle\" x=\"205\" y=\"-30.3\" font-family=\"Times,serif\" font-size=\"14.00\" fill=\"#000000\">Early</text>\n</g>\n<!-- 4&#45;&gt;4Early2 -->\n<g id=\"edge5\" class=\"edge\">\n<title>4&#45;&gt;4Early2</title>\n<path fill=\"none\" stroke=\"#000000\" d=\"M205,-87.8314C205,-80.131 205,-70.9743 205,-62.4166\"/>\n<polygon fill=\"#000000\" stroke=\"#000000\" points=\"208.5001,-62.4132 205,-52.4133 201.5001,-62.4133 208.5001,-62.4132\"/>\n</g>\n<!-- 5 -->\n<g id=\"node11\" class=\"node\">\n<title>5</title>\n<polygon fill=\"none\" stroke=\"#ffa500\" points=\"160,-124 110,-124 106,-120 106,-88 156,-88 160,-92 160,-124\"/>\n<polyline fill=\"none\" stroke=\"#ffa500\" points=\"156,-120 106,-120 \"/>\n<polyline fill=\"none\" stroke=\"#ffa500\" points=\"156,-120 156,-88 \"/>\n<polyline fill=\"none\" stroke=\"#ffa500\" points=\"156,-120 160,-124 \"/>\n<text text-anchor=\"middle\" x=\"133\" y=\"-102.3\" font-family=\"Times,serif\" font-size=\"14.00\" fill=\"#000000\">Day 1</text>\n</g>\n<!-- 5Early2 -->\n<g id=\"node12\" class=\"node\">\n<title>5Early2</title>\n<polygon fill=\"none\" stroke=\"#a020f0\" points=\"160,-52 110,-52 106,-48 106,-16 156,-16 160,-20 160,-52\"/>\n<polyline fill=\"none\" stroke=\"#a020f0\" points=\"156,-48 106,-48 \"/>\n<polyline fill=\"none\" stroke=\"#a020f0\" points=\"156,-48 156,-16 \"/>\n<polyline fill=\"none\" stroke=\"#a020f0\" points=\"156,-48 160,-52 \"/>\n<text text-anchor=\"middle\" x=\"133\" y=\"-30.3\" font-family=\"Times,serif\" font-size=\"14.00\" fill=\"#000000\">Early</text>\n</g>\n<!-- 5&#45;&gt;5Early2 -->\n<g id=\"edge6\" class=\"edge\">\n<title>5&#45;&gt;5Early2</title>\n<path fill=\"none\" stroke=\"#000000\" d=\"M133,-87.8314C133,-80.131 133,-70.9743 133,-62.4166\"/>\n<polygon fill=\"#000000\" stroke=\"#000000\" points=\"136.5001,-62.4132 133,-52.4133 129.5001,-62.4133 136.5001,-62.4132\"/>\n</g>\n<!-- 6 -->\n<g id=\"node13\" class=\"node\">\n<title>6</title>\n<polygon fill=\"none\" stroke=\"#ffa500\" points=\"814,-124 764,-124 760,-120 760,-88 810,-88 814,-92 814,-124\"/>\n<polyline fill=\"none\" stroke=\"#ffa500\" points=\"810,-120 760,-120 \"/>\n<polyline fill=\"none\" stroke=\"#ffa500\" points=\"810,-120 810,-88 \"/>\n<polyline fill=\"none\" stroke=\"#ffa500\" points=\"810,-120 814,-124 \"/>\n<text text-anchor=\"middle\" x=\"787\" y=\"-102.3\" font-family=\"Times,serif\" font-size=\"14.00\" fill=\"#000000\">Day 6</text>\n</g>\n<!-- 6Late3 -->\n<g id=\"node14\" class=\"node\">\n<title>6Late3</title>\n<polygon fill=\"none\" stroke=\"#a020f0\" points=\"814,-52 764,-52 760,-48 760,-16 810,-16 814,-20 814,-52\"/>\n<polyline fill=\"none\" stroke=\"#a020f0\" points=\"810,-48 760,-48 \"/>\n<polyline fill=\"none\" stroke=\"#a020f0\" points=\"810,-48 810,-16 \"/>\n<polyline fill=\"none\" stroke=\"#a020f0\" points=\"810,-48 814,-52 \"/>\n<text text-anchor=\"middle\" x=\"787\" y=\"-30.3\" font-family=\"Times,serif\" font-size=\"14.00\" fill=\"#000000\">Late</text>\n</g>\n<!-- 6&#45;&gt;6Late3 -->\n<g id=\"edge7\" class=\"edge\">\n<title>6&#45;&gt;6Late3</title>\n<path fill=\"none\" stroke=\"#000000\" d=\"M787,-87.8314C787,-80.131 787,-70.9743 787,-62.4166\"/>\n<polygon fill=\"#000000\" stroke=\"#000000\" points=\"790.5001,-62.4132 787,-52.4133 783.5001,-62.4133 790.5001,-62.4132\"/>\n</g>\n<!-- 7 -->\n<g id=\"node15\" class=\"node\">\n<title>7</title>\n<polygon fill=\"none\" stroke=\"#ffa500\" points=\"742,-124 692,-124 688,-120 688,-88 738,-88 742,-92 742,-124\"/>\n<polyline fill=\"none\" stroke=\"#ffa500\" points=\"738,-120 688,-120 \"/>\n<polyline fill=\"none\" stroke=\"#ffa500\" points=\"738,-120 738,-88 \"/>\n<polyline fill=\"none\" stroke=\"#ffa500\" points=\"738,-120 742,-124 \"/>\n<text text-anchor=\"middle\" x=\"715\" y=\"-102.3\" font-family=\"Times,serif\" font-size=\"14.00\" fill=\"#000000\">Day 5</text>\n</g>\n<!-- 7Late3 -->\n<g id=\"node16\" class=\"node\">\n<title>7Late3</title>\n<polygon fill=\"none\" stroke=\"#a020f0\" points=\"742,-52 692,-52 688,-48 688,-16 738,-16 742,-20 742,-52\"/>\n<polyline fill=\"none\" stroke=\"#a020f0\" points=\"738,-48 688,-48 \"/>\n<polyline fill=\"none\" stroke=\"#a020f0\" points=\"738,-48 738,-16 \"/>\n<polyline fill=\"none\" stroke=\"#a020f0\" points=\"738,-48 742,-52 \"/>\n<text text-anchor=\"middle\" x=\"715\" y=\"-30.3\" font-family=\"Times,serif\" font-size=\"14.00\" fill=\"#000000\">Late</text>\n</g>\n<!-- 7&#45;&gt;7Late3 -->\n<g id=\"edge8\" class=\"edge\">\n<title>7&#45;&gt;7Late3</title>\n<path fill=\"none\" stroke=\"#000000\" d=\"M715,-87.8314C715,-80.131 715,-70.9743 715,-62.4166\"/>\n<polygon fill=\"#000000\" stroke=\"#000000\" points=\"718.5001,-62.4132 715,-52.4133 711.5001,-62.4133 718.5001,-62.4132\"/>\n</g>\n<!-- 8 -->\n<g id=\"node17\" class=\"node\">\n<title>8</title>\n<polygon fill=\"none\" stroke=\"#ffa500\" points=\"670,-124 620,-124 616,-120 616,-88 666,-88 670,-92 670,-124\"/>\n<polyline fill=\"none\" stroke=\"#ffa500\" points=\"666,-120 616,-120 \"/>\n<polyline fill=\"none\" stroke=\"#ffa500\" points=\"666,-120 666,-88 \"/>\n<polyline fill=\"none\" stroke=\"#ffa500\" points=\"666,-120 670,-124 \"/>\n<text text-anchor=\"middle\" x=\"643\" y=\"-102.3\" font-family=\"Times,serif\" font-size=\"14.00\" fill=\"#000000\">Day 3</text>\n</g>\n<!-- 8Late3 -->\n<g id=\"node18\" class=\"node\">\n<title>8Late3</title>\n<polygon fill=\"none\" stroke=\"#a020f0\" points=\"670,-52 620,-52 616,-48 616,-16 666,-16 670,-20 670,-52\"/>\n<polyline fill=\"none\" stroke=\"#a020f0\" points=\"666,-48 616,-48 \"/>\n<polyline fill=\"none\" stroke=\"#a020f0\" points=\"666,-48 666,-16 \"/>\n<polyline fill=\"none\" stroke=\"#a020f0\" points=\"666,-48 670,-52 \"/>\n<text text-anchor=\"middle\" x=\"643\" y=\"-30.3\" font-family=\"Times,serif\" font-size=\"14.00\" fill=\"#000000\">Late</text>\n</g>\n<!-- 8&#45;&gt;8Late3 -->\n<g id=\"edge9\" class=\"edge\">\n<title>8&#45;&gt;8Late3</title>\n<path fill=\"none\" stroke=\"#000000\" d=\"M643,-87.8314C643,-80.131 643,-70.9743 643,-62.4166\"/>\n<polygon fill=\"#000000\" stroke=\"#000000\" points=\"646.5001,-62.4132 643,-52.4133 639.5001,-62.4133 646.5001,-62.4132\"/>\n</g>\n<!-- 9 -->\n<g id=\"node19\" class=\"node\">\n<title>9</title>\n<polygon fill=\"none\" stroke=\"#ffa500\" points=\"598,-124 548,-124 544,-120 544,-88 594,-88 598,-92 598,-124\"/>\n<polyline fill=\"none\" stroke=\"#ffa500\" points=\"594,-120 544,-120 \"/>\n<polyline fill=\"none\" stroke=\"#ffa500\" points=\"594,-120 594,-88 \"/>\n<polyline fill=\"none\" stroke=\"#ffa500\" points=\"594,-120 598,-124 \"/>\n<text text-anchor=\"middle\" x=\"571\" y=\"-102.3\" font-family=\"Times,serif\" font-size=\"14.00\" fill=\"#000000\">Day 2</text>\n</g>\n<!-- 9Late3 -->\n<g id=\"node20\" class=\"node\">\n<title>9Late3</title>\n<polygon fill=\"none\" stroke=\"#a020f0\" points=\"598,-52 548,-52 544,-48 544,-16 594,-16 598,-20 598,-52\"/>\n<polyline fill=\"none\" stroke=\"#a020f0\" points=\"594,-48 544,-48 \"/>\n<polyline fill=\"none\" stroke=\"#a020f0\" points=\"594,-48 594,-16 \"/>\n<polyline fill=\"none\" stroke=\"#a020f0\" points=\"594,-48 598,-52 \"/>\n<text text-anchor=\"middle\" x=\"571\" y=\"-30.3\" font-family=\"Times,serif\" font-size=\"14.00\" fill=\"#000000\">Late</text>\n</g>\n<!-- 9&#45;&gt;9Late3 -->\n<g id=\"edge10\" class=\"edge\">\n<title>9&#45;&gt;9Late3</title>\n<path fill=\"none\" stroke=\"#000000\" d=\"M571,-87.8314C571,-80.131 571,-70.9743 571,-62.4166\"/>\n<polygon fill=\"#000000\" stroke=\"#000000\" points=\"574.5001,-62.4132 571,-52.4133 567.5001,-62.4133 574.5001,-62.4132\"/>\n</g>\n<!-- 10 -->\n<g id=\"node21\" class=\"node\">\n<title>10</title>\n<polygon fill=\"none\" stroke=\"#ffa500\" points=\"526,-124 476,-124 472,-120 472,-88 522,-88 526,-92 526,-124\"/>\n<polyline fill=\"none\" stroke=\"#ffa500\" points=\"522,-120 472,-120 \"/>\n<polyline fill=\"none\" stroke=\"#ffa500\" points=\"522,-120 522,-88 \"/>\n<polyline fill=\"none\" stroke=\"#ffa500\" points=\"522,-120 526,-124 \"/>\n<text text-anchor=\"middle\" x=\"499\" y=\"-102.3\" font-family=\"Times,serif\" font-size=\"14.00\" fill=\"#000000\">Day 1</text>\n</g>\n<!-- 10Early3 -->\n<g id=\"node22\" class=\"node\">\n<title>10Early3</title>\n<polygon fill=\"none\" stroke=\"#a020f0\" points=\"526,-52 476,-52 472,-48 472,-16 522,-16 526,-20 526,-52\"/>\n<polyline fill=\"none\" stroke=\"#a020f0\" points=\"522,-48 472,-48 \"/>\n<polyline fill=\"none\" stroke=\"#a020f0\" points=\"522,-48 522,-16 \"/>\n<polyline fill=\"none\" stroke=\"#a020f0\" points=\"522,-48 526,-52 \"/>\n<text text-anchor=\"middle\" x=\"499\" y=\"-30.3\" font-family=\"Times,serif\" font-size=\"14.00\" fill=\"#000000\">Early</text>\n</g>\n<!-- 10&#45;&gt;10Early3 -->\n<g id=\"edge11\" class=\"edge\">\n<title>10&#45;&gt;10Early3</title>\n<path fill=\"none\" stroke=\"#000000\" d=\"M499,-87.8314C499,-80.131 499,-70.9743 499,-62.4166\"/>\n<polygon fill=\"#000000\" stroke=\"#000000\" points=\"502.5001,-62.4132 499,-52.4133 495.5001,-62.4133 502.5001,-62.4132\"/>\n</g>\n<!-- 11 -->\n<g id=\"node23\" class=\"node\">\n<title>11</title>\n<polygon fill=\"none\" stroke=\"#ffa500\" points=\"1252,-124 1202,-124 1198,-120 1198,-88 1248,-88 1252,-92 1252,-124\"/>\n<polyline fill=\"none\" stroke=\"#ffa500\" points=\"1248,-120 1198,-120 \"/>\n<polyline fill=\"none\" stroke=\"#ffa500\" points=\"1248,-120 1248,-88 \"/>\n<polyline fill=\"none\" stroke=\"#ffa500\" points=\"1248,-120 1252,-124 \"/>\n<text text-anchor=\"middle\" x=\"1225\" y=\"-102.3\" font-family=\"Times,serif\" font-size=\"14.00\" fill=\"#000000\">Day 7</text>\n</g>\n<!-- 11Night4 -->\n<g id=\"node24\" class=\"node\">\n<title>11Night4</title>\n<polygon fill=\"none\" stroke=\"#a020f0\" points=\"1252,-52 1202,-52 1198,-48 1198,-16 1248,-16 1252,-20 1252,-52\"/>\n<polyline fill=\"none\" stroke=\"#a020f0\" points=\"1248,-48 1198,-48 \"/>\n<polyline fill=\"none\" stroke=\"#a020f0\" points=\"1248,-48 1248,-16 \"/>\n<polyline fill=\"none\" stroke=\"#a020f0\" points=\"1248,-48 1252,-52 \"/>\n<text text-anchor=\"middle\" x=\"1225\" y=\"-30.3\" font-family=\"Times,serif\" font-size=\"14.00\" fill=\"#000000\">Night</text>\n</g>\n<!-- 11&#45;&gt;11Night4 -->\n<g id=\"edge12\" class=\"edge\">\n<title>11&#45;&gt;11Night4</title>\n<path fill=\"none\" stroke=\"#000000\" d=\"M1225,-87.8314C1225,-80.131 1225,-70.9743 1225,-62.4166\"/>\n<polygon fill=\"#000000\" stroke=\"#000000\" points=\"1228.5001,-62.4132 1225,-52.4133 1221.5001,-62.4133 1228.5001,-62.4132\"/>\n</g>\n<!-- 12 -->\n<g id=\"node25\" class=\"node\">\n<title>12</title>\n<polygon fill=\"none\" stroke=\"#ffa500\" points=\"1180,-124 1130,-124 1126,-120 1126,-88 1176,-88 1180,-92 1180,-124\"/>\n<polyline fill=\"none\" stroke=\"#ffa500\" points=\"1176,-120 1126,-120 \"/>\n<polyline fill=\"none\" stroke=\"#ffa500\" points=\"1176,-120 1176,-88 \"/>\n<polyline fill=\"none\" stroke=\"#ffa500\" points=\"1176,-120 1180,-124 \"/>\n<text text-anchor=\"middle\" x=\"1153\" y=\"-102.3\" font-family=\"Times,serif\" font-size=\"14.00\" fill=\"#000000\">Day 6</text>\n</g>\n<!-- 12Night4 -->\n<g id=\"node26\" class=\"node\">\n<title>12Night4</title>\n<polygon fill=\"none\" stroke=\"#a020f0\" points=\"1180,-52 1130,-52 1126,-48 1126,-16 1176,-16 1180,-20 1180,-52\"/>\n<polyline fill=\"none\" stroke=\"#a020f0\" points=\"1176,-48 1126,-48 \"/>\n<polyline fill=\"none\" stroke=\"#a020f0\" points=\"1176,-48 1176,-16 \"/>\n<polyline fill=\"none\" stroke=\"#a020f0\" points=\"1176,-48 1180,-52 \"/>\n<text text-anchor=\"middle\" x=\"1153\" y=\"-30.3\" font-family=\"Times,serif\" font-size=\"14.00\" fill=\"#000000\">Night</text>\n</g>\n<!-- 12&#45;&gt;12Night4 -->\n<g id=\"edge13\" class=\"edge\">\n<title>12&#45;&gt;12Night4</title>\n<path fill=\"none\" stroke=\"#000000\" d=\"M1153,-87.8314C1153,-80.131 1153,-70.9743 1153,-62.4166\"/>\n<polygon fill=\"#000000\" stroke=\"#000000\" points=\"1156.5001,-62.4132 1153,-52.4133 1149.5001,-62.4133 1156.5001,-62.4132\"/>\n</g>\n<!-- 13 -->\n<g id=\"node27\" class=\"node\">\n<title>13</title>\n<polygon fill=\"none\" stroke=\"#ffa500\" points=\"1108,-124 1058,-124 1054,-120 1054,-88 1104,-88 1108,-92 1108,-124\"/>\n<polyline fill=\"none\" stroke=\"#ffa500\" points=\"1104,-120 1054,-120 \"/>\n<polyline fill=\"none\" stroke=\"#ffa500\" points=\"1104,-120 1104,-88 \"/>\n<polyline fill=\"none\" stroke=\"#ffa500\" points=\"1104,-120 1108,-124 \"/>\n<text text-anchor=\"middle\" x=\"1081\" y=\"-102.3\" font-family=\"Times,serif\" font-size=\"14.00\" fill=\"#000000\">Day 5</text>\n</g>\n<!-- 13Night4 -->\n<g id=\"node28\" class=\"node\">\n<title>13Night4</title>\n<polygon fill=\"none\" stroke=\"#a020f0\" points=\"1108,-52 1058,-52 1054,-48 1054,-16 1104,-16 1108,-20 1108,-52\"/>\n<polyline fill=\"none\" stroke=\"#a020f0\" points=\"1104,-48 1054,-48 \"/>\n<polyline fill=\"none\" stroke=\"#a020f0\" points=\"1104,-48 1104,-16 \"/>\n<polyline fill=\"none\" stroke=\"#a020f0\" points=\"1104,-48 1108,-52 \"/>\n<text text-anchor=\"middle\" x=\"1081\" y=\"-30.3\" font-family=\"Times,serif\" font-size=\"14.00\" fill=\"#000000\">Night</text>\n</g>\n<!-- 13&#45;&gt;13Night4 -->\n<g id=\"edge14\" class=\"edge\">\n<title>13&#45;&gt;13Night4</title>\n<path fill=\"none\" stroke=\"#000000\" d=\"M1081,-87.8314C1081,-80.131 1081,-70.9743 1081,-62.4166\"/>\n<polygon fill=\"#000000\" stroke=\"#000000\" points=\"1084.5001,-62.4132 1081,-52.4133 1077.5001,-62.4133 1084.5001,-62.4132\"/>\n</g>\n<!-- 14 -->\n<g id=\"node29\" class=\"node\">\n<title>14</title>\n<polygon fill=\"none\" stroke=\"#ffa500\" points=\"1036,-124 986,-124 982,-120 982,-88 1032,-88 1036,-92 1036,-124\"/>\n<polyline fill=\"none\" stroke=\"#ffa500\" points=\"1032,-120 982,-120 \"/>\n<polyline fill=\"none\" stroke=\"#ffa500\" points=\"1032,-120 1032,-88 \"/>\n<polyline fill=\"none\" stroke=\"#ffa500\" points=\"1032,-120 1036,-124 \"/>\n<text text-anchor=\"middle\" x=\"1009\" y=\"-102.3\" font-family=\"Times,serif\" font-size=\"14.00\" fill=\"#000000\">Day 3</text>\n</g>\n<!-- 14Night4 -->\n<g id=\"node30\" class=\"node\">\n<title>14Night4</title>\n<polygon fill=\"none\" stroke=\"#a020f0\" points=\"1036,-52 986,-52 982,-48 982,-16 1032,-16 1036,-20 1036,-52\"/>\n<polyline fill=\"none\" stroke=\"#a020f0\" points=\"1032,-48 982,-48 \"/>\n<polyline fill=\"none\" stroke=\"#a020f0\" points=\"1032,-48 1032,-16 \"/>\n<polyline fill=\"none\" stroke=\"#a020f0\" points=\"1032,-48 1036,-52 \"/>\n<text text-anchor=\"middle\" x=\"1009\" y=\"-30.3\" font-family=\"Times,serif\" font-size=\"14.00\" fill=\"#000000\">Night</text>\n</g>\n<!-- 14&#45;&gt;14Night4 -->\n<g id=\"edge15\" class=\"edge\">\n<title>14&#45;&gt;14Night4</title>\n<path fill=\"none\" stroke=\"#000000\" d=\"M1009,-87.8314C1009,-80.131 1009,-70.9743 1009,-62.4166\"/>\n<polygon fill=\"#000000\" stroke=\"#000000\" points=\"1012.5001,-62.4132 1009,-52.4133 1005.5001,-62.4133 1012.5001,-62.4132\"/>\n</g>\n<!-- 15 -->\n<g id=\"node31\" class=\"node\">\n<title>15</title>\n<polygon fill=\"none\" stroke=\"#ffa500\" points=\"964,-124 914,-124 910,-120 910,-88 960,-88 964,-92 964,-124\"/>\n<polyline fill=\"none\" stroke=\"#ffa500\" points=\"960,-120 910,-120 \"/>\n<polyline fill=\"none\" stroke=\"#ffa500\" points=\"960,-120 960,-88 \"/>\n<polyline fill=\"none\" stroke=\"#ffa500\" points=\"960,-120 964,-124 \"/>\n<text text-anchor=\"middle\" x=\"937\" y=\"-102.3\" font-family=\"Times,serif\" font-size=\"14.00\" fill=\"#000000\">Day 2</text>\n</g>\n<!-- 15Night4 -->\n<g id=\"node32\" class=\"node\">\n<title>15Night4</title>\n<polygon fill=\"none\" stroke=\"#a020f0\" points=\"964,-52 914,-52 910,-48 910,-16 960,-16 964,-20 964,-52\"/>\n<polyline fill=\"none\" stroke=\"#a020f0\" points=\"960,-48 910,-48 \"/>\n<polyline fill=\"none\" stroke=\"#a020f0\" points=\"960,-48 960,-16 \"/>\n<polyline fill=\"none\" stroke=\"#a020f0\" points=\"960,-48 964,-52 \"/>\n<text text-anchor=\"middle\" x=\"937\" y=\"-30.3\" font-family=\"Times,serif\" font-size=\"14.00\" fill=\"#000000\">Night</text>\n</g>\n<!-- 15&#45;&gt;15Night4 -->\n<g id=\"edge16\" class=\"edge\">\n<title>15&#45;&gt;15Night4</title>\n<path fill=\"none\" stroke=\"#000000\" d=\"M937,-87.8314C937,-80.131 937,-70.9743 937,-62.4166\"/>\n<polygon fill=\"#000000\" stroke=\"#000000\" points=\"940.5001,-62.4132 937,-52.4133 933.5001,-62.4133 940.5001,-62.4132\"/>\n</g>\n<!-- 16 -->\n<g id=\"node33\" class=\"node\">\n<title>16</title>\n<polygon fill=\"none\" stroke=\"#ffa500\" points=\"892,-124 842,-124 838,-120 838,-88 888,-88 892,-92 892,-124\"/>\n<polyline fill=\"none\" stroke=\"#ffa500\" points=\"888,-120 838,-120 \"/>\n<polyline fill=\"none\" stroke=\"#ffa500\" points=\"888,-120 888,-88 \"/>\n<polyline fill=\"none\" stroke=\"#ffa500\" points=\"888,-120 892,-124 \"/>\n<text text-anchor=\"middle\" x=\"865\" y=\"-102.3\" font-family=\"Times,serif\" font-size=\"14.00\" fill=\"#000000\">Day 1</text>\n</g>\n<!-- 16Late4 -->\n<g id=\"node34\" class=\"node\">\n<title>16Late4</title>\n<polygon fill=\"none\" stroke=\"#a020f0\" points=\"892,-52 842,-52 838,-48 838,-16 888,-16 892,-20 892,-52\"/>\n<polyline fill=\"none\" stroke=\"#a020f0\" points=\"888,-48 838,-48 \"/>\n<polyline fill=\"none\" stroke=\"#a020f0\" points=\"888,-48 888,-16 \"/>\n<polyline fill=\"none\" stroke=\"#a020f0\" points=\"888,-48 892,-52 \"/>\n<text text-anchor=\"middle\" x=\"865\" y=\"-30.3\" font-family=\"Times,serif\" font-size=\"14.00\" fill=\"#000000\">Late</text>\n</g>\n<!-- 16&#45;&gt;16Late4 -->\n<g id=\"edge17\" class=\"edge\">\n<title>16&#45;&gt;16Late4</title>\n<path fill=\"none\" stroke=\"#000000\" d=\"M865,-87.8314C865,-80.131 865,-70.9743 865,-62.4166\"/>\n<polygon fill=\"#000000\" stroke=\"#000000\" points=\"868.5001,-62.4132 865,-52.4133 861.5001,-62.4133 868.5001,-62.4132\"/>\n</g>\n<!-- 17 -->\n<g id=\"node35\" class=\"node\">\n<title>17</title>\n<polygon fill=\"none\" stroke=\"#ffa500\" points=\"1618,-124 1568,-124 1564,-120 1564,-88 1614,-88 1618,-92 1618,-124\"/>\n<polyline fill=\"none\" stroke=\"#ffa500\" points=\"1614,-120 1564,-120 \"/>\n<polyline fill=\"none\" stroke=\"#ffa500\" points=\"1614,-120 1614,-88 \"/>\n<polyline fill=\"none\" stroke=\"#ffa500\" points=\"1614,-120 1618,-124 \"/>\n<text text-anchor=\"middle\" x=\"1591\" y=\"-102.3\" font-family=\"Times,serif\" font-size=\"14.00\" fill=\"#000000\">Day 7</text>\n</g>\n<!-- 17Late5 -->\n<g id=\"node36\" class=\"node\">\n<title>17Late5</title>\n<polygon fill=\"none\" stroke=\"#a020f0\" points=\"1618,-52 1568,-52 1564,-48 1564,-16 1614,-16 1618,-20 1618,-52\"/>\n<polyline fill=\"none\" stroke=\"#a020f0\" points=\"1614,-48 1564,-48 \"/>\n<polyline fill=\"none\" stroke=\"#a020f0\" points=\"1614,-48 1614,-16 \"/>\n<polyline fill=\"none\" stroke=\"#a020f0\" points=\"1614,-48 1618,-52 \"/>\n<text text-anchor=\"middle\" x=\"1591\" y=\"-30.3\" font-family=\"Times,serif\" font-size=\"14.00\" fill=\"#000000\">Late</text>\n</g>\n<!-- 17&#45;&gt;17Late5 -->\n<g id=\"edge18\" class=\"edge\">\n<title>17&#45;&gt;17Late5</title>\n<path fill=\"none\" stroke=\"#000000\" d=\"M1591,-87.8314C1591,-80.131 1591,-70.9743 1591,-62.4166\"/>\n<polygon fill=\"#000000\" stroke=\"#000000\" points=\"1594.5001,-62.4132 1591,-52.4133 1587.5001,-62.4133 1594.5001,-62.4132\"/>\n</g>\n<!-- 18 -->\n<g id=\"node37\" class=\"node\">\n<title>18</title>\n<polygon fill=\"none\" stroke=\"#ffa500\" points=\"1546,-124 1496,-124 1492,-120 1492,-88 1542,-88 1546,-92 1546,-124\"/>\n<polyline fill=\"none\" stroke=\"#ffa500\" points=\"1542,-120 1492,-120 \"/>\n<polyline fill=\"none\" stroke=\"#ffa500\" points=\"1542,-120 1542,-88 \"/>\n<polyline fill=\"none\" stroke=\"#ffa500\" points=\"1542,-120 1546,-124 \"/>\n<text text-anchor=\"middle\" x=\"1519\" y=\"-102.3\" font-family=\"Times,serif\" font-size=\"14.00\" fill=\"#000000\">Day 5</text>\n</g>\n<!-- 18Night5 -->\n<g id=\"node38\" class=\"node\">\n<title>18Night5</title>\n<polygon fill=\"none\" stroke=\"#a020f0\" points=\"1546,-52 1496,-52 1492,-48 1492,-16 1542,-16 1546,-20 1546,-52\"/>\n<polyline fill=\"none\" stroke=\"#a020f0\" points=\"1542,-48 1492,-48 \"/>\n<polyline fill=\"none\" stroke=\"#a020f0\" points=\"1542,-48 1542,-16 \"/>\n<polyline fill=\"none\" stroke=\"#a020f0\" points=\"1542,-48 1546,-52 \"/>\n<text text-anchor=\"middle\" x=\"1519\" y=\"-30.3\" font-family=\"Times,serif\" font-size=\"14.00\" fill=\"#000000\">Night</text>\n</g>\n<!-- 18&#45;&gt;18Night5 -->\n<g id=\"edge19\" class=\"edge\">\n<title>18&#45;&gt;18Night5</title>\n<path fill=\"none\" stroke=\"#000000\" d=\"M1519,-87.8314C1519,-80.131 1519,-70.9743 1519,-62.4166\"/>\n<polygon fill=\"#000000\" stroke=\"#000000\" points=\"1522.5001,-62.4132 1519,-52.4133 1515.5001,-62.4133 1522.5001,-62.4132\"/>\n</g>\n<!-- 19 -->\n<g id=\"node39\" class=\"node\">\n<title>19</title>\n<polygon fill=\"none\" stroke=\"#ffa500\" points=\"1474,-124 1424,-124 1420,-120 1420,-88 1470,-88 1474,-92 1474,-124\"/>\n<polyline fill=\"none\" stroke=\"#ffa500\" points=\"1470,-120 1420,-120 \"/>\n<polyline fill=\"none\" stroke=\"#ffa500\" points=\"1470,-120 1470,-88 \"/>\n<polyline fill=\"none\" stroke=\"#ffa500\" points=\"1470,-120 1474,-124 \"/>\n<text text-anchor=\"middle\" x=\"1447\" y=\"-102.3\" font-family=\"Times,serif\" font-size=\"14.00\" fill=\"#000000\">Day 4</text>\n</g>\n<!-- 19Night5 -->\n<g id=\"node40\" class=\"node\">\n<title>19Night5</title>\n<polygon fill=\"none\" stroke=\"#a020f0\" points=\"1474,-52 1424,-52 1420,-48 1420,-16 1470,-16 1474,-20 1474,-52\"/>\n<polyline fill=\"none\" stroke=\"#a020f0\" points=\"1470,-48 1420,-48 \"/>\n<polyline fill=\"none\" stroke=\"#a020f0\" points=\"1470,-48 1470,-16 \"/>\n<polyline fill=\"none\" stroke=\"#a020f0\" points=\"1470,-48 1474,-52 \"/>\n<text text-anchor=\"middle\" x=\"1447\" y=\"-30.3\" font-family=\"Times,serif\" font-size=\"14.00\" fill=\"#000000\">Night</text>\n</g>\n<!-- 19&#45;&gt;19Night5 -->\n<g id=\"edge20\" class=\"edge\">\n<title>19&#45;&gt;19Night5</title>\n<path fill=\"none\" stroke=\"#000000\" d=\"M1447,-87.8314C1447,-80.131 1447,-70.9743 1447,-62.4166\"/>\n<polygon fill=\"#000000\" stroke=\"#000000\" points=\"1450.5001,-62.4132 1447,-52.4133 1443.5001,-62.4133 1450.5001,-62.4132\"/>\n</g>\n<!-- 20 -->\n<g id=\"node41\" class=\"node\">\n<title>20</title>\n<polygon fill=\"none\" stroke=\"#ffa500\" points=\"1402,-124 1352,-124 1348,-120 1348,-88 1398,-88 1402,-92 1402,-124\"/>\n<polyline fill=\"none\" stroke=\"#ffa500\" points=\"1398,-120 1348,-120 \"/>\n<polyline fill=\"none\" stroke=\"#ffa500\" points=\"1398,-120 1398,-88 \"/>\n<polyline fill=\"none\" stroke=\"#ffa500\" points=\"1398,-120 1402,-124 \"/>\n<text text-anchor=\"middle\" x=\"1375\" y=\"-102.3\" font-family=\"Times,serif\" font-size=\"14.00\" fill=\"#000000\">Day 2</text>\n</g>\n<!-- 20Night5 -->\n<g id=\"node42\" class=\"node\">\n<title>20Night5</title>\n<polygon fill=\"none\" stroke=\"#a020f0\" points=\"1402,-52 1352,-52 1348,-48 1348,-16 1398,-16 1402,-20 1402,-52\"/>\n<polyline fill=\"none\" stroke=\"#a020f0\" points=\"1398,-48 1348,-48 \"/>\n<polyline fill=\"none\" stroke=\"#a020f0\" points=\"1398,-48 1398,-16 \"/>\n<polyline fill=\"none\" stroke=\"#a020f0\" points=\"1398,-48 1402,-52 \"/>\n<text text-anchor=\"middle\" x=\"1375\" y=\"-30.3\" font-family=\"Times,serif\" font-size=\"14.00\" fill=\"#000000\">Night</text>\n</g>\n<!-- 20&#45;&gt;20Night5 -->\n<g id=\"edge21\" class=\"edge\">\n<title>20&#45;&gt;20Night5</title>\n<path fill=\"none\" stroke=\"#000000\" d=\"M1375,-87.8314C1375,-80.131 1375,-70.9743 1375,-62.4166\"/>\n<polygon fill=\"#000000\" stroke=\"#000000\" points=\"1378.5001,-62.4132 1375,-52.4133 1371.5001,-62.4133 1378.5001,-62.4132\"/>\n</g>\n<!-- 21 -->\n<g id=\"node43\" class=\"node\">\n<title>21</title>\n<polygon fill=\"none\" stroke=\"#ffa500\" points=\"1330,-124 1280,-124 1276,-120 1276,-88 1326,-88 1330,-92 1330,-124\"/>\n<polyline fill=\"none\" stroke=\"#ffa500\" points=\"1326,-120 1276,-120 \"/>\n<polyline fill=\"none\" stroke=\"#ffa500\" points=\"1326,-120 1326,-88 \"/>\n<polyline fill=\"none\" stroke=\"#ffa500\" points=\"1326,-120 1330,-124 \"/>\n<text text-anchor=\"middle\" x=\"1303\" y=\"-102.3\" font-family=\"Times,serif\" font-size=\"14.00\" fill=\"#000000\">Day 1</text>\n</g>\n<!-- 21Late5 -->\n<g id=\"node44\" class=\"node\">\n<title>21Late5</title>\n<polygon fill=\"none\" stroke=\"#a020f0\" points=\"1330,-52 1280,-52 1276,-48 1276,-16 1326,-16 1330,-20 1330,-52\"/>\n<polyline fill=\"none\" stroke=\"#a020f0\" points=\"1326,-48 1276,-48 \"/>\n<polyline fill=\"none\" stroke=\"#a020f0\" points=\"1326,-48 1326,-16 \"/>\n<polyline fill=\"none\" stroke=\"#a020f0\" points=\"1326,-48 1330,-52 \"/>\n<text text-anchor=\"middle\" x=\"1303\" y=\"-30.3\" font-family=\"Times,serif\" font-size=\"14.00\" fill=\"#000000\">Late</text>\n</g>\n<!-- 21&#45;&gt;21Late5 -->\n<g id=\"edge22\" class=\"edge\">\n<title>21&#45;&gt;21Late5</title>\n<path fill=\"none\" stroke=\"#000000\" d=\"M1303,-87.8314C1303,-80.131 1303,-70.9743 1303,-62.4166\"/>\n<polygon fill=\"#000000\" stroke=\"#000000\" points=\"1306.5001,-62.4132 1303,-52.4133 1299.5001,-62.4133 1306.5001,-62.4132\"/>\n</g>\n</g>\n</svg>\n"
          },
          "metadata": {},
          "execution_count": 15
        }
      ],
      "source": [
        "p = graphviz.Digraph('parent')\n",
        "p.attr(compound='true')\n",
        "\n",
        "nNurses = 5;\n",
        "edges = []\n",
        "id = 0\n",
        "\n",
        "roster = sorted(roster, key=lambda item: item[0][0])\n",
        "roster.reverse()\n",
        "       \n",
        "for nurse in range (1, nNurses+1):\n",
        "    with p.subgraph(name='cluster'+str(nurse), node_attr={'shape': 'box3d', 'color': 'purple', 'style':'rounded'}) as c:\n",
        "      for item in roster:\n",
        "        #if it is the selected nurse\n",
        "        if item[0][1] == nurse:\n",
        "          \n",
        "          #add the day\n",
        "          c.node(str(id), \"Day \" + str(item[0][0]), color='orange')\n",
        "\n",
        "          #add the time of day\n",
        "          c.node((str(id) + str(item[1]))+str(nurse), item[1])\n",
        "          \n",
        "          #add the edge\n",
        "          edges.append([str(id), (str(id) + str(item[1]))+str(nurse)])\n",
        "          id=id+1\n",
        "      c.attr(label=\"Nurse \"+str(nurse))\n",
        "      c.attr(style='rounded')\n",
        "      c.attr(fontsize='20')\n",
        "      \n",
        "\n",
        "p.edges(edges)\n",
        "\n",
        "\n",
        "p"
      ]
    }
  ],
  "metadata": {
    "colab": {
      "collapsed_sections": [
        "cFk1jIuP38LE",
        "qsGFV5Dv_OOQ"
      ],
      "provenance": [],
      "include_colab_link": true
    },
    "kernelspec": {
      "display_name": "Python 3",
      "name": "python3"
    },
    "language_info": {
      "name": "python"
    }
  },
  "nbformat": 4,
  "nbformat_minor": 0
}
