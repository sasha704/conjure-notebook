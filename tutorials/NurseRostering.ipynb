{
  "cells": [
    {
      "cell_type": "markdown",
      "metadata": {
        "id": "view-in-github",
        "colab_type": "text"
      },
      "source": [
        "<a href=\"https://colab.research.google.com/github/sasha704/conjure-notebook/blob/tutorials/tutorials/NurseRostering.ipynb\" target=\"_parent\"><img src=\"https://colab.research.google.com/assets/colab-badge.svg\" alt=\"Open In Colab\"/></a>"
      ]
    },
    {
      "cell_type": "markdown",
      "metadata": {
        "id": "G0mPqC-63XVl"
      },
      "source": [
        "#Nurse Rostering"
      ]
    },
    {
      "cell_type": "markdown",
      "metadata": {
        "id": "sT5HA7OR3a_f"
      },
      "source": [
        "Original [Nurse Rostering](https://conjure.readthedocs.io/en/latest/tutorials.html#nurse-rostering) by András Salamon, Nguyen Dang and Saad Attieh. Adapted by Alex Gallagher."
      ]
    },
    {
      "cell_type": "markdown",
      "metadata": {
        "id": "eyp734R43ttT"
      },
      "source": [
        "We now discuss a version of [Nurse Rostering](https://en.wikipedia.org/wiki/Nurse_scheduling_problem), a constrained scheduling problem. Variants of this problem are also known by other names, such as workforce planning and staff scheduling. Unlike versions of this problem studied by operations research practitioners and researchers (such as competition instances [CDDC+19](https://conjure.readthedocs.io/en/latest/zreferences.html#id4), we here focus on just a few of the simplest constraints.\n",
        "\n",
        "Some nurses are available to work in a hospital. Each day is divided into a sequence of shifts, for instance an early-morning shift, a day shift, and a night shift. Each nurse should be assigned to work some shifts during the course of a period of consecutive days. A nurse can be assigned to at most one shift per day. Moreover, for each nurse we need to avoid some forbidden shift patterns within two consecutive days. For example, a nurse cannot work a night shift on one day, and an early-morning shift the next day. We also must make sure to meet the minimum number of nurses required for each shift. These demand values may vary between different days."
      ]
    },
    {
      "cell_type": "code",
      "execution_count": null,
      "metadata": {
        "colab": {
          "base_uri": "https://localhost:8080/",
          "height": 121
        },
        "id": "tc3lNb_Q-7TL",
        "outputId": "c7b24220-733c-439b-d228-e1b2c607f8ed"
      },
      "outputs": [
        {
          "output_type": "stream",
          "name": "stdout",
          "text": [
            "Installing Conjure...\n",
            "Conjure: The Automated Constraint Modelling Tool\n",
            "Release version 2.4.0\n",
            "Repository version a7382e3d9 (2022-11-21 10:41:03 +0000)\n"
          ]
        },
        {
          "output_type": "display_data",
          "data": {
            "text/plain": [
              "<IPython.core.display.Javascript object>"
            ],
            "application/javascript": [
              "\"use strict\";\n",
              "\n",
              "CodeMirror.defineMode(\"text/conjure\", function (config) {\n",
              "\n",
              "    var isOperatorChar = /[+\\-*=<>%^\\/]/;\n",
              "\n",
              "    var keywords = {\n",
              "        \"forall\": true,\n",
              "        \"allDifferent\": true,\n",
              "        \"allDiff\": true,\n",
              "        \"alldifferent_except\": true,\n",
              "        \"dim\": true,\n",
              "        \"toSet\": true,\n",
              "        \"toMSet\": true,\n",
              "        \"toRelation\": true,\n",
              "        \"maximising\": true,\n",
              "        \"minimising\": true,\n",
              "        \"forAll\": true,\n",
              "        \"exists\": true,\n",
              "        \"toInt\": true,\n",
              "        \"sum\": true,\n",
              "        \"be\": true,\n",
              "        \"bijective\": true,\n",
              "        \"bool\": true,\n",
              "        \"by\": true,\n",
              "        \"complete\": true,\n",
              "        \"defined\": true,\n",
              "        \"domain\": true,\n",
              "        \"in\": true,\n",
              "        \"or\": true,\n",
              "        \"and\": true,\n",
              "        \"false\": true,\n",
              "        \"find\": true,\n",
              "        \"from\": true,\n",
              "        \"function\": true,\n",
              "        \"given\": true,\n",
              "        \"image\": true,\n",
              "        \"indexed\": true,\n",
              "        \"injective\": true,\n",
              "        \"int\": true,\n",
              "        \"intersect\": true,\n",
              "        \"freq\": true,\n",
              "        \"lambda\": true,\n",
              "        \"language\": true,\n",
              "        \"letting\": true,\n",
              "        \"matrix\": true,\n",
              "        \"maxNumParts\": true,\n",
              "        \"maxOccur\": true,\n",
              "        \"maxPartSize\": true,\n",
              "        \"maxSize\": true,\n",
              "        \"minNumParts\": true,\n",
              "        \"minOccur\": true,\n",
              "        \"minPartSize\": true,\n",
              "        \"minSize\": true,\n",
              "        \"mset\": true,\n",
              "        \"numParts\": true,\n",
              "        \"of\": true,\n",
              "        \"partial\": true,\n",
              "        \"partition\": true,\n",
              "        \"partSize\": true,\n",
              "        \"preImage\": true,\n",
              "        \"quantifier\": true,\n",
              "        \"range\": true,\n",
              "        \"regular\": true,\n",
              "        \"relation\": true,\n",
              "        \"representation\": true,\n",
              "        \"set\": true,\n",
              "        \"size\": true,\n",
              "        \"subset\": true,\n",
              "        \"subsetEq\": true,\n",
              "        \"such\": true,\n",
              "        \"supset\": true,\n",
              "        \"supsetEq\": true,\n",
              "        \"surjective\": true,\n",
              "        \"that\": true,\n",
              "        \"together\": true,\n",
              "        \"enum\": true,\n",
              "        \"total\": true,\n",
              "        \"true\": true,\n",
              "        \"new\": true,\n",
              "        \"type\": true,\n",
              "        \"tuple\": true,\n",
              "        \"union\": true,\n",
              "        \"where\": true,\n",
              "        \"branching\": true,\n",
              "        \"on\": true\n",
              "    };  \n",
              "    var punc = \":;,.(){}[]\";\n",
              "\n",
              "    function tokenBase(stream, state) {\n",
              "        var ch = stream.next();\n",
              "        if (ch == '\"') {\n",
              "            state.tokenize.push(tokenString);\n",
              "            return tokenString(stream, state);\n",
              "        }\n",
              "        if (/[\\d\\.]/.test(ch)) {\n",
              "            if (ch == \".\") {\n",
              "                stream.match(/^[0-9]+([eE][\\-+]?[0-9]+)?/);\n",
              "            } else if (ch == \"0\") {\n",
              "                stream.match(/^[xX][0-9a-fA-F]+/) || stream.match(/^0[0-7]+/);\n",
              "            } else {\n",
              "                stream.match(/^[0-9]*\\.?[0-9]*([eE][\\-+]?[0-9]+)?/);\n",
              "            }\n",
              "            return \"number\";\n",
              "        }\n",
              "        if (ch == \"/\") {\n",
              "            if (stream.eat(\"*\")) {\n",
              "                state.tokenize.push(tokenComment);\n",
              "                return tokenComment(stream, state);\n",
              "            }\n",
              "        }\n",
              "        if (ch == \"$\") {\n",
              "            stream.skipToEnd();\n",
              "            return \"comment\";\n",
              "        }\n",
              "        if (isOperatorChar.test(ch)) {\n",
              "            stream.eatWhile(isOperatorChar);\n",
              "            return \"operator\";\n",
              "        }\n",
              "        if (punc.indexOf(ch) > -1) {\n",
              "            return \"punctuation\";\n",
              "        }\n",
              "        stream.eatWhile(/[\\w\\$_\\xa1-\\uffff]/);\n",
              "        var cur = stream.current();\n",
              "        \n",
              "        if (keywords.propertyIsEnumerable(cur)) {\n",
              "            return \"keyword\";\n",
              "        }\n",
              "        return \"variable\";\n",
              "    }\n",
              "\n",
              "    function tokenComment(stream, state) {\n",
              "        var maybeEnd = false, ch;\n",
              "        while (ch = stream.next()) {\n",
              "            if (ch == \"/\" && maybeEnd) {\n",
              "                state.tokenize.pop();\n",
              "                break;\n",
              "            }\n",
              "            maybeEnd = (ch == \"*\");\n",
              "        }\n",
              "        return \"comment\";\n",
              "    }\n",
              "\n",
              "    function tokenUntilClosingParen() {\n",
              "        var depth = 0;\n",
              "        return function (stream, state, prev) {\n",
              "            var inner = tokenBase(stream, state, prev);\n",
              "            console.log(\"untilClosing\", inner, stream.current());\n",
              "            if (inner == \"punctuation\") {\n",
              "                if (stream.current() == \"(\") {\n",
              "                    ++depth;\n",
              "                } else if (stream.current() == \")\") {\n",
              "                    if (depth == 0) {\n",
              "                        stream.backUp(1)\n",
              "                        state.tokenize.pop()\n",
              "                        return state.tokenize[state.tokenize.length - 1](stream, state)\n",
              "                    } else {\n",
              "                        --depth;\n",
              "                    }\n",
              "                }\n",
              "            }\n",
              "            return inner;\n",
              "        }\n",
              "    }\n",
              "\n",
              "    function tokenString(stream, state) {\n",
              "        var escaped = false, next, end = false;\n",
              "        while ((next = stream.next()) != null) {\n",
              "            if (next == '(' && escaped) {\n",
              "                state.tokenize.push(tokenUntilClosingParen());\n",
              "                return \"string\";\n",
              "            }\n",
              "            if (next == '\"' && !escaped) { end = true; break; }\n",
              "            escaped = !escaped && next == \"\\\\\";\n",
              "        }\n",
              "        if (end || !escaped)\n",
              "            state.tokenize.pop();\n",
              "        return \"string\";\n",
              "    }\n",
              "\n",
              "    return {\n",
              "        startState: function (basecolumn) {\n",
              "            return {\n",
              "                tokenize: []\n",
              "            };\n",
              "        },\n",
              "\n",
              "        token: function (stream, state) {\n",
              "            if (stream.eatSpace()) return null;\n",
              "            var style = (state.tokenize[state.tokenize.length - 1] || tokenBase)(stream, state);\n",
              "            console.log(\"token\", style);\n",
              "            return style;\n",
              "        },\n",
              "\n",
              "        blockCommentStart: \"/*\",\n",
              "        blockCommentEnd: \"*/\",\n",
              "        lineComment: \"$\"\n",
              "    };\n",
              "});\n",
              "\n",
              "\n",
              "CodeMirror.defineMIME(\"text/conjure\", \"text/conjure\");\n",
              "\n",
              "require(['notebook/js/codecell'], function (codecell) {\n",
              "    codecell.CodeCell.options_default.highlight_modes['magic_text/conjure'] = { 'reg': [/%?%conjure/] };\n",
              "    Jupyter.notebook.events.one('kernel_ready.Kernel', function () {\n",
              "        Jupyter.notebook.get_cells().map(function (cell) {\n",
              "            if (cell.cell_type == 'code') { cell.auto_highlight(); }\n",
              "        });\n",
              "    });\n",
              "});\n",
              "\n"
            ]
          },
          "metadata": {}
        },
        {
          "output_type": "stream",
          "name": "stdout",
          "text": [
            "Conjure extension is loaded.\n",
            "For usage help run: %conjure_help\n"
          ]
        }
      ],
      "source": [
        "!source <(curl -s https://raw.githubusercontent.com/conjure-cp/conjure-notebook/v0.0.2/scripts/install-colab.sh)\n",
        "%load_ext conjure"
      ]
    },
    {
      "cell_type": "markdown",
      "metadata": {
        "id": "cFk1jIuP38LE"
      },
      "source": [
        "##Initial specification"
      ]
    },
    {
      "cell_type": "markdown",
      "metadata": {
        "id": "JwAsti574JRJ"
      },
      "source": [
        "To begin with, let’s ignore the forbidden patterns, and focus instead on the elements needed to model the problem. We need nurses, shifts for each day, the minimum demand, and a roster."
      ]
    },
    {
      "cell_type": "markdown",
      "metadata": {
        "id": "T1zikM3e9xl-"
      },
      "source": [
        "`given nNurses, nDays : int(1..)`\n",
        "\n",
        "`given shifts new type enum`\n",
        "\n",
        "`letting days be domain int(1..nDays)`\n",
        "\n",
        "`letting nurses be domain int(1..nNurses)`\n",
        "\n",
        "`letting nShifts be |'shifts'|`\n",
        "\n",
        "`given forbiddenPatterns : set of tuple (shifts, shifts)`\n",
        "\n",
        "`given minimumDemand : function (total) (days, shifts) --> int(0..nNurses)`\n",
        "\n",
        "`where`\n",
        "\n",
        "   `forAll d : days .`\n",
        "\n",
        "  `(sum s : shifts . minimumDemand((d,s))) <= nNurses`\n",
        "\n",
        "`find roster: function (days, shifts) --> nurses`\n",
        "\n",
        "`$ constraint 1 (Single assignment per day)`\n",
        "\n",
        "`$ a nurse can be assigned to at most one shift per day`\n",
        "\n",
        "`such that`\n",
        "\n",
        "`forAll nurse : nurses .`\n",
        "\n",
        "`forAll day : days .`\n",
        "\n",
        "`(sum ((d,_),n) in roster . toInt(n=nurse /\\ d=day)) <= 1`"
      ]
    },
    {
      "cell_type": "markdown",
      "metadata": {
        "id": "jOAzUfPt-lYH"
      },
      "source": [
        "This specification contains the basic elements. We made the choice to use an enumerated type for shifts, positive integers to number the nurses and the days, a set of forbidden patterns (each being a pair of shifts), and a total function mapping each shift slot to a number of nurses to represent the minimum demands. Because we only allow a nurse to work one shift each day, the forbidden patterns can only apply to one day and the next day, with the first shift in a forbidden pattern referring to the first day and the second shift referring to the subsequent day. We also added a `where` condition to ensure that instances are not trivially impossible, by requiring the minimum demand to never exceed the number of nurses."
      ]
    },
    {
      "cell_type": "markdown",
      "metadata": {
        "id": "_7i2Q2GG-utJ"
      },
      "source": [
        "We also need a test instance. Generating test instances is an interesting subject (for instance, see [AkgunDM+19](https://conjure.readthedocs.io/en/latest/zreferences.html#id5)) but here we have just made one up."
      ]
    },
    {
      "cell_type": "code",
      "execution_count": null,
      "metadata": {
        "colab": {
          "base_uri": "https://localhost:8080/"
        },
        "id": "VPvjN0O4_EOo",
        "outputId": "22ef95db-4f48-4561-e301-e3acbdf05e2e"
      },
      "outputs": [
        {
          "output_type": "execute_result",
          "data": {
            "text/plain": [
              "{}"
            ]
          },
          "metadata": {},
          "execution_count": 3
        }
      ],
      "source": [
        "%%conjure\n",
        "letting nNurses be 5\n",
        "letting nDays be 7\n",
        "letting shifts be new type enum {Early, Late, Night}\n",
        "letting forbiddenPatterns be {\n",
        "   (Late,Early), (Night,Early), (Night,Late)\n",
        "}\n",
        "letting minimumDemand be function (\n",
        "   (1,Early) --> 2, (1,Late) --> 2, (1,Night) --> 0,\n",
        "   (2,Early) --> 1, (2,Late) --> 1, (2,Night) --> 2,\n",
        "   (3,Early) --> 1, (3,Late) --> 1, (3,Night) --> 1,\n",
        "   (4,Early) --> 0, (4,Late) --> 0, (4,Night) --> 1,\n",
        "   (5,Early) --> 1, (5,Late) --> 1, (5,Night) --> 2,\n",
        "   (6,Early) --> 2, (6,Late) --> 1, (6,Night) --> 1,\n",
        "   (7,Early) --> 0, (7,Late) --> 1, (7,Night) --> 1\n",
        ")\n",
        "letting days be domain int(1..nDays)\n",
        "letting nurses be domain int(1..nNurses)\n",
        "letting nShifts be |`shifts`|"
      ]
    },
    {
      "cell_type": "markdown",
      "metadata": {
        "id": "GZWxlTxR_Mc0"
      },
      "source": [
        "We have 5 nurses, 7 days in the period, three shifts each day, three forbidden pairs of shifts, and some minimum demands for the various shifts."
      ]
    },
    {
      "cell_type": "markdown",
      "metadata": {
        "id": "qsGFV5Dv_OOQ"
      },
      "source": [
        "##Changing an overly restrictive assumption"
      ]
    },
    {
      "cell_type": "markdown",
      "metadata": {
        "id": "fv7fysoh_QtW"
      },
      "source": [
        "However, on further reflection this first specification is not correct. Since roster is a function `(days, shifts) --> nurses` only one nurse can be assigned to the same shift of the same day. This means that if the minimum demand asks for 2 or more nurses for a particular day and shift, then we can’t satisfy this demand. We need to remove the overly restrictive assumption enforced by our choice of representation for roster.\n",
        "\n",
        "\n",
        "Let’s change the representation of `roster`, leaving the specification exactly the same up to and including the `where` condition. Instead of mapping each day/shift pair to a single nurse, we could map each day/shift pair to a set of nurses, map each nurse to a set of day/shift pairs, or map each combination of day and nurse to a shift (but with not all combinations needing to be assigned). Each of these choices leads to a slightly different way to model the problem; here we have picked the last. It is left as an exercise to try the others!"
      ]
    },
    {
      "cell_type": "code",
      "execution_count": null,
      "metadata": {
        "colab": {
          "base_uri": "https://localhost:8080/"
        },
        "id": "cYZ6AFfc_jhm",
        "outputId": "68985b19-6a9f-4011-ad3b-88c1629d1e76"
      },
      "outputs": [
        {
          "output_type": "stream",
          "name": "stderr",
          "text": [
            "UsageError: Cell magic `%%conjure` not found.\n"
          ]
        }
      ],
      "source": [
        "%%conjure --solver=minion\n",
        "find roster: function (days, nurses) --> shifts\n",
        "$ constraint 1 (Single assignment per day)\n",
        "$ a nurse can be assigned to at most one shift per day\n",
        "$ NOTE: automatically satisfied because of how \"roster\" is defined\n",
        "\n",
        "$ constraint 2 (Under staffing)\n",
        "$ the number of nurses for each shift suffice for the minimum demand\n",
        "such that\n",
        "   forAll day : days .\n",
        "      forAll shift : shifts .\n",
        "         (sum ((d,_),s) in roster . toInt(d=day /\\ s=shift))\n",
        "            >= minimumDemand((day,shift))\n",
        "\n",
        "$ constraint 3 (Shift type successions)\n",
        "$ the shift type assignments of one nurse on two consecutive days\n",
        "$ must not violate any forbidden succession\n",
        "such that\n",
        "   forAll d : int(1..(nDays-1)) .\n",
        "      forAll n : nurses .\n",
        "         !((roster(d,n), roster(d+1,n)) in forbiddenPatterns)"
      ]
    },
    {
      "cell_type": "markdown",
      "metadata": {
        "id": "kE06me_J_09p"
      },
      "source": [
        "Note that in this specification, the first constraint is automatically satisfied because of the way we have defined `roster` as a function from a day/nurse pair to a shift. So changing the representation of `roster` has not only removed the overly restrictive assumption that only one nurse can be assigned to a day/shift pair, but also dealt with the first real constraint.\n",
        "\n",
        "We have added a second constraint to enforce the minimum demand for each shift, by requiring that the number of nurses mapped to each day/shift pair is at least as large as the minimum demand for that day/shift pair.\n",
        "\n",
        "Finally, we have added a third constraint to ensure that forbidden shift patterns do not occur."
      ]
    },
    {
      "cell_type": "markdown",
      "metadata": {
        "id": "0uBBIwlX_9am"
      },
      "source": [
        "##Final model"
      ]
    },
    {
      "cell_type": "markdown",
      "metadata": {
        "id": "6QotfeQu__8C"
      },
      "source": [
        "Unfortunately, the second specification is not accepted by Conjure. The `roster` function is expecting a single pair as its argument, but we have given two arguments (a day and a nurse). We replace the last constraint by a version that corrects this syntax error:"
      ]
    },
    {
      "cell_type": "markdown",
      "metadata": {
        "id": "ISY-4C0-AGHi"
      },
      "source": [
        "`$ constraint 3 (Shift type successions)`\n",
        "\n",
        "`$ the shift type assignments of one nurse on two consecutive days`\n",
        "\n",
        "`$ must not violate any forbidden succession`\n",
        "\n",
        "`such that`\n",
        "   \n",
        "`forAll d : int(1..(nDays-1)) .`\n",
        "\n",
        "`forAll n : nurses .`\n",
        "\n",
        "`!((roster((d,n)), roster((d+1,n))) in forbiddenPatterns)`"
      ]
    },
    {
      "cell_type": "markdown",
      "metadata": {
        "id": "8LptUFIwAV4v"
      },
      "source": [
        "This is a specification that is acceptable to Conjure and which captures the key constraints we wanted to include."
      ]
    },
    {
      "cell_type": "markdown",
      "metadata": {
        "id": "Lg0TdcXwAbx_"
      },
      "source": [
        "Putting these constraints together gives us:\n",
        "\n",
        "(*warning - running this cell may take quite a while!*)\n",
        "\n"
      ]
    },
    {
      "cell_type": "code",
      "execution_count": null,
      "metadata": {
        "id": "OLxLDWYPAflD"
      },
      "outputs": [],
      "source": [
        "%%conjure --solver=minion\n",
        "find roster: function (days, nurses) --> shifts\n",
        "$ constraint 1 (Single assignment per day)\n",
        "$ a nurse can be assigned to at most one shift per day\n",
        "$ NOTE: automatically satisfied because of how \"roster\" is defined\n",
        "\n",
        "$ constraint 2 (Under staffing)\n",
        "$ the number of nurses for each shift suffice for the minimum demand\n",
        "such that\n",
        "   forAll day : days .\n",
        "      forAll shift : shifts .\n",
        "         (sum ((d,_),s) in roster . toInt(d=day /\\ s=shift))\n",
        "            >= minimumDemand((day,shift))\n",
        "\n",
        "$ constraint 3 (Shift type successions)\n",
        "$ the shift type assignments of one nurse on two consecutive days\n",
        "$ must not violate any forbidden succession\n",
        "such that\n",
        "   forAll d : int(1..(nDays-1)) .\n",
        "      forAll n : nurses .\n",
        "         !((roster((d,n)), roster((d+1,n))) in forbiddenPatterns)"
      ]
    },
    {
      "cell_type": "markdown",
      "metadata": {
        "id": "KvbAlL_O_hrQ"
      },
      "source": [
        "The solver used here is Minion [CDDC+19](https://conjure.readthedocs.io/en/latest/zreferences.html#id4), a constraint programming solver. After quite some time, this creates the following solution:"
      ]
    },
    {
      "cell_type": "code",
      "execution_count": null,
      "metadata": {
        "id": "vm7aSCAp_2LF",
        "colab": {
          "base_uri": "https://localhost:8080/"
        },
        "outputId": "38bcbfc3-f97a-433c-e153-27699bff9c1b"
      },
      "outputs": [
        {
          "output_type": "stream",
          "name": "stdout",
          "text": [
            "[[[1, 2], 'Early'], [[1, 3], 'Early'], [[1, 4], 'Late'], [[1, 5], 'Late'], [[2, 2], 'Early'], [[2, 3], 'Late'], [[2, 4], 'Night'], [[2, 5], 'Night'], [[3, 2], 'Early'], [[3, 3], 'Late'], [[3, 4], 'Night'], [[4, 5], 'Night'], [[5, 2], 'Early'], [[5, 3], 'Late'], [[5, 4], 'Night'], [[5, 5], 'Night'], [[6, 1], 'Early'], [[6, 2], 'Early'], [[6, 3], 'Late'], [[6, 4], 'Night'], [[7, 4], 'Night'], [[7, 5], 'Late']]\n"
          ]
        }
      ],
      "source": [
        "print(roster)"
      ]
    },
    {
      "cell_type": "markdown",
      "metadata": {
        "id": "vZZnYwBxANRW"
      },
      "source": [
        "A much faster way to obtain a solution is to ask Minion to use the domoverwdeg variable ordering, which is often effective on constrained scheduling problems:"
      ]
    },
    {
      "cell_type": "code",
      "execution_count": null,
      "metadata": {
        "colab": {
          "base_uri": "https://localhost:8080/"
        },
        "id": "-T92tQCBAOKW",
        "outputId": "40a4ed59-a5fb-4b69-8ff6-674c88f6e5c4"
      },
      "outputs": [
        {
          "output_type": "execute_result",
          "data": {
            "text/plain": [
              "{'roster': [[[1, 2], 'Early'],\n",
              "  [[1, 3], 'Early'],\n",
              "  [[1, 4], 'Late'],\n",
              "  [[1, 5], 'Late'],\n",
              "  [[2, 2], 'Early'],\n",
              "  [[2, 3], 'Late'],\n",
              "  [[2, 4], 'Night'],\n",
              "  [[2, 5], 'Night'],\n",
              "  [[3, 2], 'Early'],\n",
              "  [[3, 3], 'Late'],\n",
              "  [[3, 4], 'Night'],\n",
              "  [[4, 5], 'Night'],\n",
              "  [[5, 2], 'Early'],\n",
              "  [[5, 3], 'Late'],\n",
              "  [[5, 4], 'Night'],\n",
              "  [[5, 5], 'Night'],\n",
              "  [[6, 1], 'Early'],\n",
              "  [[6, 2], 'Early'],\n",
              "  [[6, 3], 'Late'],\n",
              "  [[6, 4], 'Night'],\n",
              "  [[7, 4], 'Night'],\n",
              "  [[7, 5], 'Late']]}"
            ]
          },
          "metadata": {},
          "execution_count": 5
        }
      ],
      "source": [
        "%%conjure --solver=minion --solver-options='-varorder domoverwdeg'\n",
        "find roster: function (days, nurses) --> shifts\n",
        "$ constraint 1 (Single assignment per day)\n",
        "$ a nurse can be assigned to at most one shift per day\n",
        "$ NOTE: automatically satisfied because of how \"roster\" is defined\n",
        "\n",
        "$ constraint 2 (Under staffing)\n",
        "$ the number of nurses for each shift suffice for the minimum demand\n",
        "such that\n",
        "   forAll day : days .\n",
        "      forAll shift : shifts .\n",
        "         (sum ((d,_),s) in roster . toInt(d=day /\\ s=shift))\n",
        "            >= minimumDemand((day,shift))\n",
        "\n",
        "$ constraint 3 (Shift type successions)\n",
        "$ the shift type assignments of one nurse on two consecutive days\n",
        "$ must not violate any forbidden succession\n",
        "such that\n",
        "   forAll d : int(1..(nDays-1)) .\n",
        "      forAll n : nurses .\n",
        "         !((roster((d,n)), roster((d+1,n))) in forbiddenPatterns)"
      ]
    },
    {
      "cell_type": "markdown",
      "metadata": {
        "id": "jav2lI9SA1mf"
      },
      "source": [
        "Choosing the right parameters to control solver behaviour is important but not generally well understood, and we leave discussion of this problem for another time."
      ]
    },
    {
      "cell_type": "markdown",
      "metadata": {
        "id": "OZwGGTmKPqOQ"
      },
      "source": [
        "## Python datatypes"
      ]
    },
    {
      "cell_type": "markdown",
      "metadata": {
        "id": "6XoriFZKPu0L"
      },
      "source": [
        "We can also use python variables as input, either on their own or in combination with Essence inputs."
      ]
    },
    {
      "cell_type": "code",
      "execution_count": null,
      "metadata": {
        "id": "WUWEX1edQdxu"
      },
      "outputs": [],
      "source": [
        "nNurses = 5\n",
        "nDays = 7\n",
        "shifts = ['Early', 'Late', 'Night']\n",
        "forbiddenPatterns = [('Late','Early'), ('Night','Early'), ('Night','Late')]"
      ]
    },
    {
      "cell_type": "markdown",
      "metadata": {
        "id": "-1_QNf5HTYz-"
      },
      "source": [
        "Running the code below produces the same output as it does above, since the python variables define the same values for `nNurses`, `nDays`, `shifts`, and `forbiddenPatterns` as the Essence model did.\n"
      ]
    },
    {
      "cell_type": "code",
      "execution_count": null,
      "metadata": {
        "colab": {
          "base_uri": "https://localhost:8080/"
        },
        "id": "-k_xVdG8Q_VT",
        "outputId": "f6a37d37-3aa1-4d01-c2d5-e667630cb1c4"
      },
      "outputs": [
        {
          "output_type": "execute_result",
          "data": {
            "text/plain": [
              "{'roster': [[[1, 2], 'Early'],\n",
              "  [[1, 3], 'Early'],\n",
              "  [[1, 4], 'Late'],\n",
              "  [[1, 5], 'Late'],\n",
              "  [[2, 2], 'Early'],\n",
              "  [[2, 3], 'Late'],\n",
              "  [[2, 4], 'Night'],\n",
              "  [[2, 5], 'Night'],\n",
              "  [[3, 2], 'Early'],\n",
              "  [[3, 3], 'Late'],\n",
              "  [[3, 4], 'Night'],\n",
              "  [[4, 5], 'Night'],\n",
              "  [[5, 2], 'Early'],\n",
              "  [[5, 3], 'Late'],\n",
              "  [[5, 4], 'Night'],\n",
              "  [[5, 5], 'Night'],\n",
              "  [[6, 1], 'Early'],\n",
              "  [[6, 2], 'Early'],\n",
              "  [[6, 3], 'Late'],\n",
              "  [[6, 4], 'Night'],\n",
              "  [[7, 4], 'Night'],\n",
              "  [[7, 5], 'Late']]}"
            ]
          },
          "metadata": {},
          "execution_count": 8
        }
      ],
      "source": [
        "%%conjure --solver=minion --solver-options='-varorder domoverwdeg'\n",
        "find roster: function (days, nurses) --> shifts\n",
        "$ constraint 1 (Single assignment per day)\n",
        "$ a nurse can be assigned to at most one shift per day\n",
        "$ NOTE: automatically satisfied because of how \"roster\" is defined\n",
        "\n",
        "$ constraint 2 (Under staffing)\n",
        "$ the number of nurses for each shift suffice for the minimum demand\n",
        "such that\n",
        "   forAll day : days .\n",
        "      forAll shift : shifts .\n",
        "         (sum ((d,_),s) in roster . toInt(d=day /\\ s=shift))\n",
        "            >= minimumDemand((day,shift))\n",
        "\n",
        "$ constraint 3 (Shift type successions)\n",
        "$ the shift type assignments of one nurse on two consecutive days\n",
        "$ must not violate any forbidden succession\n",
        "such that\n",
        "   forAll d : int(1..(nDays-1)) .\n",
        "      forAll n : nurses .\n",
        "         !((roster((d,n)), roster((d+1,n))) in forbiddenPatterns)"
      ]
    },
    {
      "cell_type": "markdown",
      "metadata": {
        "id": "oEO7p5otBLGj"
      },
      "source": [
        "##Representations"
      ]
    },
    {
      "cell_type": "markdown",
      "metadata": {
        "id": "vpX_tZdQBOGH"
      },
      "source": [
        "We can display the nurse roster using graphs:"
      ]
    },
    {
      "cell_type": "code",
      "execution_count": null,
      "metadata": {
        "colab": {
          "base_uri": "https://localhost:8080/",
          "height": 279
        },
        "id": "pgMq_87lBhjI",
        "outputId": "1995098e-e311-497c-c388-0dfc69d141bd"
      },
      "outputs": [
        {
          "output_type": "execute_result",
          "data": {
            "text/plain": [
              "<graphviz.dot.Digraph at 0x7f24502d7970>"
            ],
            "image/svg+xml": "<?xml version=\"1.0\" encoding=\"UTF-8\" standalone=\"no\"?>\n<!DOCTYPE svg PUBLIC \"-//W3C//DTD SVG 1.1//EN\"\n \"http://www.w3.org/Graphics/SVG/1.1/DTD/svg11.dtd\">\n<!-- Generated by graphviz version 2.43.0 (0)\n -->\n<!-- Title: parent Pages: 1 -->\n<svg width=\"2243pt\" height=\"178pt\"\n viewBox=\"0.00 0.00 2243.00 178.00\" xmlns=\"http://www.w3.org/2000/svg\" xmlns:xlink=\"http://www.w3.org/1999/xlink\">\n<g id=\"graph0\" class=\"graph\" transform=\"scale(1 1) rotate(0) translate(4 174)\">\n<title>parent</title>\n<polygon fill=\"white\" stroke=\"transparent\" points=\"-4,4 -4,-174 2239,-174 2239,4 -4,4\"/>\n<g id=\"clust1\" class=\"cluster\">\n<title>cluster1</title>\n<path fill=\"none\" stroke=\"black\" d=\"M20,-8C20,-8 391,-8 391,-8 397,-8 403,-14 403,-20 403,-20 403,-150 403,-150 403,-156 397,-162 391,-162 391,-162 20,-162 20,-162 14,-162 8,-156 8,-150 8,-150 8,-20 8,-20 8,-14 14,-8 20,-8\"/>\n<text text-anchor=\"middle\" x=\"205.5\" y=\"-142\" font-family=\"Times,serif\" font-size=\"20.00\">Day 1</text>\n</g>\n<g id=\"clust2\" class=\"cluster\">\n<title>cluster2</title>\n<path fill=\"none\" stroke=\"black\" d=\"M423,-8C423,-8 794,-8 794,-8 800,-8 806,-14 806,-20 806,-20 806,-150 806,-150 806,-156 800,-162 794,-162 794,-162 423,-162 423,-162 417,-162 411,-156 411,-150 411,-150 411,-20 411,-20 411,-14 417,-8 423,-8\"/>\n<text text-anchor=\"middle\" x=\"608.5\" y=\"-142\" font-family=\"Times,serif\" font-size=\"20.00\">Day 2</text>\n</g>\n<g id=\"clust3\" class=\"cluster\">\n<title>cluster3</title>\n<path fill=\"none\" stroke=\"black\" d=\"M826,-8C826,-8 1098,-8 1098,-8 1104,-8 1110,-14 1110,-20 1110,-20 1110,-150 1110,-150 1110,-156 1104,-162 1098,-162 1098,-162 826,-162 826,-162 820,-162 814,-156 814,-150 814,-150 814,-20 814,-20 814,-14 820,-8 826,-8\"/>\n<text text-anchor=\"middle\" x=\"962\" y=\"-142\" font-family=\"Times,serif\" font-size=\"20.00\">Day 3</text>\n</g>\n<g id=\"clust4\" class=\"cluster\">\n<title>cluster4</title>\n<path fill=\"none\" stroke=\"black\" d=\"M1130,-8C1130,-8 1204,-8 1204,-8 1210,-8 1216,-14 1216,-20 1216,-20 1216,-150 1216,-150 1216,-156 1210,-162 1204,-162 1204,-162 1130,-162 1130,-162 1124,-162 1118,-156 1118,-150 1118,-150 1118,-20 1118,-20 1118,-14 1124,-8 1130,-8\"/>\n<text text-anchor=\"middle\" x=\"1167\" y=\"-142\" font-family=\"Times,serif\" font-size=\"20.00\">Day 4</text>\n</g>\n<g id=\"clust5\" class=\"cluster\">\n<title>cluster5</title>\n<path fill=\"none\" stroke=\"black\" d=\"M1236,-8C1236,-8 1607,-8 1607,-8 1613,-8 1619,-14 1619,-20 1619,-20 1619,-150 1619,-150 1619,-156 1613,-162 1607,-162 1607,-162 1236,-162 1236,-162 1230,-162 1224,-156 1224,-150 1224,-150 1224,-20 1224,-20 1224,-14 1230,-8 1236,-8\"/>\n<text text-anchor=\"middle\" x=\"1421.5\" y=\"-142\" font-family=\"Times,serif\" font-size=\"20.00\">Day 5</text>\n</g>\n<g id=\"clust6\" class=\"cluster\">\n<title>cluster6</title>\n<path fill=\"none\" stroke=\"black\" d=\"M1639,-8C1639,-8 2010,-8 2010,-8 2016,-8 2022,-14 2022,-20 2022,-20 2022,-150 2022,-150 2022,-156 2016,-162 2010,-162 2010,-162 1639,-162 1639,-162 1633,-162 1627,-156 1627,-150 1627,-150 1627,-20 1627,-20 1627,-14 1633,-8 1639,-8\"/>\n<text text-anchor=\"middle\" x=\"1824.5\" y=\"-142\" font-family=\"Times,serif\" font-size=\"20.00\">Day 6</text>\n</g>\n<g id=\"clust7\" class=\"cluster\">\n<title>cluster7</title>\n<path fill=\"none\" stroke=\"black\" d=\"M2042,-8C2042,-8 2215,-8 2215,-8 2221,-8 2227,-14 2227,-20 2227,-20 2227,-150 2227,-150 2227,-156 2221,-162 2215,-162 2215,-162 2042,-162 2042,-162 2036,-162 2030,-156 2030,-150 2030,-150 2030,-20 2030,-20 2030,-14 2036,-8 2042,-8\"/>\n<text text-anchor=\"middle\" x=\"2128.5\" y=\"-142\" font-family=\"Times,serif\" font-size=\"20.00\">Day 7</text>\n</g>\n<!-- Late1 -->\n<g id=\"node1\" class=\"node\">\n<title>Late1</title>\n<polygon fill=\"none\" stroke=\"purple\" points=\"331,-124 281,-124 277,-120 277,-88 327,-88 331,-92 331,-124\"/>\n<polyline fill=\"none\" stroke=\"purple\" points=\"327,-120 277,-120 \"/>\n<polyline fill=\"none\" stroke=\"purple\" points=\"327,-120 327,-88 \"/>\n<polyline fill=\"none\" stroke=\"purple\" points=\"327,-120 331,-124 \"/>\n<text text-anchor=\"middle\" x=\"304\" y=\"-102.3\" font-family=\"Times,serif\" font-size=\"14.00\">Late</text>\n</g>\n<!-- 0 -->\n<g id=\"node2\" class=\"node\">\n<title>0</title>\n<polygon fill=\"none\" stroke=\"orange\" points=\"295.5,-52 218.5,-52 214.5,-48 214.5,-16 291.5,-16 295.5,-20 295.5,-52\"/>\n<polyline fill=\"none\" stroke=\"orange\" points=\"291.5,-48 214.5,-48 \"/>\n<polyline fill=\"none\" stroke=\"orange\" points=\"291.5,-48 291.5,-16 \"/>\n<polyline fill=\"none\" stroke=\"orange\" points=\"291.5,-48 295.5,-52 \"/>\n<text text-anchor=\"middle\" x=\"255\" y=\"-30.3\" font-family=\"Times,serif\" font-size=\"14.00\">Nurse ID: 5</text>\n</g>\n<!-- Late1&#45;&gt;0 -->\n<g id=\"edge1\" class=\"edge\">\n<title>Late1&#45;&gt;0</title>\n<path fill=\"none\" stroke=\"black\" d=\"M291.89,-87.7C286.13,-79.47 279.14,-69.48 272.79,-60.42\"/>\n<polygon fill=\"black\" stroke=\"black\" points=\"275.58,-58.29 266.97,-52.1 269.84,-62.3 275.58,-58.29\"/>\n</g>\n<!-- 1 -->\n<g id=\"node3\" class=\"node\">\n<title>1</title>\n<polygon fill=\"none\" stroke=\"orange\" points=\"394.5,-52 317.5,-52 313.5,-48 313.5,-16 390.5,-16 394.5,-20 394.5,-52\"/>\n<polyline fill=\"none\" stroke=\"orange\" points=\"390.5,-48 313.5,-48 \"/>\n<polyline fill=\"none\" stroke=\"orange\" points=\"390.5,-48 390.5,-16 \"/>\n<polyline fill=\"none\" stroke=\"orange\" points=\"390.5,-48 394.5,-52 \"/>\n<text text-anchor=\"middle\" x=\"354\" y=\"-30.3\" font-family=\"Times,serif\" font-size=\"14.00\">Nurse ID: 4</text>\n</g>\n<!-- Late1&#45;&gt;1 -->\n<g id=\"edge2\" class=\"edge\">\n<title>Late1&#45;&gt;1</title>\n<path fill=\"none\" stroke=\"black\" d=\"M316.36,-87.7C322.23,-79.47 329.37,-69.48 335.84,-60.42\"/>\n<polygon fill=\"black\" stroke=\"black\" points=\"338.82,-62.28 341.78,-52.1 333.12,-58.21 338.82,-62.28\"/>\n</g>\n<!-- Early1 -->\n<g id=\"node4\" class=\"node\">\n<title>Early1</title>\n<polygon fill=\"none\" stroke=\"purple\" points=\"133,-124 83,-124 79,-120 79,-88 129,-88 133,-92 133,-124\"/>\n<polyline fill=\"none\" stroke=\"purple\" points=\"129,-120 79,-120 \"/>\n<polyline fill=\"none\" stroke=\"purple\" points=\"129,-120 129,-88 \"/>\n<polyline fill=\"none\" stroke=\"purple\" points=\"129,-120 133,-124 \"/>\n<text text-anchor=\"middle\" x=\"106\" y=\"-102.3\" font-family=\"Times,serif\" font-size=\"14.00\">Early</text>\n</g>\n<!-- 2 -->\n<g id=\"node5\" class=\"node\">\n<title>2</title>\n<polygon fill=\"none\" stroke=\"orange\" points=\"97.5,-52 20.5,-52 16.5,-48 16.5,-16 93.5,-16 97.5,-20 97.5,-52\"/>\n<polyline fill=\"none\" stroke=\"orange\" points=\"93.5,-48 16.5,-48 \"/>\n<polyline fill=\"none\" stroke=\"orange\" points=\"93.5,-48 93.5,-16 \"/>\n<polyline fill=\"none\" stroke=\"orange\" points=\"93.5,-48 97.5,-52 \"/>\n<text text-anchor=\"middle\" x=\"57\" y=\"-30.3\" font-family=\"Times,serif\" font-size=\"14.00\">Nurse ID: 3</text>\n</g>\n<!-- Early1&#45;&gt;2 -->\n<g id=\"edge3\" class=\"edge\">\n<title>Early1&#45;&gt;2</title>\n<path fill=\"none\" stroke=\"black\" d=\"M93.89,-87.7C88.13,-79.47 81.14,-69.48 74.79,-60.42\"/>\n<polygon fill=\"black\" stroke=\"black\" points=\"77.58,-58.29 68.97,-52.1 71.84,-62.3 77.58,-58.29\"/>\n</g>\n<!-- 3 -->\n<g id=\"node6\" class=\"node\">\n<title>3</title>\n<polygon fill=\"none\" stroke=\"orange\" points=\"196.5,-52 119.5,-52 115.5,-48 115.5,-16 192.5,-16 196.5,-20 196.5,-52\"/>\n<polyline fill=\"none\" stroke=\"orange\" points=\"192.5,-48 115.5,-48 \"/>\n<polyline fill=\"none\" stroke=\"orange\" points=\"192.5,-48 192.5,-16 \"/>\n<polyline fill=\"none\" stroke=\"orange\" points=\"192.5,-48 196.5,-52 \"/>\n<text text-anchor=\"middle\" x=\"156\" y=\"-30.3\" font-family=\"Times,serif\" font-size=\"14.00\">Nurse ID: 2</text>\n</g>\n<!-- Early1&#45;&gt;3 -->\n<g id=\"edge4\" class=\"edge\">\n<title>Early1&#45;&gt;3</title>\n<path fill=\"none\" stroke=\"black\" d=\"M118.36,-87.7C124.23,-79.47 131.37,-69.48 137.84,-60.42\"/>\n<polygon fill=\"black\" stroke=\"black\" points=\"140.82,-62.28 143.78,-52.1 135.12,-58.21 140.82,-62.28\"/>\n</g>\n<!-- Night2 -->\n<g id=\"node7\" class=\"node\">\n<title>Night2</title>\n<polygon fill=\"none\" stroke=\"purple\" points=\"734,-124 684,-124 680,-120 680,-88 730,-88 734,-92 734,-124\"/>\n<polyline fill=\"none\" stroke=\"purple\" points=\"730,-120 680,-120 \"/>\n<polyline fill=\"none\" stroke=\"purple\" points=\"730,-120 730,-88 \"/>\n<polyline fill=\"none\" stroke=\"purple\" points=\"730,-120 734,-124 \"/>\n<text text-anchor=\"middle\" x=\"707\" y=\"-102.3\" font-family=\"Times,serif\" font-size=\"14.00\">Night</text>\n</g>\n<!-- 4 -->\n<g id=\"node8\" class=\"node\">\n<title>4</title>\n<polygon fill=\"none\" stroke=\"orange\" points=\"698.5,-52 621.5,-52 617.5,-48 617.5,-16 694.5,-16 698.5,-20 698.5,-52\"/>\n<polyline fill=\"none\" stroke=\"orange\" points=\"694.5,-48 617.5,-48 \"/>\n<polyline fill=\"none\" stroke=\"orange\" points=\"694.5,-48 694.5,-16 \"/>\n<polyline fill=\"none\" stroke=\"orange\" points=\"694.5,-48 698.5,-52 \"/>\n<text text-anchor=\"middle\" x=\"658\" y=\"-30.3\" font-family=\"Times,serif\" font-size=\"14.00\">Nurse ID: 5</text>\n</g>\n<!-- Night2&#45;&gt;4 -->\n<g id=\"edge5\" class=\"edge\">\n<title>Night2&#45;&gt;4</title>\n<path fill=\"none\" stroke=\"black\" d=\"M694.89,-87.7C689.13,-79.47 682.14,-69.48 675.79,-60.42\"/>\n<polygon fill=\"black\" stroke=\"black\" points=\"678.58,-58.29 669.97,-52.1 672.84,-62.3 678.58,-58.29\"/>\n</g>\n<!-- 5 -->\n<g id=\"node9\" class=\"node\">\n<title>5</title>\n<polygon fill=\"none\" stroke=\"orange\" points=\"797.5,-52 720.5,-52 716.5,-48 716.5,-16 793.5,-16 797.5,-20 797.5,-52\"/>\n<polyline fill=\"none\" stroke=\"orange\" points=\"793.5,-48 716.5,-48 \"/>\n<polyline fill=\"none\" stroke=\"orange\" points=\"793.5,-48 793.5,-16 \"/>\n<polyline fill=\"none\" stroke=\"orange\" points=\"793.5,-48 797.5,-52 \"/>\n<text text-anchor=\"middle\" x=\"757\" y=\"-30.3\" font-family=\"Times,serif\" font-size=\"14.00\">Nurse ID: 4</text>\n</g>\n<!-- Night2&#45;&gt;5 -->\n<g id=\"edge6\" class=\"edge\">\n<title>Night2&#45;&gt;5</title>\n<path fill=\"none\" stroke=\"black\" d=\"M719.36,-87.7C725.23,-79.47 732.37,-69.48 738.84,-60.42\"/>\n<polygon fill=\"black\" stroke=\"black\" points=\"741.82,-62.28 744.78,-52.1 736.12,-58.21 741.82,-62.28\"/>\n</g>\n<!-- Late2 -->\n<g id=\"node10\" class=\"node\">\n<title>Late2</title>\n<polygon fill=\"none\" stroke=\"purple\" points=\"586,-124 536,-124 532,-120 532,-88 582,-88 586,-92 586,-124\"/>\n<polyline fill=\"none\" stroke=\"purple\" points=\"582,-120 532,-120 \"/>\n<polyline fill=\"none\" stroke=\"purple\" points=\"582,-120 582,-88 \"/>\n<polyline fill=\"none\" stroke=\"purple\" points=\"582,-120 586,-124 \"/>\n<text text-anchor=\"middle\" x=\"559\" y=\"-102.3\" font-family=\"Times,serif\" font-size=\"14.00\">Late</text>\n</g>\n<!-- 6 -->\n<g id=\"node11\" class=\"node\">\n<title>6</title>\n<polygon fill=\"none\" stroke=\"orange\" points=\"599.5,-52 522.5,-52 518.5,-48 518.5,-16 595.5,-16 599.5,-20 599.5,-52\"/>\n<polyline fill=\"none\" stroke=\"orange\" points=\"595.5,-48 518.5,-48 \"/>\n<polyline fill=\"none\" stroke=\"orange\" points=\"595.5,-48 595.5,-16 \"/>\n<polyline fill=\"none\" stroke=\"orange\" points=\"595.5,-48 599.5,-52 \"/>\n<text text-anchor=\"middle\" x=\"559\" y=\"-30.3\" font-family=\"Times,serif\" font-size=\"14.00\">Nurse ID: 3</text>\n</g>\n<!-- Late2&#45;&gt;6 -->\n<g id=\"edge7\" class=\"edge\">\n<title>Late2&#45;&gt;6</title>\n<path fill=\"none\" stroke=\"black\" d=\"M559,-87.7C559,-79.98 559,-70.71 559,-62.11\"/>\n<polygon fill=\"black\" stroke=\"black\" points=\"562.5,-62.1 559,-52.1 555.5,-62.1 562.5,-62.1\"/>\n</g>\n<!-- Early2 -->\n<g id=\"node12\" class=\"node\">\n<title>Early2</title>\n<polygon fill=\"none\" stroke=\"purple\" points=\"487,-124 437,-124 433,-120 433,-88 483,-88 487,-92 487,-124\"/>\n<polyline fill=\"none\" stroke=\"purple\" points=\"483,-120 433,-120 \"/>\n<polyline fill=\"none\" stroke=\"purple\" points=\"483,-120 483,-88 \"/>\n<polyline fill=\"none\" stroke=\"purple\" points=\"483,-120 487,-124 \"/>\n<text text-anchor=\"middle\" x=\"460\" y=\"-102.3\" font-family=\"Times,serif\" font-size=\"14.00\">Early</text>\n</g>\n<!-- 7 -->\n<g id=\"node13\" class=\"node\">\n<title>7</title>\n<polygon fill=\"none\" stroke=\"orange\" points=\"500.5,-52 423.5,-52 419.5,-48 419.5,-16 496.5,-16 500.5,-20 500.5,-52\"/>\n<polyline fill=\"none\" stroke=\"orange\" points=\"496.5,-48 419.5,-48 \"/>\n<polyline fill=\"none\" stroke=\"orange\" points=\"496.5,-48 496.5,-16 \"/>\n<polyline fill=\"none\" stroke=\"orange\" points=\"496.5,-48 500.5,-52 \"/>\n<text text-anchor=\"middle\" x=\"460\" y=\"-30.3\" font-family=\"Times,serif\" font-size=\"14.00\">Nurse ID: 2</text>\n</g>\n<!-- Early2&#45;&gt;7 -->\n<g id=\"edge8\" class=\"edge\">\n<title>Early2&#45;&gt;7</title>\n<path fill=\"none\" stroke=\"black\" d=\"M460,-87.7C460,-79.98 460,-70.71 460,-62.11\"/>\n<polygon fill=\"black\" stroke=\"black\" points=\"463.5,-62.1 460,-52.1 456.5,-62.1 463.5,-62.1\"/>\n</g>\n<!-- Night3 -->\n<g id=\"node14\" class=\"node\">\n<title>Night3</title>\n<polygon fill=\"none\" stroke=\"purple\" points=\"1088,-124 1038,-124 1034,-120 1034,-88 1084,-88 1088,-92 1088,-124\"/>\n<polyline fill=\"none\" stroke=\"purple\" points=\"1084,-120 1034,-120 \"/>\n<polyline fill=\"none\" stroke=\"purple\" points=\"1084,-120 1084,-88 \"/>\n<polyline fill=\"none\" stroke=\"purple\" points=\"1084,-120 1088,-124 \"/>\n<text text-anchor=\"middle\" x=\"1061\" y=\"-102.3\" font-family=\"Times,serif\" font-size=\"14.00\">Night</text>\n</g>\n<!-- 8 -->\n<g id=\"node15\" class=\"node\">\n<title>8</title>\n<polygon fill=\"none\" stroke=\"orange\" points=\"1101.5,-52 1024.5,-52 1020.5,-48 1020.5,-16 1097.5,-16 1101.5,-20 1101.5,-52\"/>\n<polyline fill=\"none\" stroke=\"orange\" points=\"1097.5,-48 1020.5,-48 \"/>\n<polyline fill=\"none\" stroke=\"orange\" points=\"1097.5,-48 1097.5,-16 \"/>\n<polyline fill=\"none\" stroke=\"orange\" points=\"1097.5,-48 1101.5,-52 \"/>\n<text text-anchor=\"middle\" x=\"1061\" y=\"-30.3\" font-family=\"Times,serif\" font-size=\"14.00\">Nurse ID: 4</text>\n</g>\n<!-- Night3&#45;&gt;8 -->\n<g id=\"edge9\" class=\"edge\">\n<title>Night3&#45;&gt;8</title>\n<path fill=\"none\" stroke=\"black\" d=\"M1061,-87.7C1061,-79.98 1061,-70.71 1061,-62.11\"/>\n<polygon fill=\"black\" stroke=\"black\" points=\"1064.5,-62.1 1061,-52.1 1057.5,-62.1 1064.5,-62.1\"/>\n</g>\n<!-- Late3 -->\n<g id=\"node16\" class=\"node\">\n<title>Late3</title>\n<polygon fill=\"none\" stroke=\"purple\" points=\"989,-124 939,-124 935,-120 935,-88 985,-88 989,-92 989,-124\"/>\n<polyline fill=\"none\" stroke=\"purple\" points=\"985,-120 935,-120 \"/>\n<polyline fill=\"none\" stroke=\"purple\" points=\"985,-120 985,-88 \"/>\n<polyline fill=\"none\" stroke=\"purple\" points=\"985,-120 989,-124 \"/>\n<text text-anchor=\"middle\" x=\"962\" y=\"-102.3\" font-family=\"Times,serif\" font-size=\"14.00\">Late</text>\n</g>\n<!-- 9 -->\n<g id=\"node17\" class=\"node\">\n<title>9</title>\n<polygon fill=\"none\" stroke=\"orange\" points=\"1002.5,-52 925.5,-52 921.5,-48 921.5,-16 998.5,-16 1002.5,-20 1002.5,-52\"/>\n<polyline fill=\"none\" stroke=\"orange\" points=\"998.5,-48 921.5,-48 \"/>\n<polyline fill=\"none\" stroke=\"orange\" points=\"998.5,-48 998.5,-16 \"/>\n<polyline fill=\"none\" stroke=\"orange\" points=\"998.5,-48 1002.5,-52 \"/>\n<text text-anchor=\"middle\" x=\"962\" y=\"-30.3\" font-family=\"Times,serif\" font-size=\"14.00\">Nurse ID: 3</text>\n</g>\n<!-- Late3&#45;&gt;9 -->\n<g id=\"edge10\" class=\"edge\">\n<title>Late3&#45;&gt;9</title>\n<path fill=\"none\" stroke=\"black\" d=\"M962,-87.7C962,-79.98 962,-70.71 962,-62.11\"/>\n<polygon fill=\"black\" stroke=\"black\" points=\"965.5,-62.1 962,-52.1 958.5,-62.1 965.5,-62.1\"/>\n</g>\n<!-- Early3 -->\n<g id=\"node18\" class=\"node\">\n<title>Early3</title>\n<polygon fill=\"none\" stroke=\"purple\" points=\"890,-124 840,-124 836,-120 836,-88 886,-88 890,-92 890,-124\"/>\n<polyline fill=\"none\" stroke=\"purple\" points=\"886,-120 836,-120 \"/>\n<polyline fill=\"none\" stroke=\"purple\" points=\"886,-120 886,-88 \"/>\n<polyline fill=\"none\" stroke=\"purple\" points=\"886,-120 890,-124 \"/>\n<text text-anchor=\"middle\" x=\"863\" y=\"-102.3\" font-family=\"Times,serif\" font-size=\"14.00\">Early</text>\n</g>\n<!-- 10 -->\n<g id=\"node19\" class=\"node\">\n<title>10</title>\n<polygon fill=\"none\" stroke=\"orange\" points=\"903.5,-52 826.5,-52 822.5,-48 822.5,-16 899.5,-16 903.5,-20 903.5,-52\"/>\n<polyline fill=\"none\" stroke=\"orange\" points=\"899.5,-48 822.5,-48 \"/>\n<polyline fill=\"none\" stroke=\"orange\" points=\"899.5,-48 899.5,-16 \"/>\n<polyline fill=\"none\" stroke=\"orange\" points=\"899.5,-48 903.5,-52 \"/>\n<text text-anchor=\"middle\" x=\"863\" y=\"-30.3\" font-family=\"Times,serif\" font-size=\"14.00\">Nurse ID: 2</text>\n</g>\n<!-- Early3&#45;&gt;10 -->\n<g id=\"edge11\" class=\"edge\">\n<title>Early3&#45;&gt;10</title>\n<path fill=\"none\" stroke=\"black\" d=\"M863,-87.7C863,-79.98 863,-70.71 863,-62.11\"/>\n<polygon fill=\"black\" stroke=\"black\" points=\"866.5,-62.1 863,-52.1 859.5,-62.1 866.5,-62.1\"/>\n</g>\n<!-- Night4 -->\n<g id=\"node20\" class=\"node\">\n<title>Night4</title>\n<polygon fill=\"none\" stroke=\"purple\" points=\"1194,-124 1144,-124 1140,-120 1140,-88 1190,-88 1194,-92 1194,-124\"/>\n<polyline fill=\"none\" stroke=\"purple\" points=\"1190,-120 1140,-120 \"/>\n<polyline fill=\"none\" stroke=\"purple\" points=\"1190,-120 1190,-88 \"/>\n<polyline fill=\"none\" stroke=\"purple\" points=\"1190,-120 1194,-124 \"/>\n<text text-anchor=\"middle\" x=\"1167\" y=\"-102.3\" font-family=\"Times,serif\" font-size=\"14.00\">Night</text>\n</g>\n<!-- 11 -->\n<g id=\"node21\" class=\"node\">\n<title>11</title>\n<polygon fill=\"none\" stroke=\"orange\" points=\"1207.5,-52 1130.5,-52 1126.5,-48 1126.5,-16 1203.5,-16 1207.5,-20 1207.5,-52\"/>\n<polyline fill=\"none\" stroke=\"orange\" points=\"1203.5,-48 1126.5,-48 \"/>\n<polyline fill=\"none\" stroke=\"orange\" points=\"1203.5,-48 1203.5,-16 \"/>\n<polyline fill=\"none\" stroke=\"orange\" points=\"1203.5,-48 1207.5,-52 \"/>\n<text text-anchor=\"middle\" x=\"1167\" y=\"-30.3\" font-family=\"Times,serif\" font-size=\"14.00\">Nurse ID: 5</text>\n</g>\n<!-- Night4&#45;&gt;11 -->\n<g id=\"edge12\" class=\"edge\">\n<title>Night4&#45;&gt;11</title>\n<path fill=\"none\" stroke=\"black\" d=\"M1167,-87.7C1167,-79.98 1167,-70.71 1167,-62.11\"/>\n<polygon fill=\"black\" stroke=\"black\" points=\"1170.5,-62.1 1167,-52.1 1163.5,-62.1 1170.5,-62.1\"/>\n</g>\n<!-- Night5 -->\n<g id=\"node22\" class=\"node\">\n<title>Night5</title>\n<polygon fill=\"none\" stroke=\"purple\" points=\"1547,-124 1497,-124 1493,-120 1493,-88 1543,-88 1547,-92 1547,-124\"/>\n<polyline fill=\"none\" stroke=\"purple\" points=\"1543,-120 1493,-120 \"/>\n<polyline fill=\"none\" stroke=\"purple\" points=\"1543,-120 1543,-88 \"/>\n<polyline fill=\"none\" stroke=\"purple\" points=\"1543,-120 1547,-124 \"/>\n<text text-anchor=\"middle\" x=\"1520\" y=\"-102.3\" font-family=\"Times,serif\" font-size=\"14.00\">Night</text>\n</g>\n<!-- 12 -->\n<g id=\"node23\" class=\"node\">\n<title>12</title>\n<polygon fill=\"none\" stroke=\"orange\" points=\"1511.5,-52 1434.5,-52 1430.5,-48 1430.5,-16 1507.5,-16 1511.5,-20 1511.5,-52\"/>\n<polyline fill=\"none\" stroke=\"orange\" points=\"1507.5,-48 1430.5,-48 \"/>\n<polyline fill=\"none\" stroke=\"orange\" points=\"1507.5,-48 1507.5,-16 \"/>\n<polyline fill=\"none\" stroke=\"orange\" points=\"1507.5,-48 1511.5,-52 \"/>\n<text text-anchor=\"middle\" x=\"1471\" y=\"-30.3\" font-family=\"Times,serif\" font-size=\"14.00\">Nurse ID: 5</text>\n</g>\n<!-- Night5&#45;&gt;12 -->\n<g id=\"edge13\" class=\"edge\">\n<title>Night5&#45;&gt;12</title>\n<path fill=\"none\" stroke=\"black\" d=\"M1507.89,-87.7C1502.13,-79.47 1495.14,-69.48 1488.79,-60.42\"/>\n<polygon fill=\"black\" stroke=\"black\" points=\"1491.58,-58.29 1482.97,-52.1 1485.84,-62.3 1491.58,-58.29\"/>\n</g>\n<!-- 13 -->\n<g id=\"node24\" class=\"node\">\n<title>13</title>\n<polygon fill=\"none\" stroke=\"orange\" points=\"1610.5,-52 1533.5,-52 1529.5,-48 1529.5,-16 1606.5,-16 1610.5,-20 1610.5,-52\"/>\n<polyline fill=\"none\" stroke=\"orange\" points=\"1606.5,-48 1529.5,-48 \"/>\n<polyline fill=\"none\" stroke=\"orange\" points=\"1606.5,-48 1606.5,-16 \"/>\n<polyline fill=\"none\" stroke=\"orange\" points=\"1606.5,-48 1610.5,-52 \"/>\n<text text-anchor=\"middle\" x=\"1570\" y=\"-30.3\" font-family=\"Times,serif\" font-size=\"14.00\">Nurse ID: 4</text>\n</g>\n<!-- Night5&#45;&gt;13 -->\n<g id=\"edge14\" class=\"edge\">\n<title>Night5&#45;&gt;13</title>\n<path fill=\"none\" stroke=\"black\" d=\"M1532.36,-87.7C1538.23,-79.47 1545.37,-69.48 1551.84,-60.42\"/>\n<polygon fill=\"black\" stroke=\"black\" points=\"1554.82,-62.28 1557.78,-52.1 1549.12,-58.21 1554.82,-62.28\"/>\n</g>\n<!-- Late5 -->\n<g id=\"node25\" class=\"node\">\n<title>Late5</title>\n<polygon fill=\"none\" stroke=\"purple\" points=\"1399,-124 1349,-124 1345,-120 1345,-88 1395,-88 1399,-92 1399,-124\"/>\n<polyline fill=\"none\" stroke=\"purple\" points=\"1395,-120 1345,-120 \"/>\n<polyline fill=\"none\" stroke=\"purple\" points=\"1395,-120 1395,-88 \"/>\n<polyline fill=\"none\" stroke=\"purple\" points=\"1395,-120 1399,-124 \"/>\n<text text-anchor=\"middle\" x=\"1372\" y=\"-102.3\" font-family=\"Times,serif\" font-size=\"14.00\">Late</text>\n</g>\n<!-- 14 -->\n<g id=\"node26\" class=\"node\">\n<title>14</title>\n<polygon fill=\"none\" stroke=\"orange\" points=\"1412.5,-52 1335.5,-52 1331.5,-48 1331.5,-16 1408.5,-16 1412.5,-20 1412.5,-52\"/>\n<polyline fill=\"none\" stroke=\"orange\" points=\"1408.5,-48 1331.5,-48 \"/>\n<polyline fill=\"none\" stroke=\"orange\" points=\"1408.5,-48 1408.5,-16 \"/>\n<polyline fill=\"none\" stroke=\"orange\" points=\"1408.5,-48 1412.5,-52 \"/>\n<text text-anchor=\"middle\" x=\"1372\" y=\"-30.3\" font-family=\"Times,serif\" font-size=\"14.00\">Nurse ID: 3</text>\n</g>\n<!-- Late5&#45;&gt;14 -->\n<g id=\"edge15\" class=\"edge\">\n<title>Late5&#45;&gt;14</title>\n<path fill=\"none\" stroke=\"black\" d=\"M1372,-87.7C1372,-79.98 1372,-70.71 1372,-62.11\"/>\n<polygon fill=\"black\" stroke=\"black\" points=\"1375.5,-62.1 1372,-52.1 1368.5,-62.1 1375.5,-62.1\"/>\n</g>\n<!-- Early5 -->\n<g id=\"node27\" class=\"node\">\n<title>Early5</title>\n<polygon fill=\"none\" stroke=\"purple\" points=\"1300,-124 1250,-124 1246,-120 1246,-88 1296,-88 1300,-92 1300,-124\"/>\n<polyline fill=\"none\" stroke=\"purple\" points=\"1296,-120 1246,-120 \"/>\n<polyline fill=\"none\" stroke=\"purple\" points=\"1296,-120 1296,-88 \"/>\n<polyline fill=\"none\" stroke=\"purple\" points=\"1296,-120 1300,-124 \"/>\n<text text-anchor=\"middle\" x=\"1273\" y=\"-102.3\" font-family=\"Times,serif\" font-size=\"14.00\">Early</text>\n</g>\n<!-- 15 -->\n<g id=\"node28\" class=\"node\">\n<title>15</title>\n<polygon fill=\"none\" stroke=\"orange\" points=\"1313.5,-52 1236.5,-52 1232.5,-48 1232.5,-16 1309.5,-16 1313.5,-20 1313.5,-52\"/>\n<polyline fill=\"none\" stroke=\"orange\" points=\"1309.5,-48 1232.5,-48 \"/>\n<polyline fill=\"none\" stroke=\"orange\" points=\"1309.5,-48 1309.5,-16 \"/>\n<polyline fill=\"none\" stroke=\"orange\" points=\"1309.5,-48 1313.5,-52 \"/>\n<text text-anchor=\"middle\" x=\"1273\" y=\"-30.3\" font-family=\"Times,serif\" font-size=\"14.00\">Nurse ID: 2</text>\n</g>\n<!-- Early5&#45;&gt;15 -->\n<g id=\"edge16\" class=\"edge\">\n<title>Early5&#45;&gt;15</title>\n<path fill=\"none\" stroke=\"black\" d=\"M1273,-87.7C1273,-79.98 1273,-70.71 1273,-62.11\"/>\n<polygon fill=\"black\" stroke=\"black\" points=\"1276.5,-62.1 1273,-52.1 1269.5,-62.1 1276.5,-62.1\"/>\n</g>\n<!-- Night6 -->\n<g id=\"node29\" class=\"node\">\n<title>Night6</title>\n<polygon fill=\"none\" stroke=\"purple\" points=\"2000,-124 1950,-124 1946,-120 1946,-88 1996,-88 2000,-92 2000,-124\"/>\n<polyline fill=\"none\" stroke=\"purple\" points=\"1996,-120 1946,-120 \"/>\n<polyline fill=\"none\" stroke=\"purple\" points=\"1996,-120 1996,-88 \"/>\n<polyline fill=\"none\" stroke=\"purple\" points=\"1996,-120 2000,-124 \"/>\n<text text-anchor=\"middle\" x=\"1973\" y=\"-102.3\" font-family=\"Times,serif\" font-size=\"14.00\">Night</text>\n</g>\n<!-- 16 -->\n<g id=\"node30\" class=\"node\">\n<title>16</title>\n<polygon fill=\"none\" stroke=\"orange\" points=\"2013.5,-52 1936.5,-52 1932.5,-48 1932.5,-16 2009.5,-16 2013.5,-20 2013.5,-52\"/>\n<polyline fill=\"none\" stroke=\"orange\" points=\"2009.5,-48 1932.5,-48 \"/>\n<polyline fill=\"none\" stroke=\"orange\" points=\"2009.5,-48 2009.5,-16 \"/>\n<polyline fill=\"none\" stroke=\"orange\" points=\"2009.5,-48 2013.5,-52 \"/>\n<text text-anchor=\"middle\" x=\"1973\" y=\"-30.3\" font-family=\"Times,serif\" font-size=\"14.00\">Nurse ID: 4</text>\n</g>\n<!-- Night6&#45;&gt;16 -->\n<g id=\"edge17\" class=\"edge\">\n<title>Night6&#45;&gt;16</title>\n<path fill=\"none\" stroke=\"black\" d=\"M1973,-87.7C1973,-79.98 1973,-70.71 1973,-62.11\"/>\n<polygon fill=\"black\" stroke=\"black\" points=\"1976.5,-62.1 1973,-52.1 1969.5,-62.1 1976.5,-62.1\"/>\n</g>\n<!-- Late6 -->\n<g id=\"node31\" class=\"node\">\n<title>Late6</title>\n<polygon fill=\"none\" stroke=\"purple\" points=\"1901,-124 1851,-124 1847,-120 1847,-88 1897,-88 1901,-92 1901,-124\"/>\n<polyline fill=\"none\" stroke=\"purple\" points=\"1897,-120 1847,-120 \"/>\n<polyline fill=\"none\" stroke=\"purple\" points=\"1897,-120 1897,-88 \"/>\n<polyline fill=\"none\" stroke=\"purple\" points=\"1897,-120 1901,-124 \"/>\n<text text-anchor=\"middle\" x=\"1874\" y=\"-102.3\" font-family=\"Times,serif\" font-size=\"14.00\">Late</text>\n</g>\n<!-- 17 -->\n<g id=\"node32\" class=\"node\">\n<title>17</title>\n<polygon fill=\"none\" stroke=\"orange\" points=\"1914.5,-52 1837.5,-52 1833.5,-48 1833.5,-16 1910.5,-16 1914.5,-20 1914.5,-52\"/>\n<polyline fill=\"none\" stroke=\"orange\" points=\"1910.5,-48 1833.5,-48 \"/>\n<polyline fill=\"none\" stroke=\"orange\" points=\"1910.5,-48 1910.5,-16 \"/>\n<polyline fill=\"none\" stroke=\"orange\" points=\"1910.5,-48 1914.5,-52 \"/>\n<text text-anchor=\"middle\" x=\"1874\" y=\"-30.3\" font-family=\"Times,serif\" font-size=\"14.00\">Nurse ID: 3</text>\n</g>\n<!-- Late6&#45;&gt;17 -->\n<g id=\"edge18\" class=\"edge\">\n<title>Late6&#45;&gt;17</title>\n<path fill=\"none\" stroke=\"black\" d=\"M1874,-87.7C1874,-79.98 1874,-70.71 1874,-62.11\"/>\n<polygon fill=\"black\" stroke=\"black\" points=\"1877.5,-62.1 1874,-52.1 1870.5,-62.1 1877.5,-62.1\"/>\n</g>\n<!-- Early6 -->\n<g id=\"node33\" class=\"node\">\n<title>Early6</title>\n<polygon fill=\"none\" stroke=\"purple\" points=\"1752,-124 1702,-124 1698,-120 1698,-88 1748,-88 1752,-92 1752,-124\"/>\n<polyline fill=\"none\" stroke=\"purple\" points=\"1748,-120 1698,-120 \"/>\n<polyline fill=\"none\" stroke=\"purple\" points=\"1748,-120 1748,-88 \"/>\n<polyline fill=\"none\" stroke=\"purple\" points=\"1748,-120 1752,-124 \"/>\n<text text-anchor=\"middle\" x=\"1725\" y=\"-102.3\" font-family=\"Times,serif\" font-size=\"14.00\">Early</text>\n</g>\n<!-- 18 -->\n<g id=\"node34\" class=\"node\">\n<title>18</title>\n<polygon fill=\"none\" stroke=\"orange\" points=\"1716.5,-52 1639.5,-52 1635.5,-48 1635.5,-16 1712.5,-16 1716.5,-20 1716.5,-52\"/>\n<polyline fill=\"none\" stroke=\"orange\" points=\"1712.5,-48 1635.5,-48 \"/>\n<polyline fill=\"none\" stroke=\"orange\" points=\"1712.5,-48 1712.5,-16 \"/>\n<polyline fill=\"none\" stroke=\"orange\" points=\"1712.5,-48 1716.5,-52 \"/>\n<text text-anchor=\"middle\" x=\"1676\" y=\"-30.3\" font-family=\"Times,serif\" font-size=\"14.00\">Nurse ID: 2</text>\n</g>\n<!-- Early6&#45;&gt;18 -->\n<g id=\"edge19\" class=\"edge\">\n<title>Early6&#45;&gt;18</title>\n<path fill=\"none\" stroke=\"black\" d=\"M1712.89,-87.7C1707.13,-79.47 1700.14,-69.48 1693.79,-60.42\"/>\n<polygon fill=\"black\" stroke=\"black\" points=\"1696.58,-58.29 1687.97,-52.1 1690.84,-62.3 1696.58,-58.29\"/>\n</g>\n<!-- 19 -->\n<g id=\"node35\" class=\"node\">\n<title>19</title>\n<polygon fill=\"none\" stroke=\"orange\" points=\"1815.5,-52 1738.5,-52 1734.5,-48 1734.5,-16 1811.5,-16 1815.5,-20 1815.5,-52\"/>\n<polyline fill=\"none\" stroke=\"orange\" points=\"1811.5,-48 1734.5,-48 \"/>\n<polyline fill=\"none\" stroke=\"orange\" points=\"1811.5,-48 1811.5,-16 \"/>\n<polyline fill=\"none\" stroke=\"orange\" points=\"1811.5,-48 1815.5,-52 \"/>\n<text text-anchor=\"middle\" x=\"1775\" y=\"-30.3\" font-family=\"Times,serif\" font-size=\"14.00\">Nurse ID: 1</text>\n</g>\n<!-- Early6&#45;&gt;19 -->\n<g id=\"edge20\" class=\"edge\">\n<title>Early6&#45;&gt;19</title>\n<path fill=\"none\" stroke=\"black\" d=\"M1737.36,-87.7C1743.23,-79.47 1750.37,-69.48 1756.84,-60.42\"/>\n<polygon fill=\"black\" stroke=\"black\" points=\"1759.82,-62.28 1762.78,-52.1 1754.12,-58.21 1759.82,-62.28\"/>\n</g>\n<!-- Night7 -->\n<g id=\"node36\" class=\"node\">\n<title>Night7</title>\n<polygon fill=\"none\" stroke=\"purple\" points=\"2205,-124 2155,-124 2151,-120 2151,-88 2201,-88 2205,-92 2205,-124\"/>\n<polyline fill=\"none\" stroke=\"purple\" points=\"2201,-120 2151,-120 \"/>\n<polyline fill=\"none\" stroke=\"purple\" points=\"2201,-120 2201,-88 \"/>\n<polyline fill=\"none\" stroke=\"purple\" points=\"2201,-120 2205,-124 \"/>\n<text text-anchor=\"middle\" x=\"2178\" y=\"-102.3\" font-family=\"Times,serif\" font-size=\"14.00\">Night</text>\n</g>\n<!-- 20 -->\n<g id=\"node37\" class=\"node\">\n<title>20</title>\n<polygon fill=\"none\" stroke=\"orange\" points=\"2218.5,-52 2141.5,-52 2137.5,-48 2137.5,-16 2214.5,-16 2218.5,-20 2218.5,-52\"/>\n<polyline fill=\"none\" stroke=\"orange\" points=\"2214.5,-48 2137.5,-48 \"/>\n<polyline fill=\"none\" stroke=\"orange\" points=\"2214.5,-48 2214.5,-16 \"/>\n<polyline fill=\"none\" stroke=\"orange\" points=\"2214.5,-48 2218.5,-52 \"/>\n<text text-anchor=\"middle\" x=\"2178\" y=\"-30.3\" font-family=\"Times,serif\" font-size=\"14.00\">Nurse ID: 4</text>\n</g>\n<!-- Night7&#45;&gt;20 -->\n<g id=\"edge21\" class=\"edge\">\n<title>Night7&#45;&gt;20</title>\n<path fill=\"none\" stroke=\"black\" d=\"M2178,-87.7C2178,-79.98 2178,-70.71 2178,-62.11\"/>\n<polygon fill=\"black\" stroke=\"black\" points=\"2181.5,-62.1 2178,-52.1 2174.5,-62.1 2181.5,-62.1\"/>\n</g>\n<!-- Late7 -->\n<g id=\"node38\" class=\"node\">\n<title>Late7</title>\n<polygon fill=\"none\" stroke=\"purple\" points=\"2106,-124 2056,-124 2052,-120 2052,-88 2102,-88 2106,-92 2106,-124\"/>\n<polyline fill=\"none\" stroke=\"purple\" points=\"2102,-120 2052,-120 \"/>\n<polyline fill=\"none\" stroke=\"purple\" points=\"2102,-120 2102,-88 \"/>\n<polyline fill=\"none\" stroke=\"purple\" points=\"2102,-120 2106,-124 \"/>\n<text text-anchor=\"middle\" x=\"2079\" y=\"-102.3\" font-family=\"Times,serif\" font-size=\"14.00\">Late</text>\n</g>\n<!-- 21 -->\n<g id=\"node39\" class=\"node\">\n<title>21</title>\n<polygon fill=\"none\" stroke=\"orange\" points=\"2119.5,-52 2042.5,-52 2038.5,-48 2038.5,-16 2115.5,-16 2119.5,-20 2119.5,-52\"/>\n<polyline fill=\"none\" stroke=\"orange\" points=\"2115.5,-48 2038.5,-48 \"/>\n<polyline fill=\"none\" stroke=\"orange\" points=\"2115.5,-48 2115.5,-16 \"/>\n<polyline fill=\"none\" stroke=\"orange\" points=\"2115.5,-48 2119.5,-52 \"/>\n<text text-anchor=\"middle\" x=\"2079\" y=\"-30.3\" font-family=\"Times,serif\" font-size=\"14.00\">Nurse ID: 5</text>\n</g>\n<!-- Late7&#45;&gt;21 -->\n<g id=\"edge22\" class=\"edge\">\n<title>Late7&#45;&gt;21</title>\n<path fill=\"none\" stroke=\"black\" d=\"M2079,-87.7C2079,-79.98 2079,-70.71 2079,-62.11\"/>\n<polygon fill=\"black\" stroke=\"black\" points=\"2082.5,-62.1 2079,-52.1 2075.5,-62.1 2082.5,-62.1\"/>\n</g>\n</g>\n</svg>\n"
          },
          "metadata": {},
          "execution_count": 9
        }
      ],
      "source": [
        "import graphviz\n",
        "\n",
        "p = graphviz.Digraph('parent')\n",
        "p.attr(compound='true')\n",
        "\n",
        "nDays = 7;\n",
        "edges = []\n",
        "id = 0\n",
        "\n",
        "roster = sorted(roster, key=lambda item: item[1])\n",
        "roster.reverse()\n",
        "       \n",
        "for day in range (1, nDays+1):\n",
        "    with p.subgraph(name='cluster'+str(day), node_attr={'shape': 'box3d', 'color': 'purple', 'style':'rounded'}) as c:\n",
        "      for item in roster:\n",
        "        #if it is the selected day\n",
        "        if item[0][0] == day:\n",
        "          #add the time of day if it doesn't exist already\n",
        "          c.node(str(item[1])+str(day), item[1])\n",
        "          #add the nurse\n",
        "          c.node(str(id), \"Nurse ID: \" + str(item[0][1]), color='orange')\n",
        "          #add the edge\n",
        "          edges.append([str(item[1])+str(day), str(id)])\n",
        "          id=id+1\n",
        "      c.attr(label=\"Day \"+str(day))\n",
        "      c.attr(style='rounded')\n",
        "      c.attr(fontsize='20')\n",
        "      \n",
        "\n",
        "p.edges(edges)\n",
        "\n",
        "\n",
        "p"
      ]
    },
    {
      "cell_type": "markdown",
      "source": [
        "We can also display the roster as the timetable for each nurse:"
      ],
      "metadata": {
        "id": "LMSsgljnrY8m"
      }
    },
    {
      "cell_type": "code",
      "execution_count": null,
      "metadata": {
        "id": "d-bgk-0-PITw",
        "colab": {
          "base_uri": "https://localhost:8080/",
          "height": 1000
        },
        "outputId": "84fa3c27-c0d1-4015-ee78-7dd41709e8b6"
      },
      "outputs": [
        {
          "output_type": "execute_result",
          "data": {
            "text/plain": [
              "<graphviz.dot.Digraph at 0x7f2439df0b50>"
            ],
            "image/svg+xml": "<?xml version=\"1.0\" encoding=\"UTF-8\" standalone=\"no\"?>\n<!DOCTYPE svg PUBLIC \"-//W3C//DTD SVG 1.1//EN\"\n \"http://www.w3.org/Graphics/SVG/1.1/DTD/svg11.dtd\">\n<!-- Generated by graphviz version 2.43.0 (0)\n -->\n<!-- Title: parent Pages: 1 -->\n<svg width=\"454pt\" height=\"826pt\"\n viewBox=\"0.00 0.00 454.00 826.00\" xmlns=\"http://www.w3.org/2000/svg\" xmlns:xlink=\"http://www.w3.org/1999/xlink\">\n<g id=\"graph0\" class=\"graph\" transform=\"scale(1 1) rotate(0) translate(4 822)\">\n<title>parent</title>\n<polygon fill=\"white\" stroke=\"transparent\" points=\"-4,4 -4,-822 450,-822 450,4 -4,4\"/>\n<g id=\"clust1\" class=\"cluster\">\n<title>cluster1</title>\n<path fill=\"none\" stroke=\"black\" d=\"M20,-656C20,-656 75,-656 75,-656 81,-656 87,-662 87,-668 87,-668 87,-798 87,-798 87,-804 81,-810 75,-810 75,-810 20,-810 20,-810 14,-810 8,-804 8,-798 8,-798 8,-668 8,-668 8,-662 14,-656 20,-656\"/>\n<text text-anchor=\"middle\" x=\"47.5\" y=\"-790\" font-family=\"Times,serif\" font-size=\"20.00\">Nurse 1</text>\n</g>\n<g id=\"clust2\" class=\"cluster\">\n<title>cluster2</title>\n<path fill=\"none\" stroke=\"black\" d=\"M20,-494C20,-494 354,-494 354,-494 360,-494 366,-500 366,-506 366,-506 366,-636 366,-636 366,-642 360,-648 354,-648 354,-648 20,-648 20,-648 14,-648 8,-642 8,-636 8,-636 8,-506 8,-506 8,-500 14,-494 20,-494\"/>\n<text text-anchor=\"middle\" x=\"187\" y=\"-628\" font-family=\"Times,serif\" font-size=\"20.00\">Nurse 2</text>\n</g>\n<g id=\"clust3\" class=\"cluster\">\n<title>cluster3</title>\n<path fill=\"none\" stroke=\"black\" d=\"M20,-332C20,-332 354,-332 354,-332 360,-332 366,-338 366,-344 366,-344 366,-474 366,-474 366,-480 360,-486 354,-486 354,-486 20,-486 20,-486 14,-486 8,-480 8,-474 8,-474 8,-344 8,-344 8,-338 14,-332 20,-332\"/>\n<text text-anchor=\"middle\" x=\"187\" y=\"-466\" font-family=\"Times,serif\" font-size=\"20.00\">Nurse 3</text>\n</g>\n<g id=\"clust4\" class=\"cluster\">\n<title>cluster4</title>\n<path fill=\"none\" stroke=\"black\" d=\"M20,-170C20,-170 426,-170 426,-170 432,-170 438,-176 438,-182 438,-182 438,-312 438,-312 438,-318 432,-324 426,-324 426,-324 20,-324 20,-324 14,-324 8,-318 8,-312 8,-312 8,-182 8,-182 8,-176 14,-170 20,-170\"/>\n<text text-anchor=\"middle\" x=\"223\" y=\"-304\" font-family=\"Times,serif\" font-size=\"20.00\">Nurse 4</text>\n</g>\n<g id=\"clust5\" class=\"cluster\">\n<title>cluster5</title>\n<path fill=\"none\" stroke=\"black\" d=\"M20,-8C20,-8 354,-8 354,-8 360,-8 366,-14 366,-20 366,-20 366,-150 366,-150 366,-156 360,-162 354,-162 354,-162 20,-162 20,-162 14,-162 8,-156 8,-150 8,-150 8,-20 8,-20 8,-14 14,-8 20,-8\"/>\n<text text-anchor=\"middle\" x=\"187\" y=\"-142\" font-family=\"Times,serif\" font-size=\"20.00\">Nurse 5</text>\n</g>\n<!-- 0 -->\n<g id=\"node1\" class=\"node\">\n<title>0</title>\n<polygon fill=\"none\" stroke=\"orange\" points=\"70,-772 20,-772 16,-768 16,-736 66,-736 70,-740 70,-772\"/>\n<polyline fill=\"none\" stroke=\"orange\" points=\"66,-768 16,-768 \"/>\n<polyline fill=\"none\" stroke=\"orange\" points=\"66,-768 66,-736 \"/>\n<polyline fill=\"none\" stroke=\"orange\" points=\"66,-768 70,-772 \"/>\n<text text-anchor=\"middle\" x=\"43\" y=\"-750.3\" font-family=\"Times,serif\" font-size=\"14.00\">Day 6</text>\n</g>\n<!-- 0Early1 -->\n<g id=\"node2\" class=\"node\">\n<title>0Early1</title>\n<polygon fill=\"none\" stroke=\"purple\" points=\"70,-700 20,-700 16,-696 16,-664 66,-664 70,-668 70,-700\"/>\n<polyline fill=\"none\" stroke=\"purple\" points=\"66,-696 16,-696 \"/>\n<polyline fill=\"none\" stroke=\"purple\" points=\"66,-696 66,-664 \"/>\n<polyline fill=\"none\" stroke=\"purple\" points=\"66,-696 70,-700 \"/>\n<text text-anchor=\"middle\" x=\"43\" y=\"-678.3\" font-family=\"Times,serif\" font-size=\"14.00\">Early</text>\n</g>\n<!-- 0&#45;&gt;0Early1 -->\n<g id=\"edge5\" class=\"edge\">\n<title>0&#45;&gt;0Early1</title>\n<path fill=\"none\" stroke=\"black\" d=\"M43,-735.7C43,-727.98 43,-718.71 43,-710.11\"/>\n<polygon fill=\"black\" stroke=\"black\" points=\"46.5,-710.1 43,-700.1 39.5,-710.1 46.5,-710.1\"/>\n</g>\n<!-- 5 -->\n<g id=\"node11\" class=\"node\">\n<title>5</title>\n<polygon fill=\"none\" stroke=\"orange\" points=\"70,-610 20,-610 16,-606 16,-574 66,-574 70,-578 70,-610\"/>\n<polyline fill=\"none\" stroke=\"orange\" points=\"66,-606 16,-606 \"/>\n<polyline fill=\"none\" stroke=\"orange\" points=\"66,-606 66,-574 \"/>\n<polyline fill=\"none\" stroke=\"orange\" points=\"66,-606 70,-610 \"/>\n<text text-anchor=\"middle\" x=\"43\" y=\"-588.3\" font-family=\"Times,serif\" font-size=\"14.00\">Day 1</text>\n</g>\n<!-- 0Early1&#45;&gt;5 -->\n<!-- 1 -->\n<g id=\"node3\" class=\"node\">\n<title>1</title>\n<polygon fill=\"none\" stroke=\"orange\" points=\"358,-610 308,-610 304,-606 304,-574 354,-574 358,-578 358,-610\"/>\n<polyline fill=\"none\" stroke=\"orange\" points=\"354,-606 304,-606 \"/>\n<polyline fill=\"none\" stroke=\"orange\" points=\"354,-606 354,-574 \"/>\n<polyline fill=\"none\" stroke=\"orange\" points=\"354,-606 358,-610 \"/>\n<text text-anchor=\"middle\" x=\"331\" y=\"-588.3\" font-family=\"Times,serif\" font-size=\"14.00\">Day 6</text>\n</g>\n<!-- 1Early2 -->\n<g id=\"node4\" class=\"node\">\n<title>1Early2</title>\n<polygon fill=\"none\" stroke=\"purple\" points=\"358,-538 308,-538 304,-534 304,-502 354,-502 358,-506 358,-538\"/>\n<polyline fill=\"none\" stroke=\"purple\" points=\"354,-534 304,-534 \"/>\n<polyline fill=\"none\" stroke=\"purple\" points=\"354,-534 354,-502 \"/>\n<polyline fill=\"none\" stroke=\"purple\" points=\"354,-534 358,-538 \"/>\n<text text-anchor=\"middle\" x=\"331\" y=\"-516.3\" font-family=\"Times,serif\" font-size=\"14.00\">Early</text>\n</g>\n<!-- 1&#45;&gt;1Early2 -->\n<g id=\"edge6\" class=\"edge\">\n<title>1&#45;&gt;1Early2</title>\n<path fill=\"none\" stroke=\"black\" d=\"M331,-573.7C331,-565.98 331,-556.71 331,-548.11\"/>\n<polygon fill=\"black\" stroke=\"black\" points=\"334.5,-548.1 331,-538.1 327.5,-548.1 334.5,-548.1\"/>\n</g>\n<!-- 2 -->\n<g id=\"node5\" class=\"node\">\n<title>2</title>\n<polygon fill=\"none\" stroke=\"orange\" points=\"286,-610 236,-610 232,-606 232,-574 282,-574 286,-578 286,-610\"/>\n<polyline fill=\"none\" stroke=\"orange\" points=\"282,-606 232,-606 \"/>\n<polyline fill=\"none\" stroke=\"orange\" points=\"282,-606 282,-574 \"/>\n<polyline fill=\"none\" stroke=\"orange\" points=\"282,-606 286,-610 \"/>\n<text text-anchor=\"middle\" x=\"259\" y=\"-588.3\" font-family=\"Times,serif\" font-size=\"14.00\">Day 5</text>\n</g>\n<!-- 2Early2 -->\n<g id=\"node6\" class=\"node\">\n<title>2Early2</title>\n<polygon fill=\"none\" stroke=\"purple\" points=\"286,-538 236,-538 232,-534 232,-502 282,-502 286,-506 286,-538\"/>\n<polyline fill=\"none\" stroke=\"purple\" points=\"282,-534 232,-534 \"/>\n<polyline fill=\"none\" stroke=\"purple\" points=\"282,-534 282,-502 \"/>\n<polyline fill=\"none\" stroke=\"purple\" points=\"282,-534 286,-538 \"/>\n<text text-anchor=\"middle\" x=\"259\" y=\"-516.3\" font-family=\"Times,serif\" font-size=\"14.00\">Early</text>\n</g>\n<!-- 2&#45;&gt;2Early2 -->\n<g id=\"edge7\" class=\"edge\">\n<title>2&#45;&gt;2Early2</title>\n<path fill=\"none\" stroke=\"black\" d=\"M259,-573.7C259,-565.98 259,-556.71 259,-548.11\"/>\n<polygon fill=\"black\" stroke=\"black\" points=\"262.5,-548.1 259,-538.1 255.5,-548.1 262.5,-548.1\"/>\n</g>\n<!-- 3 -->\n<g id=\"node7\" class=\"node\">\n<title>3</title>\n<polygon fill=\"none\" stroke=\"orange\" points=\"214,-610 164,-610 160,-606 160,-574 210,-574 214,-578 214,-610\"/>\n<polyline fill=\"none\" stroke=\"orange\" points=\"210,-606 160,-606 \"/>\n<polyline fill=\"none\" stroke=\"orange\" points=\"210,-606 210,-574 \"/>\n<polyline fill=\"none\" stroke=\"orange\" points=\"210,-606 214,-610 \"/>\n<text text-anchor=\"middle\" x=\"187\" y=\"-588.3\" font-family=\"Times,serif\" font-size=\"14.00\">Day 3</text>\n</g>\n<!-- 3Early2 -->\n<g id=\"node8\" class=\"node\">\n<title>3Early2</title>\n<polygon fill=\"none\" stroke=\"purple\" points=\"214,-538 164,-538 160,-534 160,-502 210,-502 214,-506 214,-538\"/>\n<polyline fill=\"none\" stroke=\"purple\" points=\"210,-534 160,-534 \"/>\n<polyline fill=\"none\" stroke=\"purple\" points=\"210,-534 210,-502 \"/>\n<polyline fill=\"none\" stroke=\"purple\" points=\"210,-534 214,-538 \"/>\n<text text-anchor=\"middle\" x=\"187\" y=\"-516.3\" font-family=\"Times,serif\" font-size=\"14.00\">Early</text>\n</g>\n<!-- 3&#45;&gt;3Early2 -->\n<g id=\"edge8\" class=\"edge\">\n<title>3&#45;&gt;3Early2</title>\n<path fill=\"none\" stroke=\"black\" d=\"M187,-573.7C187,-565.98 187,-556.71 187,-548.11\"/>\n<polygon fill=\"black\" stroke=\"black\" points=\"190.5,-548.1 187,-538.1 183.5,-548.1 190.5,-548.1\"/>\n</g>\n<!-- 4 -->\n<g id=\"node9\" class=\"node\">\n<title>4</title>\n<polygon fill=\"none\" stroke=\"orange\" points=\"142,-610 92,-610 88,-606 88,-574 138,-574 142,-578 142,-610\"/>\n<polyline fill=\"none\" stroke=\"orange\" points=\"138,-606 88,-606 \"/>\n<polyline fill=\"none\" stroke=\"orange\" points=\"138,-606 138,-574 \"/>\n<polyline fill=\"none\" stroke=\"orange\" points=\"138,-606 142,-610 \"/>\n<text text-anchor=\"middle\" x=\"115\" y=\"-588.3\" font-family=\"Times,serif\" font-size=\"14.00\">Day 2</text>\n</g>\n<!-- 4Early2 -->\n<g id=\"node10\" class=\"node\">\n<title>4Early2</title>\n<polygon fill=\"none\" stroke=\"purple\" points=\"142,-538 92,-538 88,-534 88,-502 138,-502 142,-506 142,-538\"/>\n<polyline fill=\"none\" stroke=\"purple\" points=\"138,-534 88,-534 \"/>\n<polyline fill=\"none\" stroke=\"purple\" points=\"138,-534 138,-502 \"/>\n<polyline fill=\"none\" stroke=\"purple\" points=\"138,-534 142,-538 \"/>\n<text text-anchor=\"middle\" x=\"115\" y=\"-516.3\" font-family=\"Times,serif\" font-size=\"14.00\">Early</text>\n</g>\n<!-- 4&#45;&gt;4Early2 -->\n<g id=\"edge9\" class=\"edge\">\n<title>4&#45;&gt;4Early2</title>\n<path fill=\"none\" stroke=\"black\" d=\"M115,-573.7C115,-565.98 115,-556.71 115,-548.11\"/>\n<polygon fill=\"black\" stroke=\"black\" points=\"118.5,-548.1 115,-538.1 111.5,-548.1 118.5,-548.1\"/>\n</g>\n<!-- 5Early2 -->\n<g id=\"node12\" class=\"node\">\n<title>5Early2</title>\n<polygon fill=\"none\" stroke=\"purple\" points=\"70,-538 20,-538 16,-534 16,-502 66,-502 70,-506 70,-538\"/>\n<polyline fill=\"none\" stroke=\"purple\" points=\"66,-534 16,-534 \"/>\n<polyline fill=\"none\" stroke=\"purple\" points=\"66,-534 66,-502 \"/>\n<polyline fill=\"none\" stroke=\"purple\" points=\"66,-534 70,-538 \"/>\n<text text-anchor=\"middle\" x=\"43\" y=\"-516.3\" font-family=\"Times,serif\" font-size=\"14.00\">Early</text>\n</g>\n<!-- 5&#45;&gt;5Early2 -->\n<g id=\"edge10\" class=\"edge\">\n<title>5&#45;&gt;5Early2</title>\n<path fill=\"none\" stroke=\"black\" d=\"M43,-573.7C43,-565.98 43,-556.71 43,-548.11\"/>\n<polygon fill=\"black\" stroke=\"black\" points=\"46.5,-548.1 43,-538.1 39.5,-548.1 46.5,-548.1\"/>\n</g>\n<!-- 10 -->\n<g id=\"node21\" class=\"node\">\n<title>10</title>\n<polygon fill=\"none\" stroke=\"orange\" points=\"70,-448 20,-448 16,-444 16,-412 66,-412 70,-416 70,-448\"/>\n<polyline fill=\"none\" stroke=\"orange\" points=\"66,-444 16,-444 \"/>\n<polyline fill=\"none\" stroke=\"orange\" points=\"66,-444 66,-412 \"/>\n<polyline fill=\"none\" stroke=\"orange\" points=\"66,-444 70,-448 \"/>\n<text text-anchor=\"middle\" x=\"43\" y=\"-426.3\" font-family=\"Times,serif\" font-size=\"14.00\">Day 1</text>\n</g>\n<!-- 5Early2&#45;&gt;10 -->\n<!-- 6 -->\n<g id=\"node13\" class=\"node\">\n<title>6</title>\n<polygon fill=\"none\" stroke=\"orange\" points=\"358,-448 308,-448 304,-444 304,-412 354,-412 358,-416 358,-448\"/>\n<polyline fill=\"none\" stroke=\"orange\" points=\"354,-444 304,-444 \"/>\n<polyline fill=\"none\" stroke=\"orange\" points=\"354,-444 354,-412 \"/>\n<polyline fill=\"none\" stroke=\"orange\" points=\"354,-444 358,-448 \"/>\n<text text-anchor=\"middle\" x=\"331\" y=\"-426.3\" font-family=\"Times,serif\" font-size=\"14.00\">Day 6</text>\n</g>\n<!-- 6Late3 -->\n<g id=\"node14\" class=\"node\">\n<title>6Late3</title>\n<polygon fill=\"none\" stroke=\"purple\" points=\"358,-376 308,-376 304,-372 304,-340 354,-340 358,-344 358,-376\"/>\n<polyline fill=\"none\" stroke=\"purple\" points=\"354,-372 304,-372 \"/>\n<polyline fill=\"none\" stroke=\"purple\" points=\"354,-372 354,-340 \"/>\n<polyline fill=\"none\" stroke=\"purple\" points=\"354,-372 358,-376 \"/>\n<text text-anchor=\"middle\" x=\"331\" y=\"-354.3\" font-family=\"Times,serif\" font-size=\"14.00\">Late</text>\n</g>\n<!-- 6&#45;&gt;6Late3 -->\n<g id=\"edge11\" class=\"edge\">\n<title>6&#45;&gt;6Late3</title>\n<path fill=\"none\" stroke=\"black\" d=\"M331,-411.7C331,-403.98 331,-394.71 331,-386.11\"/>\n<polygon fill=\"black\" stroke=\"black\" points=\"334.5,-386.1 331,-376.1 327.5,-386.1 334.5,-386.1\"/>\n</g>\n<!-- 7 -->\n<g id=\"node15\" class=\"node\">\n<title>7</title>\n<polygon fill=\"none\" stroke=\"orange\" points=\"286,-448 236,-448 232,-444 232,-412 282,-412 286,-416 286,-448\"/>\n<polyline fill=\"none\" stroke=\"orange\" points=\"282,-444 232,-444 \"/>\n<polyline fill=\"none\" stroke=\"orange\" points=\"282,-444 282,-412 \"/>\n<polyline fill=\"none\" stroke=\"orange\" points=\"282,-444 286,-448 \"/>\n<text text-anchor=\"middle\" x=\"259\" y=\"-426.3\" font-family=\"Times,serif\" font-size=\"14.00\">Day 5</text>\n</g>\n<!-- 7Late3 -->\n<g id=\"node16\" class=\"node\">\n<title>7Late3</title>\n<polygon fill=\"none\" stroke=\"purple\" points=\"286,-376 236,-376 232,-372 232,-340 282,-340 286,-344 286,-376\"/>\n<polyline fill=\"none\" stroke=\"purple\" points=\"282,-372 232,-372 \"/>\n<polyline fill=\"none\" stroke=\"purple\" points=\"282,-372 282,-340 \"/>\n<polyline fill=\"none\" stroke=\"purple\" points=\"282,-372 286,-376 \"/>\n<text text-anchor=\"middle\" x=\"259\" y=\"-354.3\" font-family=\"Times,serif\" font-size=\"14.00\">Late</text>\n</g>\n<!-- 7&#45;&gt;7Late3 -->\n<g id=\"edge12\" class=\"edge\">\n<title>7&#45;&gt;7Late3</title>\n<path fill=\"none\" stroke=\"black\" d=\"M259,-411.7C259,-403.98 259,-394.71 259,-386.11\"/>\n<polygon fill=\"black\" stroke=\"black\" points=\"262.5,-386.1 259,-376.1 255.5,-386.1 262.5,-386.1\"/>\n</g>\n<!-- 8 -->\n<g id=\"node17\" class=\"node\">\n<title>8</title>\n<polygon fill=\"none\" stroke=\"orange\" points=\"214,-448 164,-448 160,-444 160,-412 210,-412 214,-416 214,-448\"/>\n<polyline fill=\"none\" stroke=\"orange\" points=\"210,-444 160,-444 \"/>\n<polyline fill=\"none\" stroke=\"orange\" points=\"210,-444 210,-412 \"/>\n<polyline fill=\"none\" stroke=\"orange\" points=\"210,-444 214,-448 \"/>\n<text text-anchor=\"middle\" x=\"187\" y=\"-426.3\" font-family=\"Times,serif\" font-size=\"14.00\">Day 3</text>\n</g>\n<!-- 8Late3 -->\n<g id=\"node18\" class=\"node\">\n<title>8Late3</title>\n<polygon fill=\"none\" stroke=\"purple\" points=\"214,-376 164,-376 160,-372 160,-340 210,-340 214,-344 214,-376\"/>\n<polyline fill=\"none\" stroke=\"purple\" points=\"210,-372 160,-372 \"/>\n<polyline fill=\"none\" stroke=\"purple\" points=\"210,-372 210,-340 \"/>\n<polyline fill=\"none\" stroke=\"purple\" points=\"210,-372 214,-376 \"/>\n<text text-anchor=\"middle\" x=\"187\" y=\"-354.3\" font-family=\"Times,serif\" font-size=\"14.00\">Late</text>\n</g>\n<!-- 8&#45;&gt;8Late3 -->\n<g id=\"edge13\" class=\"edge\">\n<title>8&#45;&gt;8Late3</title>\n<path fill=\"none\" stroke=\"black\" d=\"M187,-411.7C187,-403.98 187,-394.71 187,-386.11\"/>\n<polygon fill=\"black\" stroke=\"black\" points=\"190.5,-386.1 187,-376.1 183.5,-386.1 190.5,-386.1\"/>\n</g>\n<!-- 9 -->\n<g id=\"node19\" class=\"node\">\n<title>9</title>\n<polygon fill=\"none\" stroke=\"orange\" points=\"142,-448 92,-448 88,-444 88,-412 138,-412 142,-416 142,-448\"/>\n<polyline fill=\"none\" stroke=\"orange\" points=\"138,-444 88,-444 \"/>\n<polyline fill=\"none\" stroke=\"orange\" points=\"138,-444 138,-412 \"/>\n<polyline fill=\"none\" stroke=\"orange\" points=\"138,-444 142,-448 \"/>\n<text text-anchor=\"middle\" x=\"115\" y=\"-426.3\" font-family=\"Times,serif\" font-size=\"14.00\">Day 2</text>\n</g>\n<!-- 9Late3 -->\n<g id=\"node20\" class=\"node\">\n<title>9Late3</title>\n<polygon fill=\"none\" stroke=\"purple\" points=\"142,-376 92,-376 88,-372 88,-340 138,-340 142,-344 142,-376\"/>\n<polyline fill=\"none\" stroke=\"purple\" points=\"138,-372 88,-372 \"/>\n<polyline fill=\"none\" stroke=\"purple\" points=\"138,-372 138,-340 \"/>\n<polyline fill=\"none\" stroke=\"purple\" points=\"138,-372 142,-376 \"/>\n<text text-anchor=\"middle\" x=\"115\" y=\"-354.3\" font-family=\"Times,serif\" font-size=\"14.00\">Late</text>\n</g>\n<!-- 9&#45;&gt;9Late3 -->\n<g id=\"edge14\" class=\"edge\">\n<title>9&#45;&gt;9Late3</title>\n<path fill=\"none\" stroke=\"black\" d=\"M115,-411.7C115,-403.98 115,-394.71 115,-386.11\"/>\n<polygon fill=\"black\" stroke=\"black\" points=\"118.5,-386.1 115,-376.1 111.5,-386.1 118.5,-386.1\"/>\n</g>\n<!-- 10Early3 -->\n<g id=\"node22\" class=\"node\">\n<title>10Early3</title>\n<polygon fill=\"none\" stroke=\"purple\" points=\"70,-376 20,-376 16,-372 16,-340 66,-340 70,-344 70,-376\"/>\n<polyline fill=\"none\" stroke=\"purple\" points=\"66,-372 16,-372 \"/>\n<polyline fill=\"none\" stroke=\"purple\" points=\"66,-372 66,-340 \"/>\n<polyline fill=\"none\" stroke=\"purple\" points=\"66,-372 70,-376 \"/>\n<text text-anchor=\"middle\" x=\"43\" y=\"-354.3\" font-family=\"Times,serif\" font-size=\"14.00\">Early</text>\n</g>\n<!-- 10&#45;&gt;10Early3 -->\n<g id=\"edge15\" class=\"edge\">\n<title>10&#45;&gt;10Early3</title>\n<path fill=\"none\" stroke=\"black\" d=\"M43,-411.7C43,-403.98 43,-394.71 43,-386.11\"/>\n<polygon fill=\"black\" stroke=\"black\" points=\"46.5,-386.1 43,-376.1 39.5,-386.1 46.5,-386.1\"/>\n</g>\n<!-- 16 -->\n<g id=\"node33\" class=\"node\">\n<title>16</title>\n<polygon fill=\"none\" stroke=\"orange\" points=\"70,-286 20,-286 16,-282 16,-250 66,-250 70,-254 70,-286\"/>\n<polyline fill=\"none\" stroke=\"orange\" points=\"66,-282 16,-282 \"/>\n<polyline fill=\"none\" stroke=\"orange\" points=\"66,-282 66,-250 \"/>\n<polyline fill=\"none\" stroke=\"orange\" points=\"66,-282 70,-286 \"/>\n<text text-anchor=\"middle\" x=\"43\" y=\"-264.3\" font-family=\"Times,serif\" font-size=\"14.00\">Day 1</text>\n</g>\n<!-- 10Early3&#45;&gt;16 -->\n<!-- 11 -->\n<g id=\"node23\" class=\"node\">\n<title>11</title>\n<polygon fill=\"none\" stroke=\"orange\" points=\"430,-286 380,-286 376,-282 376,-250 426,-250 430,-254 430,-286\"/>\n<polyline fill=\"none\" stroke=\"orange\" points=\"426,-282 376,-282 \"/>\n<polyline fill=\"none\" stroke=\"orange\" points=\"426,-282 426,-250 \"/>\n<polyline fill=\"none\" stroke=\"orange\" points=\"426,-282 430,-286 \"/>\n<text text-anchor=\"middle\" x=\"403\" y=\"-264.3\" font-family=\"Times,serif\" font-size=\"14.00\">Day 7</text>\n</g>\n<!-- 11Night4 -->\n<g id=\"node24\" class=\"node\">\n<title>11Night4</title>\n<polygon fill=\"none\" stroke=\"purple\" points=\"430,-214 380,-214 376,-210 376,-178 426,-178 430,-182 430,-214\"/>\n<polyline fill=\"none\" stroke=\"purple\" points=\"426,-210 376,-210 \"/>\n<polyline fill=\"none\" stroke=\"purple\" points=\"426,-210 426,-178 \"/>\n<polyline fill=\"none\" stroke=\"purple\" points=\"426,-210 430,-214 \"/>\n<text text-anchor=\"middle\" x=\"403\" y=\"-192.3\" font-family=\"Times,serif\" font-size=\"14.00\">Night</text>\n</g>\n<!-- 11&#45;&gt;11Night4 -->\n<g id=\"edge16\" class=\"edge\">\n<title>11&#45;&gt;11Night4</title>\n<path fill=\"none\" stroke=\"black\" d=\"M403,-249.7C403,-241.98 403,-232.71 403,-224.11\"/>\n<polygon fill=\"black\" stroke=\"black\" points=\"406.5,-224.1 403,-214.1 399.5,-224.1 406.5,-224.1\"/>\n</g>\n<!-- 12 -->\n<g id=\"node25\" class=\"node\">\n<title>12</title>\n<polygon fill=\"none\" stroke=\"orange\" points=\"358,-286 308,-286 304,-282 304,-250 354,-250 358,-254 358,-286\"/>\n<polyline fill=\"none\" stroke=\"orange\" points=\"354,-282 304,-282 \"/>\n<polyline fill=\"none\" stroke=\"orange\" points=\"354,-282 354,-250 \"/>\n<polyline fill=\"none\" stroke=\"orange\" points=\"354,-282 358,-286 \"/>\n<text text-anchor=\"middle\" x=\"331\" y=\"-264.3\" font-family=\"Times,serif\" font-size=\"14.00\">Day 6</text>\n</g>\n<!-- 12Night4 -->\n<g id=\"node26\" class=\"node\">\n<title>12Night4</title>\n<polygon fill=\"none\" stroke=\"purple\" points=\"358,-214 308,-214 304,-210 304,-178 354,-178 358,-182 358,-214\"/>\n<polyline fill=\"none\" stroke=\"purple\" points=\"354,-210 304,-210 \"/>\n<polyline fill=\"none\" stroke=\"purple\" points=\"354,-210 354,-178 \"/>\n<polyline fill=\"none\" stroke=\"purple\" points=\"354,-210 358,-214 \"/>\n<text text-anchor=\"middle\" x=\"331\" y=\"-192.3\" font-family=\"Times,serif\" font-size=\"14.00\">Night</text>\n</g>\n<!-- 12&#45;&gt;12Night4 -->\n<g id=\"edge17\" class=\"edge\">\n<title>12&#45;&gt;12Night4</title>\n<path fill=\"none\" stroke=\"black\" d=\"M331,-249.7C331,-241.98 331,-232.71 331,-224.11\"/>\n<polygon fill=\"black\" stroke=\"black\" points=\"334.5,-224.1 331,-214.1 327.5,-224.1 334.5,-224.1\"/>\n</g>\n<!-- 13 -->\n<g id=\"node27\" class=\"node\">\n<title>13</title>\n<polygon fill=\"none\" stroke=\"orange\" points=\"286,-286 236,-286 232,-282 232,-250 282,-250 286,-254 286,-286\"/>\n<polyline fill=\"none\" stroke=\"orange\" points=\"282,-282 232,-282 \"/>\n<polyline fill=\"none\" stroke=\"orange\" points=\"282,-282 282,-250 \"/>\n<polyline fill=\"none\" stroke=\"orange\" points=\"282,-282 286,-286 \"/>\n<text text-anchor=\"middle\" x=\"259\" y=\"-264.3\" font-family=\"Times,serif\" font-size=\"14.00\">Day 5</text>\n</g>\n<!-- 13Night4 -->\n<g id=\"node28\" class=\"node\">\n<title>13Night4</title>\n<polygon fill=\"none\" stroke=\"purple\" points=\"286,-214 236,-214 232,-210 232,-178 282,-178 286,-182 286,-214\"/>\n<polyline fill=\"none\" stroke=\"purple\" points=\"282,-210 232,-210 \"/>\n<polyline fill=\"none\" stroke=\"purple\" points=\"282,-210 282,-178 \"/>\n<polyline fill=\"none\" stroke=\"purple\" points=\"282,-210 286,-214 \"/>\n<text text-anchor=\"middle\" x=\"259\" y=\"-192.3\" font-family=\"Times,serif\" font-size=\"14.00\">Night</text>\n</g>\n<!-- 13&#45;&gt;13Night4 -->\n<g id=\"edge18\" class=\"edge\">\n<title>13&#45;&gt;13Night4</title>\n<path fill=\"none\" stroke=\"black\" d=\"M259,-249.7C259,-241.98 259,-232.71 259,-224.11\"/>\n<polygon fill=\"black\" stroke=\"black\" points=\"262.5,-224.1 259,-214.1 255.5,-224.1 262.5,-224.1\"/>\n</g>\n<!-- 14 -->\n<g id=\"node29\" class=\"node\">\n<title>14</title>\n<polygon fill=\"none\" stroke=\"orange\" points=\"214,-286 164,-286 160,-282 160,-250 210,-250 214,-254 214,-286\"/>\n<polyline fill=\"none\" stroke=\"orange\" points=\"210,-282 160,-282 \"/>\n<polyline fill=\"none\" stroke=\"orange\" points=\"210,-282 210,-250 \"/>\n<polyline fill=\"none\" stroke=\"orange\" points=\"210,-282 214,-286 \"/>\n<text text-anchor=\"middle\" x=\"187\" y=\"-264.3\" font-family=\"Times,serif\" font-size=\"14.00\">Day 3</text>\n</g>\n<!-- 14Night4 -->\n<g id=\"node30\" class=\"node\">\n<title>14Night4</title>\n<polygon fill=\"none\" stroke=\"purple\" points=\"214,-214 164,-214 160,-210 160,-178 210,-178 214,-182 214,-214\"/>\n<polyline fill=\"none\" stroke=\"purple\" points=\"210,-210 160,-210 \"/>\n<polyline fill=\"none\" stroke=\"purple\" points=\"210,-210 210,-178 \"/>\n<polyline fill=\"none\" stroke=\"purple\" points=\"210,-210 214,-214 \"/>\n<text text-anchor=\"middle\" x=\"187\" y=\"-192.3\" font-family=\"Times,serif\" font-size=\"14.00\">Night</text>\n</g>\n<!-- 14&#45;&gt;14Night4 -->\n<g id=\"edge19\" class=\"edge\">\n<title>14&#45;&gt;14Night4</title>\n<path fill=\"none\" stroke=\"black\" d=\"M187,-249.7C187,-241.98 187,-232.71 187,-224.11\"/>\n<polygon fill=\"black\" stroke=\"black\" points=\"190.5,-224.1 187,-214.1 183.5,-224.1 190.5,-224.1\"/>\n</g>\n<!-- 15 -->\n<g id=\"node31\" class=\"node\">\n<title>15</title>\n<polygon fill=\"none\" stroke=\"orange\" points=\"142,-286 92,-286 88,-282 88,-250 138,-250 142,-254 142,-286\"/>\n<polyline fill=\"none\" stroke=\"orange\" points=\"138,-282 88,-282 \"/>\n<polyline fill=\"none\" stroke=\"orange\" points=\"138,-282 138,-250 \"/>\n<polyline fill=\"none\" stroke=\"orange\" points=\"138,-282 142,-286 \"/>\n<text text-anchor=\"middle\" x=\"115\" y=\"-264.3\" font-family=\"Times,serif\" font-size=\"14.00\">Day 2</text>\n</g>\n<!-- 15Night4 -->\n<g id=\"node32\" class=\"node\">\n<title>15Night4</title>\n<polygon fill=\"none\" stroke=\"purple\" points=\"142,-214 92,-214 88,-210 88,-178 138,-178 142,-182 142,-214\"/>\n<polyline fill=\"none\" stroke=\"purple\" points=\"138,-210 88,-210 \"/>\n<polyline fill=\"none\" stroke=\"purple\" points=\"138,-210 138,-178 \"/>\n<polyline fill=\"none\" stroke=\"purple\" points=\"138,-210 142,-214 \"/>\n<text text-anchor=\"middle\" x=\"115\" y=\"-192.3\" font-family=\"Times,serif\" font-size=\"14.00\">Night</text>\n</g>\n<!-- 15&#45;&gt;15Night4 -->\n<g id=\"edge20\" class=\"edge\">\n<title>15&#45;&gt;15Night4</title>\n<path fill=\"none\" stroke=\"black\" d=\"M115,-249.7C115,-241.98 115,-232.71 115,-224.11\"/>\n<polygon fill=\"black\" stroke=\"black\" points=\"118.5,-224.1 115,-214.1 111.5,-224.1 118.5,-224.1\"/>\n</g>\n<!-- 16Late4 -->\n<g id=\"node34\" class=\"node\">\n<title>16Late4</title>\n<polygon fill=\"none\" stroke=\"purple\" points=\"70,-214 20,-214 16,-210 16,-178 66,-178 70,-182 70,-214\"/>\n<polyline fill=\"none\" stroke=\"purple\" points=\"66,-210 16,-210 \"/>\n<polyline fill=\"none\" stroke=\"purple\" points=\"66,-210 66,-178 \"/>\n<polyline fill=\"none\" stroke=\"purple\" points=\"66,-210 70,-214 \"/>\n<text text-anchor=\"middle\" x=\"43\" y=\"-192.3\" font-family=\"Times,serif\" font-size=\"14.00\">Late</text>\n</g>\n<!-- 16&#45;&gt;16Late4 -->\n<g id=\"edge21\" class=\"edge\">\n<title>16&#45;&gt;16Late4</title>\n<path fill=\"none\" stroke=\"black\" d=\"M43,-249.7C43,-241.98 43,-232.71 43,-224.11\"/>\n<polygon fill=\"black\" stroke=\"black\" points=\"46.5,-224.1 43,-214.1 39.5,-224.1 46.5,-224.1\"/>\n</g>\n<!-- 21 -->\n<g id=\"node43\" class=\"node\">\n<title>21</title>\n<polygon fill=\"none\" stroke=\"orange\" points=\"70,-124 20,-124 16,-120 16,-88 66,-88 70,-92 70,-124\"/>\n<polyline fill=\"none\" stroke=\"orange\" points=\"66,-120 16,-120 \"/>\n<polyline fill=\"none\" stroke=\"orange\" points=\"66,-120 66,-88 \"/>\n<polyline fill=\"none\" stroke=\"orange\" points=\"66,-120 70,-124 \"/>\n<text text-anchor=\"middle\" x=\"43\" y=\"-102.3\" font-family=\"Times,serif\" font-size=\"14.00\">Day 1</text>\n</g>\n<!-- 16Late4&#45;&gt;21 -->\n<!-- 17 -->\n<g id=\"node35\" class=\"node\">\n<title>17</title>\n<polygon fill=\"none\" stroke=\"orange\" points=\"358,-124 308,-124 304,-120 304,-88 354,-88 358,-92 358,-124\"/>\n<polyline fill=\"none\" stroke=\"orange\" points=\"354,-120 304,-120 \"/>\n<polyline fill=\"none\" stroke=\"orange\" points=\"354,-120 354,-88 \"/>\n<polyline fill=\"none\" stroke=\"orange\" points=\"354,-120 358,-124 \"/>\n<text text-anchor=\"middle\" x=\"331\" y=\"-102.3\" font-family=\"Times,serif\" font-size=\"14.00\">Day 7</text>\n</g>\n<!-- 17Late5 -->\n<g id=\"node36\" class=\"node\">\n<title>17Late5</title>\n<polygon fill=\"none\" stroke=\"purple\" points=\"358,-52 308,-52 304,-48 304,-16 354,-16 358,-20 358,-52\"/>\n<polyline fill=\"none\" stroke=\"purple\" points=\"354,-48 304,-48 \"/>\n<polyline fill=\"none\" stroke=\"purple\" points=\"354,-48 354,-16 \"/>\n<polyline fill=\"none\" stroke=\"purple\" points=\"354,-48 358,-52 \"/>\n<text text-anchor=\"middle\" x=\"331\" y=\"-30.3\" font-family=\"Times,serif\" font-size=\"14.00\">Late</text>\n</g>\n<!-- 17&#45;&gt;17Late5 -->\n<g id=\"edge22\" class=\"edge\">\n<title>17&#45;&gt;17Late5</title>\n<path fill=\"none\" stroke=\"black\" d=\"M331,-87.7C331,-79.98 331,-70.71 331,-62.11\"/>\n<polygon fill=\"black\" stroke=\"black\" points=\"334.5,-62.1 331,-52.1 327.5,-62.1 334.5,-62.1\"/>\n</g>\n<!-- 18 -->\n<g id=\"node37\" class=\"node\">\n<title>18</title>\n<polygon fill=\"none\" stroke=\"orange\" points=\"286,-124 236,-124 232,-120 232,-88 282,-88 286,-92 286,-124\"/>\n<polyline fill=\"none\" stroke=\"orange\" points=\"282,-120 232,-120 \"/>\n<polyline fill=\"none\" stroke=\"orange\" points=\"282,-120 282,-88 \"/>\n<polyline fill=\"none\" stroke=\"orange\" points=\"282,-120 286,-124 \"/>\n<text text-anchor=\"middle\" x=\"259\" y=\"-102.3\" font-family=\"Times,serif\" font-size=\"14.00\">Day 5</text>\n</g>\n<!-- 18Night5 -->\n<g id=\"node38\" class=\"node\">\n<title>18Night5</title>\n<polygon fill=\"none\" stroke=\"purple\" points=\"286,-52 236,-52 232,-48 232,-16 282,-16 286,-20 286,-52\"/>\n<polyline fill=\"none\" stroke=\"purple\" points=\"282,-48 232,-48 \"/>\n<polyline fill=\"none\" stroke=\"purple\" points=\"282,-48 282,-16 \"/>\n<polyline fill=\"none\" stroke=\"purple\" points=\"282,-48 286,-52 \"/>\n<text text-anchor=\"middle\" x=\"259\" y=\"-30.3\" font-family=\"Times,serif\" font-size=\"14.00\">Night</text>\n</g>\n<!-- 18&#45;&gt;18Night5 -->\n<g id=\"edge23\" class=\"edge\">\n<title>18&#45;&gt;18Night5</title>\n<path fill=\"none\" stroke=\"black\" d=\"M259,-87.7C259,-79.98 259,-70.71 259,-62.11\"/>\n<polygon fill=\"black\" stroke=\"black\" points=\"262.5,-62.1 259,-52.1 255.5,-62.1 262.5,-62.1\"/>\n</g>\n<!-- 19 -->\n<g id=\"node39\" class=\"node\">\n<title>19</title>\n<polygon fill=\"none\" stroke=\"orange\" points=\"214,-124 164,-124 160,-120 160,-88 210,-88 214,-92 214,-124\"/>\n<polyline fill=\"none\" stroke=\"orange\" points=\"210,-120 160,-120 \"/>\n<polyline fill=\"none\" stroke=\"orange\" points=\"210,-120 210,-88 \"/>\n<polyline fill=\"none\" stroke=\"orange\" points=\"210,-120 214,-124 \"/>\n<text text-anchor=\"middle\" x=\"187\" y=\"-102.3\" font-family=\"Times,serif\" font-size=\"14.00\">Day 4</text>\n</g>\n<!-- 19Night5 -->\n<g id=\"node40\" class=\"node\">\n<title>19Night5</title>\n<polygon fill=\"none\" stroke=\"purple\" points=\"214,-52 164,-52 160,-48 160,-16 210,-16 214,-20 214,-52\"/>\n<polyline fill=\"none\" stroke=\"purple\" points=\"210,-48 160,-48 \"/>\n<polyline fill=\"none\" stroke=\"purple\" points=\"210,-48 210,-16 \"/>\n<polyline fill=\"none\" stroke=\"purple\" points=\"210,-48 214,-52 \"/>\n<text text-anchor=\"middle\" x=\"187\" y=\"-30.3\" font-family=\"Times,serif\" font-size=\"14.00\">Night</text>\n</g>\n<!-- 19&#45;&gt;19Night5 -->\n<g id=\"edge24\" class=\"edge\">\n<title>19&#45;&gt;19Night5</title>\n<path fill=\"none\" stroke=\"black\" d=\"M187,-87.7C187,-79.98 187,-70.71 187,-62.11\"/>\n<polygon fill=\"black\" stroke=\"black\" points=\"190.5,-62.1 187,-52.1 183.5,-62.1 190.5,-62.1\"/>\n</g>\n<!-- 20 -->\n<g id=\"node41\" class=\"node\">\n<title>20</title>\n<polygon fill=\"none\" stroke=\"orange\" points=\"142,-124 92,-124 88,-120 88,-88 138,-88 142,-92 142,-124\"/>\n<polyline fill=\"none\" stroke=\"orange\" points=\"138,-120 88,-120 \"/>\n<polyline fill=\"none\" stroke=\"orange\" points=\"138,-120 138,-88 \"/>\n<polyline fill=\"none\" stroke=\"orange\" points=\"138,-120 142,-124 \"/>\n<text text-anchor=\"middle\" x=\"115\" y=\"-102.3\" font-family=\"Times,serif\" font-size=\"14.00\">Day 2</text>\n</g>\n<!-- 20Night5 -->\n<g id=\"node42\" class=\"node\">\n<title>20Night5</title>\n<polygon fill=\"none\" stroke=\"purple\" points=\"142,-52 92,-52 88,-48 88,-16 138,-16 142,-20 142,-52\"/>\n<polyline fill=\"none\" stroke=\"purple\" points=\"138,-48 88,-48 \"/>\n<polyline fill=\"none\" stroke=\"purple\" points=\"138,-48 138,-16 \"/>\n<polyline fill=\"none\" stroke=\"purple\" points=\"138,-48 142,-52 \"/>\n<text text-anchor=\"middle\" x=\"115\" y=\"-30.3\" font-family=\"Times,serif\" font-size=\"14.00\">Night</text>\n</g>\n<!-- 20&#45;&gt;20Night5 -->\n<g id=\"edge25\" class=\"edge\">\n<title>20&#45;&gt;20Night5</title>\n<path fill=\"none\" stroke=\"black\" d=\"M115,-87.7C115,-79.98 115,-70.71 115,-62.11\"/>\n<polygon fill=\"black\" stroke=\"black\" points=\"118.5,-62.1 115,-52.1 111.5,-62.1 118.5,-62.1\"/>\n</g>\n<!-- 21Late5 -->\n<g id=\"node44\" class=\"node\">\n<title>21Late5</title>\n<polygon fill=\"none\" stroke=\"purple\" points=\"70,-52 20,-52 16,-48 16,-16 66,-16 70,-20 70,-52\"/>\n<polyline fill=\"none\" stroke=\"purple\" points=\"66,-48 16,-48 \"/>\n<polyline fill=\"none\" stroke=\"purple\" points=\"66,-48 66,-16 \"/>\n<polyline fill=\"none\" stroke=\"purple\" points=\"66,-48 70,-52 \"/>\n<text text-anchor=\"middle\" x=\"43\" y=\"-30.3\" font-family=\"Times,serif\" font-size=\"14.00\">Late</text>\n</g>\n<!-- 21&#45;&gt;21Late5 -->\n<g id=\"edge26\" class=\"edge\">\n<title>21&#45;&gt;21Late5</title>\n<path fill=\"none\" stroke=\"black\" d=\"M43,-87.7C43,-79.98 43,-70.71 43,-62.11\"/>\n<polygon fill=\"black\" stroke=\"black\" points=\"46.5,-62.1 43,-52.1 39.5,-62.1 46.5,-62.1\"/>\n</g>\n</g>\n</svg>\n"
          },
          "metadata": {},
          "execution_count": 59
        }
      ],
      "source": [
        "p = graphviz.Digraph('parent')\n",
        "p.attr(compound='true')\n",
        "p.attr(rankdir=\"TB\")\n",
        "\n",
        "nNurses = 5;\n",
        "edges = []\n",
        "id = 0\n",
        "\n",
        "roster = sorted(roster, key=lambda item: item[0][0])\n",
        "roster.reverse()\n",
        "       \n",
        "for nurse in range (1, nNurses+1):\n",
        "    with p.subgraph(name='cluster'+str(nurse), node_attr={'shape': 'box3d', 'color': 'purple', 'style':'rounded'}) as c:\n",
        "      \n",
        "      for item in roster:\n",
        "        #if it is the selected nurse\n",
        "        if item[0][1] == nurse:\n",
        "          \n",
        "          #add the day\n",
        "          c.node(str(id), \"Day \" + str(item[0][0]), color='orange')\n",
        "\n",
        "          #add the time of day\n",
        "          c.node((str(id) + str(item[1]))+str(nurse), item[1])\n",
        "          \n",
        "          #add the edge\n",
        "          edges.append([str(id), (str(id) + str(item[1]))+str(nurse)])\n",
        "          id=id+1\n",
        "      c.attr(label=\"Nurse \"+str(nurse))\n",
        "      c.attr(style='rounded')\n",
        "      c.attr(fontsize='20')\n",
        "\n",
        "\n",
        "\n",
        "# force each subgraph to be on new line\n",
        "p.edge('0Early1', '5', None, {'style':'invis'})\n",
        "p.edge('5Early2', '10', None, {'style':'invis'})\n",
        "p.edge('10Early3', '16', None, {'style':'invis'})\n",
        "p.edge('16Late4', '21', None, {'style':'invis'})\n",
        "\n",
        "p.edges(edges)\n",
        "\n",
        "p"
      ]
    }
  ],
  "metadata": {
    "colab": {
      "collapsed_sections": [
        "qsGFV5Dv_OOQ"
      ],
      "provenance": [],
      "include_colab_link": true
    },
    "kernelspec": {
      "display_name": "Python 3",
      "name": "python3"
    },
    "language_info": {
      "name": "python"
    }
  },
  "nbformat": 4,
  "nbformat_minor": 0
}